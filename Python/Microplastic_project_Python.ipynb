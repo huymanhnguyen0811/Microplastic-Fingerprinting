{
 "cells": [
  {
   "cell_type": "markdown",
   "id": "70cb12fa",
   "metadata": {},
   "source": [
    "## Table of contents\n",
    "\n",
    "* [Loading packages](#loading_packages)\n",
    "    * [Section 1.1: Excel file name explanation](#excelexplain)\n",
    "    * [Section 1.2: Loading packages](#loading_packages)\n",
    "* [Random Forest](#rf)\n",
    "* [Gradient Boosting Machine](#gbm)\n",
    "* [SVM](#svm)\n",
    "* [Penalized Multinomial Logistic Regression](#multinom)\n",
    "* [Deep Neural Network](#dnn)"
   ]
  },
  {
   "cell_type": "markdown",
   "id": "b6bd8718",
   "metadata": {},
   "source": [
    "#### Excel file name explanation <a class=\"anchor\" id=\"excelexplain\"></a>"
   ]
  },
  {
   "cell_type": "markdown",
   "id": "9a27a54b",
   "metadata": {},
   "source": [
    "- USSB are Store-bought samples\n",
    "- USE are Environmental samples"
   ]
  },
  {
   "cell_type": "markdown",
   "id": "9a517201",
   "metadata": {},
   "source": [
    "### Loading packages <a class=\"anchor\" id=\"loading_packages\"></a>"
   ]
  },
  {
   "cell_type": "code",
   "execution_count": 22,
   "id": "38a89ced",
   "metadata": {},
   "outputs": [],
   "source": [
    "import numpy as np\n",
    "import pandas as pd\n",
    "pd.set_option('display.max_rows', None)\n",
    "import openpyxl\n",
    "import timeit\n",
    "import re\n",
    "import os\n",
    "import glob\n",
    "import xgboost\n",
    "import lightgbm\n",
    "from lightgbm import LGBMClassifier\n",
    "from xgboost import XGBClassifier\n",
    "from matplotlib import pyplot\n",
    "from V4_2_Fingerprinting_Workflow_SVC_beta_version_python import fingerprintingWorkflow\n",
    "import matplotlib.pyplot as plt\n",
    "import matplotlib.ticker as ticker\n",
    "import seaborn as sns\n",
    "from sklearn.model_selection import train_test_split, cross_val_score, GridSearchCV, RandomizedSearchCV, StratifiedKFold, RepeatedStratifiedKFold\n",
    "from sklearn.ensemble import RandomForestClassifier, GradientBoostingClassifier\n",
    "from sklearn.metrics import confusion_matrix, ConfusionMatrixDisplay, classification_report, cohen_kappa_score, balanced_accuracy_score\n",
    "from sklearn.svm import SVC\n",
    "from sklearn.linear_model import LogisticRegression\n",
    "from sklearn.datasets import make_classification\n",
    "from sklearn.inspection import permutation_importance\n",
    "from sklearn.feature_selection import RFE\n",
    "from sklearn.preprocessing import StandardScaler, OneHotEncoder, LabelEncoder\n",
    "from collections import Counter\n",
    "\n",
    "# import tensorflow as tf\n",
    "import random\n",
    "plt.rcParams['figure.figsize'] = [10, 10]"
   ]
  },
  {
   "cell_type": "markdown",
   "id": "a475290a-2b3d-4d2e-b396-019f829a1b15",
   "metadata": {},
   "source": [
    "### Demonstration of Stratified k-fold cross-validation"
   ]
  },
  {
   "cell_type": "code",
   "execution_count": null,
   "id": "902c88cc-2ffb-4b70-8d55-19bc1e2821a3",
   "metadata": {},
   "outputs": [],
   "source": []
  },
  {
   "cell_type": "markdown",
   "id": "2b3219b3-5d2f-480d-b6f8-f13dd8f3b4f6",
   "metadata": {},
   "source": [
    "### Data Import from R  <a class=\"anchor\" id=\"Data Import from R\"></a>"
   ]
  },
  {
   "cell_type": "code",
   "execution_count": 10,
   "id": "a7f323c6-a8ff-4633-9262-b52c816794b1",
   "metadata": {},
   "outputs": [],
   "source": [
    "subcat_wd = os.getcwd() + \"/MLdata_USEonly\""
   ]
  },
  {
   "cell_type": "markdown",
   "id": "58b82d11-16af-4480-8542-90d33b6436dd",
   "metadata": {},
   "source": [
    "#### GC-MS data"
   ]
  },
  {
   "cell_type": "markdown",
   "id": "8799dd7c-5d06-4017-a414-e19bcccf67ac",
   "metadata": {},
   "source": [
    "##### Subcategory"
   ]
  },
  {
   "cell_type": "code",
   "execution_count": 11,
   "id": "573e0537-c675-4dfd-9649-a364ed159e36",
   "metadata": {},
   "outputs": [],
   "source": [
    "# Load xlsx exported from df_pca\n",
    "\n",
    "p1 =  subcat_wd + \"/gc_zero-reduc.xlsx\"\n",
    "p2 = subcat_wd + \"/gc_zero_no-reduc.xlsx\"\n",
    "# p3 = subcat_wd + \"/gc_lod.xlsx\"\n",
    "\n",
    "gc_zero_reduc = pd.read_excel(p1)\n",
    "gc_zero_no_reduc = pd.read_excel(p2)\n",
    "# gc_lod = pd.read_excel(p3)"
   ]
  },
  {
   "cell_type": "markdown",
   "id": "9415c344-f089-4f0c-a8fa-e55db30f49c8",
   "metadata": {
    "jp-MarkdownHeadingCollapsed": true
   },
   "source": [
    "##### Category"
   ]
  },
  {
   "cell_type": "code",
   "execution_count": null,
   "id": "ce203e97-8f07-48b3-b3b5-14a169efe875",
   "metadata": {},
   "outputs": [],
   "source": [
    "files_zero = glob.glob(\"C:/Users/Emerging contaminant/Desktop/Huy-Plastic-Fingerprint/Microplastic-Fingerprinting/ML_statsdata_Category/gc_cat*_zero.xlsx\")\n",
    "files_min = glob.glob(\"C:/Users/Emerging contaminant/Desktop/Huy-Plastic-Fingerprint/Microplastic-Fingerprinting/ML_statsdata_Category/gc_cat*_min.xlsx\")\n",
    "files_lod = glob.glob(\"C:/Users/Emerging contaminant/Desktop/Huy-Plastic-Fingerprint/Microplastic-Fingerprinting/ML_statsdata_Category/gc_cat*_lod.xlsx\")\n",
    "\n",
    "gc_cat_zero = []\n",
    "for file in files_zero:\n",
    "    df = pd.read_excel(file)\n",
    "    gc_cat_zero.append(df)\n",
    "\n",
    "gc_cat_min = []\n",
    "for file in files_min:\n",
    "    df = pd.read_excel(file)\n",
    "    gc_cat_min.append(df)\n",
    "\n",
    "gc_cat_lod = []\n",
    "for file in files_lod:\n",
    "    df = pd.read_excel(file)\n",
    "    gc_cat_lod.append(df)"
   ]
  },
  {
   "cell_type": "markdown",
   "id": "f7d62e7e-f865-4a32-b022-61df2f0116ca",
   "metadata": {},
   "source": [
    "#### HPLC_qTOF-MS data"
   ]
  },
  {
   "cell_type": "markdown",
   "id": "602c9701-e33b-4c44-a925-a2d363f9e8e2",
   "metadata": {},
   "source": [
    "##### Subcategory"
   ]
  },
  {
   "cell_type": "code",
   "execution_count": 12,
   "id": "f3e42106-0f8c-4d8a-a327-170345d82930",
   "metadata": {},
   "outputs": [],
   "source": [
    "# Load xlsx exported from df_pca\n",
    "\n",
    "p1 = subcat_wd + \"/hplc_zero-reduc.xlsx\"\n",
    "p2 = subcat_wd + \"/hplc_zero_no-reduc.xlsx\"\n",
    "# p3 = subcat_wd + \"/hplc_lod.xlsx\"\n",
    "\n",
    "hplc_zero_reduc = pd.read_excel(p1)\n",
    "hplc_zero_no_reduc = pd.read_excel(p2)\n",
    "# hplc_lod = pd.read_excel(p3)"
   ]
  },
  {
   "cell_type": "markdown",
   "id": "70067849-9b43-47e7-a7e1-77ab91a00678",
   "metadata": {
    "jp-MarkdownHeadingCollapsed": true
   },
   "source": [
    "##### Category"
   ]
  },
  {
   "cell_type": "code",
   "execution_count": null,
   "id": "52fab89c-e634-453b-ad00-11f1f30f5451",
   "metadata": {},
   "outputs": [],
   "source": [
    "files_zero = glob.glob(\"C:/Users/Emerging contaminant/Desktop/Huy-Plastic-Fingerprint/Microplastic-Fingerprinting/ML_statsdata_Category/hplc_cat*_zero.xlsx\")\n",
    "files_min = glob.glob(\"C:/Users/Emerging contaminant/Desktop/Huy-Plastic-Fingerprint/Microplastic-Fingerprinting/ML_statsdata_Category/hplc_cat*_min.xlsx\")\n",
    "files_lod = glob.glob(\"C:/Users/Emerging contaminant/Desktop/Huy-Plastic-Fingerprint/Microplastic-Fingerprinting/ML_statsdata_Category/hplc_cat*_lod.xlsx\")\n",
    "\n",
    "hplc_cat_zero = []\n",
    "for file in files_zero:\n",
    "    df = pd.read_excel(file)\n",
    "    hplc_cat_zero.append(df)\n",
    "\n",
    "hplc_cat_min = []\n",
    "for file in files_min:\n",
    "    df = pd.read_excel(file)\n",
    "    hplc_cat_min.append(df)\n",
    "\n",
    "hplc_cat_lod = []\n",
    "for file in files_lod:\n",
    "    df = pd.read_excel(file)\n",
    "    hplc_cat_lod.append(df)"
   ]
  },
  {
   "cell_type": "markdown",
   "id": "5bae8a12-a0a9-4bd2-90b7-56d76c4d6020",
   "metadata": {},
   "source": [
    "#### ICP-TRace-Metal data"
   ]
  },
  {
   "cell_type": "markdown",
   "id": "bf1eff15-f62c-4b31-a953-e39a6d2dc9ec",
   "metadata": {},
   "source": [
    "##### Subcategory"
   ]
  },
  {
   "cell_type": "code",
   "execution_count": 13,
   "id": "0629ff09-3629-4f8d-a9aa-920cac12f2eb",
   "metadata": {},
   "outputs": [],
   "source": [
    "p1 = subcat_wd + \"/icp.xlsx\"\n",
    "\n",
    "icp_all = pd.read_excel(p1)"
   ]
  },
  {
   "cell_type": "markdown",
   "id": "defce998-9a03-40dc-8094-7a6fac155d46",
   "metadata": {
    "jp-MarkdownHeadingCollapsed": true
   },
   "source": [
    "##### Category"
   ]
  },
  {
   "cell_type": "code",
   "execution_count": null,
   "id": "6e60814c-8ca1-40b2-b683-4aca56a0035b",
   "metadata": {},
   "outputs": [],
   "source": [
    "files = glob.glob(\"C:/Users/Emerging contaminant/Desktop/Huy-Plastic-Fingerprint/Microplastic-Fingerprinting/ML_statsdata_Category/icp_cat*.xlsx\")\n",
    "\n",
    "icp_cat = []\n",
    "for file in files:\n",
    "    df = pd.read_excel(file)\n",
    "    icp_cat.append(df)"
   ]
  },
  {
   "cell_type": "markdown",
   "id": "e7443514-6cc2-4eec-9942-5eb6c57a7f3a",
   "metadata": {},
   "source": [
    "#### Combined GC-HPLC data"
   ]
  },
  {
   "cell_type": "markdown",
   "id": "a0b28313-4898-4da7-a029-7e93c1c99b3f",
   "metadata": {},
   "source": [
    "##### Subcategory"
   ]
  },
  {
   "cell_type": "code",
   "execution_count": 37,
   "id": "94e93d5c-8ae6-4d6a-93e0-1dc091b1662f",
   "metadata": {},
   "outputs": [],
   "source": [
    "# Load xlsx exported from df_pca\n",
    "\n",
    "p1 = subcat_wd +\"/gc_hplc-reduc.xlsx\"\n",
    "p2 = subcat_wd +\"/gc_hplc_no-reduc.xlsx\"\n",
    "# p3 = subcat_wd +\"/gchplc_lod.xlsx\"\n",
    "\n",
    "gc_hplc_zero_reduc = pd.read_excel(p1)\n",
    "gc_hplc_zero_no_reduc = pd.read_excel(p2)\n",
    "# gc_hplc_lod = pd.read_excel(p3)"
   ]
  },
  {
   "cell_type": "markdown",
   "id": "b703206b-b6c0-42a9-9589-e432778557ef",
   "metadata": {
    "jp-MarkdownHeadingCollapsed": true
   },
   "source": [
    "##### Category"
   ]
  },
  {
   "cell_type": "code",
   "execution_count": null,
   "id": "22e3f67c-b87b-41d2-b30a-4ea8bebbb5f9",
   "metadata": {},
   "outputs": [],
   "source": [
    "files_zero = glob.glob(\"C:/Users/Emerging contaminant/Desktop/Huy-Plastic-Fingerprint/Microplastic-Fingerprinting/ML_statsdata_Category/gc_hplc_cat*_zero.xlsx\")\n",
    "files_min = glob.glob(\"C:/Users/Emerging contaminant/Desktop/Huy-Plastic-Fingerprint/Microplastic-Fingerprinting/ML_statsdata_Category/gc_hplc_cat*_min.xlsx\")\n",
    "files_lod = glob.glob(\"C:/Users/Emerging contaminant/Desktop/Huy-Plastic-Fingerprint/Microplastic-Fingerprinting/ML_statsdata_Category/gc_hplc_cat*_lod.xlsx\")\n",
    "\n",
    "gc_hplc_cat_zero = []\n",
    "for file in files_zero:\n",
    "    df = pd.read_excel(file)\n",
    "    gc_hplc_cat_zero.append(df)\n",
    "\n",
    "gc_hplc_cat_min = []\n",
    "for file in files_min:\n",
    "    df = pd.read_excel(file)\n",
    "    gc_hplc_cat_min.append(df)\n",
    "\n",
    "gc_hplc_cat_lod = []\n",
    "for file in files_lod:\n",
    "    df = pd.read_excel(file)\n",
    "    gc_hplc_cat_lod.append(df)"
   ]
  },
  {
   "cell_type": "markdown",
   "id": "9b1ddcc4-8582-4d8f-91d7-91c9bb005027",
   "metadata": {},
   "source": [
    "#### Combined GC-ICP data"
   ]
  },
  {
   "cell_type": "markdown",
   "id": "b9bb07e4-247a-4f3e-a9fd-e9d8688429aa",
   "metadata": {},
   "source": [
    "##### Subcategory"
   ]
  },
  {
   "cell_type": "code",
   "execution_count": 38,
   "id": "cbb6f51d-41cf-4423-ba50-95997c86fa6e",
   "metadata": {
    "scrolled": true
   },
   "outputs": [],
   "source": [
    "# Load xlsx exported from df_pca\n",
    "\n",
    "p1 = subcat_wd +\"/gc_icp-reduc.xlsx\"\n",
    "p2 = subcat_wd +\"/gc_icp_no-reduc.xlsx\"\n",
    "# p3 = subcat_wd +\"/gcicp_lod.xlsx\"\n",
    "# \n",
    "gc_icp_zero_reduc = pd.read_excel(p1)\n",
    "gc_icp_zero_no_reduc = pd.read_excel(p2)\n",
    "# gc_icp_lod = pd.read_excel(p3)"
   ]
  },
  {
   "cell_type": "markdown",
   "id": "fc713bde-0cb6-4f52-a303-4a1d4e23c9c4",
   "metadata": {
    "jp-MarkdownHeadingCollapsed": true
   },
   "source": [
    "##### Category"
   ]
  },
  {
   "cell_type": "code",
   "execution_count": null,
   "id": "a0f5d7f6-2446-487a-9c32-6c755d36e839",
   "metadata": {},
   "outputs": [],
   "source": [
    "files_zero = glob.glob(\"C:/Users/Emerging contaminant/Desktop/Huy-Plastic-Fingerprint/Microplastic-Fingerprinting/ML_statsdata_Category/gc_icp_cat*_zero.xlsx\")\n",
    "files_min = glob.glob(\"C:/Users/Emerging contaminant/Desktop/Huy-Plastic-Fingerprint/Microplastic-Fingerprinting/ML_statsdata_Category/gc_icp_cat*_min.xlsx\")\n",
    "files_lod = glob.glob(\"C:/Users/Emerging contaminant/Desktop/Huy-Plastic-Fingerprint/Microplastic-Fingerprinting/ML_statsdata_Category/gc_icp_cat*_lod.xlsx\")\n",
    "\n",
    "gc_icp_cat_zero = []\n",
    "for file in files_zero:\n",
    "    df = pd.read_excel(file)\n",
    "    gc_icp_cat_zero.append(df)\n",
    "\n",
    "gc_icp_cat_min = []\n",
    "for file in files_min:\n",
    "    df = pd.read_excel(file)\n",
    "    gc_icp_cat_min.append(df)\n",
    "\n",
    "gc_icp_cat_lod = []\n",
    "for file in files_lod:\n",
    "    df = pd.read_excel(file)\n",
    "    gc_icp_cat_lod.append(df)"
   ]
  },
  {
   "cell_type": "markdown",
   "id": "ce3d3357-bbb2-4752-b181-d5766490a6fb",
   "metadata": {},
   "source": [
    "#### Combined HPLC-ICP data"
   ]
  },
  {
   "cell_type": "markdown",
   "id": "23fe0ab4-896a-4b61-9ab0-f5c42db374cd",
   "metadata": {},
   "source": [
    "##### Subcategory"
   ]
  },
  {
   "cell_type": "code",
   "execution_count": 39,
   "id": "4ed2de37-5abe-48d3-acd9-fd31f0c63eb4",
   "metadata": {},
   "outputs": [],
   "source": [
    "# Load xlsx exported from df_pca\n",
    "\n",
    "p1 = subcat_wd +\"/hplc_icp-reduc.xlsx\"\n",
    "p2 = subcat_wd +\"/hplc_icp_no-reduc.xlsx\"\n",
    "# p3 = subcat_wd +\"/hplcicp_lod.xlsx\"\n",
    "\n",
    "hplc_icp_zero_reduc = pd.read_excel(p1)\n",
    "hplc_icp_zero_no_reduc = pd.read_excel(p2)\n",
    "# hplc_icp_lod = pd.read_excel(p3)"
   ]
  },
  {
   "cell_type": "markdown",
   "id": "3f5352b1-9edc-4b7f-9131-0baff17420cc",
   "metadata": {
    "jp-MarkdownHeadingCollapsed": true
   },
   "source": [
    "##### Category"
   ]
  },
  {
   "cell_type": "code",
   "execution_count": null,
   "id": "5d9cca4f-84df-42b7-8538-954b693dd4c8",
   "metadata": {},
   "outputs": [],
   "source": [
    "files_zero = glob.glob(\"C:/Users/Emerging contaminant/Desktop/Huy-Plastic-Fingerprint/Microplastic-Fingerprinting/ML_statsdata_Category/hplc_icp_cat*_zero.xlsx\")\n",
    "files_min = glob.glob(\"C:/Users/Emerging contaminant/Desktop/Huy-Plastic-Fingerprint/Microplastic-Fingerprinting/ML_statsdata_Category/hplc_icp_cat*_min.xlsx\")\n",
    "files_lod = glob.glob(\"C:/Users/Emerging contaminant/Desktop/Huy-Plastic-Fingerprint/Microplastic-Fingerprinting/ML_statsdata_Category/hplc_icp_cat*_lod.xlsx\")\n",
    "\n",
    "hplc_icp_cat_zero = []\n",
    "for file in files_zero:\n",
    "    df = pd.read_excel(file)\n",
    "    hplc_icp_cat_zero.append(df)\n",
    "\n",
    "hplc_icp_cat_min = []\n",
    "for file in files_min:\n",
    "    df = pd.read_excel(file)\n",
    "    hplc_icp_cat_min.append(df)\n",
    "\n",
    "hplc_icp_cat_lod = []\n",
    "for file in files_lod:\n",
    "    df = pd.read_excel(file)\n",
    "    hplc_icp_cat_lod.append(df)"
   ]
  },
  {
   "cell_type": "markdown",
   "id": "e6cab252-aa97-4664-a19a-e0b3f626d282",
   "metadata": {},
   "source": [
    "#### Combined GC-HPLC-ICP (Metal) data"
   ]
  },
  {
   "cell_type": "markdown",
   "id": "568cb339-0dd7-41f2-b8b0-647bbfeb715c",
   "metadata": {},
   "source": [
    "##### Subcategory"
   ]
  },
  {
   "cell_type": "code",
   "execution_count": 41,
   "id": "ec242de2-5683-4758-a2fe-1ed68c15548b",
   "metadata": {},
   "outputs": [],
   "source": [
    "# Load xlsx exported from df_pca\n",
    "\n",
    "p1 = subcat_wd +\"/gc_hplc_icp-reduc.xlsx\"\n",
    "p2 = subcat_wd +\"/gc_hplc_icp_no-reduc.xlsx\"\n",
    "# p3 = subcat_wd +\"/gchplcicp_lod.xlsx\"\n",
    "\n",
    "gc_hplc_icp_zero_reduc = pd.read_excel(p1)\n",
    "gc_hplc_icp_zero_no_reduc = pd.read_excel(p2)\n",
    "# gc_hplc_icp_lod = pd.read_excel(p3)"
   ]
  },
  {
   "cell_type": "markdown",
   "id": "95ac444f-a253-46f6-a49a-cf0597eb09ff",
   "metadata": {
    "jp-MarkdownHeadingCollapsed": true
   },
   "source": [
    "##### Category"
   ]
  },
  {
   "cell_type": "code",
   "execution_count": null,
   "id": "f4cecc39-597c-46f8-a300-a8ad8d225706",
   "metadata": {},
   "outputs": [],
   "source": [
    "files_zero = glob.glob(\"C:/Users/Emerging contaminant/Desktop/Huy-Plastic-Fingerprint/Microplastic-Fingerprinting/ML_statsdata_Category/gc_hplc_icp_cat*_zero.xlsx\")\n",
    "files_min = glob.glob(\"C:/Users/Emerging contaminant/Desktop/Huy-Plastic-Fingerprint/Microplastic-Fingerprinting/ML_statsdata_Category/gc_hplc_icp_cat*_min.xlsx\")\n",
    "files_lod = glob.glob(\"C:/Users/Emerging contaminant/Desktop/Huy-Plastic-Fingerprint/Microplastic-Fingerprinting/ML_statsdata_Category/gc_hplc_icp_cat*_lod.xlsx\")\n",
    "\n",
    "gc_hplc_icp_cat_zero = []\n",
    "for file in files_zero:\n",
    "    df = pd.read_excel(file)\n",
    "    gc_hplc_icp_cat_zero.append(df)\n",
    "\n",
    "gc_hplc_icp_cat_min = []\n",
    "for file in files_min:\n",
    "    df = pd.read_excel(file)\n",
    "    gc_hplc_icp_cat_min.append(df)\n",
    "\n",
    "gc_hplc_icp_cat_lod = []\n",
    "for file in files_lod:\n",
    "    df = pd.read_excel(file)\n",
    "    gc_hplc_icp_cat_lod.append(df)"
   ]
  },
  {
   "cell_type": "markdown",
   "id": "6f6eafb3-5e96-4553-9ae5-1eb8b84d8b2a",
   "metadata": {
    "jp-MarkdownHeadingCollapsed": true
   },
   "source": [
    "### Feature correlation Analyses"
   ]
  },
  {
   "cell_type": "code",
   "execution_count": null,
   "id": "26de76c1-f683-4635-8f79-937fc84a1a5b",
   "metadata": {
    "scrolled": true
   },
   "outputs": [],
   "source": [
    "dat = hplc_list[2]\n",
    "# Select relevant columns\n",
    "dat = dat[['File', 'Category', 'Feature', 'Values']]\n",
    "\n",
    "# Group by and take the mean of 'Values'\n",
    "dat = dat.groupby(['File', 'Category', 'Feature']).agg({'Values': 'mean'}).reset_index() # \n",
    "\n",
    "# Pivot the table\n",
    "dat = dat.pivot_table(index=['File', 'Category'], columns='Feature', values='Values', aggfunc = np.mean).reset_index()\n",
    "\n",
    "# Set 'File' as index (equivalent to rownames in R)\n",
    "dat.set_index('File', inplace=True)\n",
    "\n",
    "# Iterate through each row and replace NaNs\n",
    "for idx, row in dat.iterrows():\n",
    "    na_indices = row.isna()\n",
    "    na_count = na_indices.sum()\n",
    "    \n",
    "    if na_count > 0:\n",
    "        dat.loc[idx, na_indices.index[na_indices]] = 0\n",
    "\n",
    "# Dropping the first column which contains the category names\n",
    "df_pca_compounds = dat.drop(columns = ['Category'])\n",
    "labels = dat['Category']\n",
    "\n",
    "# Calculating the correlation matrix\n",
    "correlation_matrix = df_pca_compounds.corr()"
   ]
  },
  {
   "cell_type": "code",
   "execution_count": null,
   "id": "78b2cb82-a866-45a5-8b31-dd22c0d60a40",
   "metadata": {
    "scrolled": true
   },
   "outputs": [],
   "source": [
    "# Setting a threshold for high correlation\n",
    "high_corr_threshold = 0.99\n",
    "\n",
    "# Finding pairs of compounds with high correlation & Excluding self-correlation\n",
    "high_corr_pairs = correlation_matrix.abs().unstack()\n",
    "high_corr_pairs = high_corr_pairs[high_corr_pairs >= high_corr_threshold]\n",
    "high_corr_pairs = high_corr_pairs[high_corr_pairs < 1]\n",
    "high_corr_pairs = high_corr_pairs.drop_duplicates()\n",
    "\n",
    "# Displaying the highly correlated pairs\n",
    "# high_corr_pairs.head(20)  # Displaying top 20 pairs for brevity\n",
    "\n",
    "# Reducing the compound set to avoid redundancy\n",
    "# For each pair of perfectly correlated compounds, we'll keep only one\n",
    "\n",
    "# Creating a set to store the unique compounds\n",
    "reduced_compound_set = set()\n",
    "\n",
    "for pair in high_corr_pairs.index:\n",
    "    # Adding only the first compound of each highly correlated pair to the set\n",
    "    reduced_compound_set.add(pair[0])\n",
    "\n",
    "# Converting the set to a list\n",
    "reduced_compound_list = list(reduced_compound_set)\n",
    "\n",
    "# Extracting the data for the reduced set of compounds\n",
    "reduced_cluster_data = df_pca_compounds[reduced_compound_list]\n",
    "reduced_cluster_data['Category'] = labels"
   ]
  },
  {
   "cell_type": "markdown",
   "id": "0f91e980-2fcd-4e78-97f3-53adafc0a42c",
   "metadata": {},
   "source": [
    "### Random Forest <a class=\"anchor\" id=\"rf\"></a>"
   ]
  },
  {
   "cell_type": "markdown",
   "id": "cc158953-0f1b-4b01-a420-99b38fab1d6b",
   "metadata": {},
   "source": [
    "#### GridSearchCV - RFlable."
   ]
  },
  {
   "cell_type": "markdown",
   "id": "4e01d818-fbf6-40f1-961f-eb9315b22560",
   "metadata": {},
   "source": [
    "The grid search will: \n",
    "\n",
    "- Try every combination of your parameter grid\n",
    "- For each of them it will do a K-fold cross validation\n",
    "- Select the best available."
   ]
  },
  {
   "cell_type": "code",
   "execution_count": 31,
   "id": "5b4986c5-d1fc-4c76-9082-946ffc2a20fd",
   "metadata": {},
   "outputs": [],
   "source": [
    "def rfsrc_result(dat,\n",
    "                 type):\n",
    "    \n",
    "    # If a class only have 1 member then exclude that class from the ML\n",
    "    # Count the frequency of each class\n",
    "    class_counts = dat[type].astype(str).value_counts()\n",
    "    # Filter out classes with only one member\n",
    "    dat = dat[dat[type].astype(str).map(class_counts) > 1]\n",
    "    \n",
    "    # Extract the features and labels\n",
    "    X = dat.drop(columns=[type])\n",
    "    y = dat[type]\n",
    "    \n",
    "    # Then, split train and test sets\n",
    "    X_train, X_test, y_train, y_test = train_test_split(X, y, \n",
    "                                                        test_size = round(len(dat[type].unique())/dat.shape[0], 2), # for case where only 1 sample/class\n",
    "                                                        stratify = y, random_state=123)\n",
    "\n",
    "    param_grid = {\n",
    "    'n_estimators':  [1, 10, 50, 100, 500, 1000, 5000, 10000], # Generate an array of 100 stepwise values from 0 to 1000, \n",
    "    'max_features': ['sqrt', 'log2']\n",
    "    }\n",
    "\n",
    "    # The 'cv' parameter of RandomizedSearchCV must be an int in the range [2, inf) \n",
    "    cv = RepeatedStratifiedKFold(n_splits = pd.DataFrame(y_train)[type].value_counts().min(),\n",
    "                                 n_repeats = 10, random_state = 123)\n",
    "    if pd.DataFrame(y_train)[type].value_counts().min() == 1:\n",
    "        cv = RepeatedStratifiedKFold(n_splits = 2, n_repeats = 10, random_state = 123)\n",
    "    \n",
    "    gridsearch = GridSearchCV(RandomForestClassifier(), \n",
    "                              param_grid=param_grid, \n",
    "                            # number of cv = number of member of classes with least no. of members\n",
    "                            cv = cv,\n",
    "                            scoring = 'balanced_accuracy',\n",
    "                            return_train_score=True,\n",
    "                            n_jobs = -1).fit(X_train, y_train)\n",
    "    \n",
    "    grid = gridsearch.best_params_\n",
    "\n",
    "    # Monitoring split_test_score across different hyperparameters of GridSearch -------------------------------------------------------\n",
    "    glued_dicts = ['_'.join([f\"{key}_{value}\" for key, value in d.items()]) for d in gridsearch.cv_results_['params']]\n",
    "    split_test_scores_list = []\n",
    "    \n",
    "    # Iterate over each row\n",
    "    for index, row in pd.DataFrame(gridsearch.cv_results_).iterrows():\n",
    "        split_test_scores = []\n",
    "        # Iterate over each column\n",
    "        for column in pd.DataFrame(gridsearch.cv_results_).columns:\n",
    "            # Check if column name matches the pattern \"splitx_test_score\"\n",
    "            if column.startswith('split') and column.endswith('_test_score'):\n",
    "                # Extract numerical value from the column\n",
    "                split_test_score = row[column]\n",
    "                split_test_scores.append(split_test_score)\n",
    "        split_test_scores_list.append(split_test_scores)\n",
    "    \n",
    "    for name, scores in zip(glued_dicts, split_test_scores_list):\n",
    "      # summarize progress along the way\n",
    "     print('%s %.3f (%.3f)' % (name, np.mean(scores), np.std(scores)))\n",
    "    # plot model performance for comparison\n",
    "    plt.boxplot(split_test_scores_list, labels=glued_dicts, showmeans=True, showbox=True, showfliers=True, showcaps=True)\n",
    "    plt.xticks(rotation=90)\n",
    "    plt.show()\n",
    "    \n",
    "    # # Extracting relevant information from gridsearch results\n",
    "    # results = gridsearch.cv_results_\n",
    "    # params = results['params']\n",
    "    \n",
    "    # # Getting unique values of hyperparameters\n",
    "    # n_estimators_values = np.unique([x['n_estimators'] for x in params])\n",
    "    # max_features_values = np.unique([x['max_features'] for x in params])\n",
    "    \n",
    "    # # Plotting\n",
    "    # plt.figure(figsize=(12, 8))\n",
    "    \n",
    "    # for max_features_value in max_features_values:\n",
    "    #     for n_estimators_value in n_estimators_values:\n",
    "    #         # Finding indices of hyperparameter combination in the results\n",
    "    #         indices = [i for i, p in enumerate(params) if p['max_features'] == max_features_value and p['n_estimators'] == n_estimators_value]\n",
    "            \n",
    "    #         # Extracting mean train scores for this combination\n",
    "    #         scores = [results[f'split{i}_test_score'][indices[0]] for i in range(1,10*pd.DataFrame(y_train)[type].value_counts().min())]  \n",
    "    #         # Plotting\n",
    "    #         plt.plot(range(1, 10*pd.DataFrame(y_train)[type].value_counts().min()), \n",
    "    #                  scores, label=f'n_estimators={n_estimators_value}, max_features={max_features_value}')\n",
    "    \n",
    "    # plt.xlabel('Split Number')\n",
    "    # plt.ylabel('Test Score')\n",
    "    # plt.title('Fluctuation of Train Score across Splits for Different Hyperparameter Combinations')\n",
    "    # plt.legend(loc='lower right')\n",
    "    # plt.grid(True)\n",
    "    # plt.show()\n",
    "\n",
    "    rf = RandomForestClassifier(n_estimators = grid['n_estimators'], max_features = grid['max_features'], random_state=123, oob_score=True, n_jobs=-1)\n",
    "    rf.fit(X_train, y_train)\n",
    "\n",
    "    # Prediction results\n",
    "    # For test set\n",
    "    predictions_test = rf.predict_proba(X_test)\n",
    "    pred_df_test = pd.DataFrame(predictions_test, columns=rf.classes_)\n",
    "\n",
    "    # Assign true and predicted labels\n",
    "    # For test set\n",
    "    y_pred_test = pred_df_test.select_dtypes(include=[np.number]).idxmax(axis=1)\n",
    "    \n",
    "    # Balanced accuracy score\n",
    "    print(\"Balanced Accuracy (testing):\" + str(balanced_accuracy_score(y_test, y_pred_test)))\n",
    "\n",
    "    # Cohen Kappa score\n",
    "    print(\"Cohen Kappa score:\" + str(cohen_kappa_score(y_test, y_pred_test)))\n",
    "    \n",
    "    # Generate confusion matrix of test set\n",
    "    conf_matrix_sklearn = confusion_matrix(y_test, y_pred_test, labels=rf.classes_)\n",
    "    \n",
    "    print(classification_report(y_test, y_pred_test))\n",
    "    report = pd.DataFrame(classification_report(y_test, y_pred_test, output_dict=True)).transpose()\n",
    "    \n",
    "    # To visualize the confusion matrix\n",
    "    ConfusionMatrixDisplay(conf_matrix_sklearn,\n",
    "                          display_labels=rf.classes_).plot(cmap=plt.cm.Blues, xticks_rotation=\"vertical\")\n",
    "    plt.tight_layout()\n",
    "    plt.show()\n",
    "\n",
    "    # Histogram of distribution of probability of each class in prediction\n",
    "    for column in pred_df_test.columns:\n",
    "        # Create a histogram for the current column\n",
    "        plt.hist(pred_df_test[column], bins=10, alpha=0.5, label=column)\n",
    "        # Round up y-axis ticks to have no decimals\n",
    "        plt.yticks(np.arange(plt.yticks()[0][0], plt.yticks()[0][-1] + 1, step=1))\n",
    "        \n",
    "        # Add title for each subplot as the name of the column\n",
    "        plt.title(column)\n",
    "        plt.xlabel('Value')\n",
    "        plt.ylabel('Frequency')\n",
    "        plt.legend()\n",
    "        plt.show()\n",
    "\n",
    "    # Plot feature importance\n",
    "    feature_imp = pd.DataFrame({'feature_score': rf.feature_importances_, # Feature scores range in [0,1] and sum up to 1.\n",
    "                             'feature_name': dat.drop(columns=[type]).columns}).sort_values('feature_score')\n",
    "    \n",
    "    # Plot the top 25 most important features\n",
    "    plt.barh(range(25), feature_imp.tail(n = 25).feature_score)\n",
    "    plt.yticks(range(25), feature_imp.tail(n = 25).feature_name)\n",
    "    plt.xlabel('Importance')\n",
    "    plt.title('Variable Importance')\n",
    "    plt.show()\n",
    "    \n",
    "    return rf, feature_imp, gridsearch.cv_results_"
   ]
  },
  {
   "cell_type": "markdown",
   "id": "4ec85083-1723-46a9-a3d3-a44377f99220",
   "metadata": {
    "jp-MarkdownHeadingCollapsed": true
   },
   "source": [
    "#### Classification with reduced feature data after correlation matrix analysis\n",
    "\n",
    "For the case of HPLC only data, THe BA of this option is:\n",
    "- 0.8 (hplc_list[0]) < 0.9 (of the original data with all features)\n",
    "- 0.458 (hplc_list[1]) < 0.77 (of the original data with all features)\n",
    "- 0.5714 (hplc_list[2]) < 0.714 (of the original data with all features)\n",
    "\n",
    "==> It's not a good idea to try cut down the number of features"
   ]
  },
  {
   "cell_type": "code",
   "execution_count": null,
   "id": "d365c2dc-bb4d-487a-874e-0f2e52475ff8",
   "metadata": {
    "scrolled": true
   },
   "outputs": [],
   "source": [
    "clf = rfsrc_result(reduced_cluster_data,\n",
    "                   type = 'Category',\n",
    "                    split_train = 0.5)"
   ]
  },
  {
   "cell_type": "markdown",
   "id": "0f9d5209-08c8-4836-b06f-02090dd59d0a",
   "metadata": {
    "jp-MarkdownHeadingCollapsed": true
   },
   "source": [
    "#### Classification by Category"
   ]
  },
  {
   "cell_type": "markdown",
   "id": "d792942e-fe47-4691-b9dc-1d60c580ab67",
   "metadata": {},
   "source": [
    "##### GC data"
   ]
  },
  {
   "cell_type": "code",
   "execution_count": null,
   "id": "e5d419dc-fa50-4269-b34b-1dca6601b499",
   "metadata": {},
   "outputs": [],
   "source": [
    "# zero\n",
    "for i in range(4):\n",
    "    clf = rfsrc_result(gc_cat_zero[i],\n",
    "                       type = 'Category')"
   ]
  },
  {
   "cell_type": "code",
   "execution_count": null,
   "id": "75b8ae3d-fb5b-4bb1-a83b-1bdcc146fa13",
   "metadata": {},
   "outputs": [],
   "source": [
    "# Min\n",
    "for i in range(4):\n",
    "    clf = rfsrc_result(gc_cat_min[i],\n",
    "                       type = 'Category')"
   ]
  },
  {
   "cell_type": "code",
   "execution_count": null,
   "id": "91ae159b-8140-4255-813d-367e3c5cdb60",
   "metadata": {
    "scrolled": true
   },
   "outputs": [],
   "source": [
    "# Min\n",
    "for i in range(4):\n",
    "    clf = rfsrc_result(gc_cat_lod[i],\n",
    "                       type = 'Category')"
   ]
  },
  {
   "cell_type": "markdown",
   "id": "b6079905-3c4c-496f-a0a2-0fc0734b5ed7",
   "metadata": {},
   "source": [
    "##### HPLC data"
   ]
  },
  {
   "cell_type": "code",
   "execution_count": null,
   "id": "75d5a069-963b-41df-8798-2452c65c5d0f",
   "metadata": {},
   "outputs": [],
   "source": [
    "# zero\n",
    "for i in range(4):\n",
    "    clf = rfsrc_result(hplc_cat_zero[i],\n",
    "                       type = 'Category')"
   ]
  },
  {
   "cell_type": "code",
   "execution_count": null,
   "id": "a1f100e9-05e3-48b5-9bbd-0e84ec76faa9",
   "metadata": {},
   "outputs": [],
   "source": [
    "# Min\n",
    "for i in range(4):\n",
    "    clf = rfsrc_result(hplc_cat_min[i],\n",
    "                       type = 'Category')"
   ]
  },
  {
   "cell_type": "code",
   "execution_count": null,
   "id": "e5e18145-f4f7-4295-b8fb-9c9f4b8c912f",
   "metadata": {
    "scrolled": true
   },
   "outputs": [],
   "source": [
    "# Min\n",
    "for i in range(4):\n",
    "    clf = rfsrc_result(hplc_cat_lod[i],\n",
    "                       type = 'Category')"
   ]
  },
  {
   "cell_type": "markdown",
   "id": "211676c9-93be-4422-9f73-8bb9cf2324c6",
   "metadata": {},
   "source": [
    "##### ICP data"
   ]
  },
  {
   "cell_type": "code",
   "execution_count": null,
   "id": "bbee1c8e-c77b-478a-bfe1-e690ab28bbba",
   "metadata": {
    "scrolled": true
   },
   "outputs": [],
   "source": [
    "for i in range(4):\n",
    "    clf = rfsrc_result(icp_cat[i],\n",
    "                       type = 'Category')"
   ]
  },
  {
   "cell_type": "markdown",
   "id": "20283636-6773-4b1d-b07a-6e9ee2367537",
   "metadata": {},
   "source": [
    "##### GC + ICP"
   ]
  },
  {
   "cell_type": "code",
   "execution_count": null,
   "id": "e4c5c3cd-4483-4573-8c47-d5a0e54955b5",
   "metadata": {},
   "outputs": [],
   "source": [
    "# zero\n",
    "for i in range(4):\n",
    "    clf = rfsrc_result(gc_icp_cat_zero[i],\n",
    "                       type = 'Category')"
   ]
  },
  {
   "cell_type": "code",
   "execution_count": null,
   "id": "a3d81765-b071-41a4-a9f1-9f79ea9585dd",
   "metadata": {},
   "outputs": [],
   "source": [
    "# Min\n",
    "for i in range(4):\n",
    "    clf = rfsrc_result(gc_icp_cat_min[i],\n",
    "                       type = 'Category')"
   ]
  },
  {
   "cell_type": "code",
   "execution_count": null,
   "id": "578d7285-e943-44ce-95fd-8e02787ea34a",
   "metadata": {
    "scrolled": true
   },
   "outputs": [],
   "source": [
    "# Min\n",
    "for i in range(4):\n",
    "    clf = rfsrc_result(gc_icp_cat_lod[i],\n",
    "                       type = 'Category')"
   ]
  },
  {
   "cell_type": "markdown",
   "id": "56276211-73d8-46db-a586-7d4e95015c48",
   "metadata": {},
   "source": [
    "##### HPLC + ICP"
   ]
  },
  {
   "cell_type": "code",
   "execution_count": null,
   "id": "4218efd3-8221-4ea0-a9b2-92de2f78dded",
   "metadata": {},
   "outputs": [],
   "source": [
    "# zero\n",
    "for i in range(4):\n",
    "    clf = rfsrc_result(hplc_icp_cat_zero[i],\n",
    "                       type = 'Category')"
   ]
  },
  {
   "cell_type": "code",
   "execution_count": null,
   "id": "4224acb6-6384-4cf0-aeaf-8e1b3e5e7c77",
   "metadata": {},
   "outputs": [],
   "source": [
    "# Min\n",
    "for i in range(4):\n",
    "    clf = rfsrc_result(hplc_icp_cat_min[i],\n",
    "                       type = 'Category')"
   ]
  },
  {
   "cell_type": "code",
   "execution_count": null,
   "id": "a58ece35-a6f6-4035-9f40-281f2a07a434",
   "metadata": {
    "scrolled": true
   },
   "outputs": [],
   "source": [
    "# Min\n",
    "for i in range(4):\n",
    "    clf = rfsrc_result(hplc_icp_cat_lod[i],\n",
    "                       type = 'Category')"
   ]
  },
  {
   "cell_type": "markdown",
   "id": "a1ed58fe-30b3-48a7-8605-2bd58b43f533",
   "metadata": {},
   "source": [
    "##### GC + HPLC data"
   ]
  },
  {
   "cell_type": "code",
   "execution_count": null,
   "id": "a8f80199-4d63-4ac7-b94b-80d20cc54540",
   "metadata": {},
   "outputs": [],
   "source": [
    "# zero\n",
    "for i in range(4):\n",
    "    clf = rfsrc_result(gc_hplc_cat_zero[i],\n",
    "                       type = 'Category')"
   ]
  },
  {
   "cell_type": "code",
   "execution_count": null,
   "id": "38a1f3f2-dce8-4ee7-a616-3ca3ffb527bd",
   "metadata": {},
   "outputs": [],
   "source": [
    "# Min\n",
    "for i in range(4):\n",
    "    clf = rfsrc_result(gc_hplc_cat_min[i],\n",
    "                       type = 'Category')"
   ]
  },
  {
   "cell_type": "code",
   "execution_count": null,
   "id": "a8720e65-f9f7-46e0-839a-5d98a34ecb48",
   "metadata": {
    "scrolled": true
   },
   "outputs": [],
   "source": [
    "# Min\n",
    "for i in range(4):\n",
    "    clf = rfsrc_result(gc_hplc_cat_lod[i],\n",
    "                       type = 'Category')"
   ]
  },
  {
   "cell_type": "markdown",
   "id": "07bafa9c-6934-4b6e-be3e-2a5d41c33c2d",
   "metadata": {},
   "source": [
    "##### GC + HPLC + ICP data"
   ]
  },
  {
   "cell_type": "code",
   "execution_count": null,
   "id": "479f8317-2a69-45c3-8ac5-b077821594b2",
   "metadata": {
    "scrolled": true
   },
   "outputs": [],
   "source": [
    "# zero\n",
    "for i in range(4):\n",
    "    clf = rfsrc_result(gc_hplc_icp_cat_zero[i],\n",
    "                       type = 'Category')"
   ]
  },
  {
   "cell_type": "code",
   "execution_count": null,
   "id": "aaca7fa8-0c38-4cd2-8481-dda723f69792",
   "metadata": {},
   "outputs": [],
   "source": [
    "# Min\n",
    "for i in range(4):\n",
    "    clf = rfsrc_result(gc_hplc_icp_cat_min[i],\n",
    "                       type = 'Category')"
   ]
  },
  {
   "cell_type": "code",
   "execution_count": null,
   "id": "0e92d5db-7f6e-4a84-942c-5cec214f4140",
   "metadata": {
    "scrolled": true
   },
   "outputs": [],
   "source": [
    "# Min\n",
    "for i in range(4):\n",
    "    clf = rfsrc_result(gc_hplc_icp_cat_lod[i],\n",
    "                       type = 'Category')"
   ]
  },
  {
   "cell_type": "markdown",
   "id": "209ce63a-336d-406f-88f0-23a75a6a184f",
   "metadata": {},
   "source": [
    "#### Classification By Subcategory"
   ]
  },
  {
   "cell_type": "markdown",
   "id": "86db3614-7d9d-4757-b6bb-83b159f07ec8",
   "metadata": {},
   "source": [
    "##### GC data"
   ]
  },
  {
   "cell_type": "code",
   "execution_count": null,
   "id": "b042f76c-fed2-4f16-a108-ceda3f9daae6",
   "metadata": {
    "scrolled": true
   },
   "outputs": [],
   "source": [
    "clf, rf_topfeature_gc_zero_reduc = rfsrc_result(gc_zero_reduc,\n",
    "                   type = 'Subcategory')"
   ]
  },
  {
   "cell_type": "code",
   "execution_count": null,
   "id": "12da139f-48f3-4313-ae1a-45033bc84ccc",
   "metadata": {
    "scrolled": true
   },
   "outputs": [],
   "source": [
    "clf, rf_topfeature_gc_zero_no_reduc = rfsrc_result(gc_zero_no_reduc,\n",
    "                   type = 'Subcategory')"
   ]
  },
  {
   "cell_type": "code",
   "execution_count": null,
   "id": "80fe26e3-ce37-4bf5-bded-7bc70101b252",
   "metadata": {
    "scrolled": true
   },
   "outputs": [],
   "source": [
    "# Min imputed\n",
    "clf = rfsrc_result(gc_min.drop(columns=['technique']),\n",
    "                   type = 'Subcategory')"
   ]
  },
  {
   "cell_type": "code",
   "execution_count": null,
   "id": "0fe31582-a48b-45b5-a6c0-49cc3461e57a",
   "metadata": {
    "scrolled": true
   },
   "outputs": [],
   "source": [
    "# LOD imputed\n",
    "clf = rfsrc_result(gc_lod.drop(columns=['technique']),\n",
    "                   type = 'Subcategory')"
   ]
  },
  {
   "cell_type": "markdown",
   "id": "aded7657-4d9e-410b-804c-f07ea5a958d8",
   "metadata": {},
   "source": [
    "##### HPLC data"
   ]
  },
  {
   "cell_type": "code",
   "execution_count": null,
   "id": "8c02f8da-eb87-45ca-88f6-127b9f728a5a",
   "metadata": {
    "scrolled": true
   },
   "outputs": [],
   "source": [
    "clf, rf_topfeature_hplc_zero_no_reduc = rfsrc_result(hplc_zero_no_reduc,\n",
    "                   type = 'Subcategory')"
   ]
  },
  {
   "cell_type": "code",
   "execution_count": null,
   "id": "d207fe20-f8fa-4eb8-842c-7ef4eaec2c9d",
   "metadata": {
    "scrolled": true
   },
   "outputs": [],
   "source": [
    "clf, rf_topfeature_hplc_zero_reduc = rfsrc_result(hplc_zero_reduc,\n",
    "                   type = 'Subcategory')"
   ]
  },
  {
   "cell_type": "code",
   "execution_count": null,
   "id": "52227541-09da-46cc-b00b-62ca1fb6051a",
   "metadata": {
    "scrolled": true
   },
   "outputs": [],
   "source": [
    "# Min imputed\n",
    "clf, rf_topfeature = rfsrc_result(hplc_min.drop(columns=['technique']),\n",
    "                   type = 'Subcategory')"
   ]
  },
  {
   "cell_type": "code",
   "execution_count": null,
   "id": "bb0a5a6a-b296-4a91-8dbf-42d3647e7f8a",
   "metadata": {
    "scrolled": true
   },
   "outputs": [],
   "source": [
    "# LOD imputed\n",
    "clf, rf_topfeature = rfsrc_result(hplc_lod.drop(columns=['technique']),\n",
    "                   type = 'Subcategory')"
   ]
  },
  {
   "cell_type": "markdown",
   "id": "8bcd0f95-2d5b-41e2-9585-277c27450335",
   "metadata": {},
   "source": [
    "##### ICP data"
   ]
  },
  {
   "cell_type": "code",
   "execution_count": null,
   "id": "7d952b5e-d711-4fc8-8ca0-940aadf1ea1a",
   "metadata": {
    "scrolled": true
   },
   "outputs": [],
   "source": [
    "clf, rf_topfeature_icp, results = rfsrc_result(icp_all,\n",
    "                   type = 'Subcategory')"
   ]
  },
  {
   "cell_type": "markdown",
   "id": "0296538a-e69e-44bd-8c33-a72e59784c5f",
   "metadata": {},
   "source": [
    "##### GC + ICP"
   ]
  },
  {
   "cell_type": "code",
   "execution_count": null,
   "id": "2d69e1fd-27cb-48ee-a8a8-ff71908eb70f",
   "metadata": {
    "scrolled": true
   },
   "outputs": [],
   "source": [
    "clf, rf_topfeature_gc_icp_zero_no_reduc = rfsrc_result(gc_icp_zero_no_reduc,\n",
    "                   type = 'Subcategory')"
   ]
  },
  {
   "cell_type": "code",
   "execution_count": null,
   "id": "e5357d49-8802-45cb-af17-aadbc5535a47",
   "metadata": {
    "scrolled": true
   },
   "outputs": [],
   "source": [
    "clf, rf_topfeature_gc_icp_zero_reduc = rfsrc_result(gc_icp_zero_reduc,\n",
    "                   type = 'Subcategory')"
   ]
  },
  {
   "cell_type": "code",
   "execution_count": null,
   "id": "8a254e81-cf11-4138-a337-7c757c6414b1",
   "metadata": {
    "scrolled": true
   },
   "outputs": [],
   "source": [
    "# LOD imputed\n",
    "clf = rfsrc_result(gc_icp_lod.drop(columns=['technique']),\n",
    "                   type = 'Subcategory')"
   ]
  },
  {
   "cell_type": "markdown",
   "id": "a59dc6d8-bc0d-49c2-b1b5-66c5437e7a4a",
   "metadata": {},
   "source": [
    "##### HPLC + ICP"
   ]
  },
  {
   "cell_type": "code",
   "execution_count": null,
   "id": "abd775e2-c6cd-49a0-92d2-55e501f47433",
   "metadata": {
    "scrolled": true
   },
   "outputs": [],
   "source": [
    "clf, rf_topfeature_hplc_icp_zero_no_reduc = rfsrc_result(hplc_icp_zero_no_reduc,\n",
    "                   type = 'Subcategory')"
   ]
  },
  {
   "cell_type": "code",
   "execution_count": null,
   "id": "34b4e62a-6ad9-49c3-b93b-ef07c7b19628",
   "metadata": {
    "scrolled": true
   },
   "outputs": [],
   "source": [
    "clf, rf_topfeature_hplc_icp_zero_reduc = rfsrc_result(hplc_icp_zero_reduc,\n",
    "                   type = 'Subcategory')"
   ]
  },
  {
   "cell_type": "code",
   "execution_count": null,
   "id": "992e5a4f-4fc0-490e-9d82-b64813093867",
   "metadata": {
    "scrolled": true
   },
   "outputs": [],
   "source": [
    "# LOD imputed\n",
    "clf = rfsrc_result(hplc_icp_lod.drop(columns=['technique']),\n",
    "                   type = 'Subcategory')"
   ]
  },
  {
   "cell_type": "markdown",
   "id": "aced6713-9f7e-452b-b107-e516c3ec882b",
   "metadata": {},
   "source": [
    "##### GC + HPLC data"
   ]
  },
  {
   "cell_type": "code",
   "execution_count": null,
   "id": "13f129d5-5906-472f-8d32-bbe54ca1c0b3",
   "metadata": {
    "scrolled": true
   },
   "outputs": [],
   "source": [
    "clf, rf_topfeature_gc_hplc_zero_no_reduc = rfsrc_result(gc_hplc_zero_no_reduc,\n",
    "                   type = 'Subcategory')"
   ]
  },
  {
   "cell_type": "code",
   "execution_count": null,
   "id": "23328018-f8b3-4573-bd18-62252076320c",
   "metadata": {
    "scrolled": true
   },
   "outputs": [],
   "source": [
    "clf, rf_topfeature_gc_hplc_zero_reduc = rfsrc_result(gc_hplc_zero_reduc,\n",
    "                   type = 'Subcategory')"
   ]
  },
  {
   "cell_type": "code",
   "execution_count": null,
   "id": "b5f2932b-dd26-4c7b-848e-4218f73f700c",
   "metadata": {
    "scrolled": true
   },
   "outputs": [],
   "source": [
    "# LOD imputed\n",
    "clf = rfsrc_result(gc_hplc_lod.drop(columns=['technique']),\n",
    "                   type = c)"
   ]
  },
  {
   "cell_type": "markdown",
   "id": "987633ed-c157-4b07-b079-c778e9cdf956",
   "metadata": {},
   "source": [
    "##### GC + HPLC + ICP data"
   ]
  },
  {
   "cell_type": "code",
   "execution_count": null,
   "id": "287bebae-e315-4cef-bf91-fedc295a6a49",
   "metadata": {
    "scrolled": true
   },
   "outputs": [],
   "source": [
    "clf, rf_topfeature_gc_hplc_icp_zero_no_reduc = rfsrc_result(gc_hplc_icp_zero_no_reduc,\n",
    "                   type = 'Subcategory')"
   ]
  },
  {
   "cell_type": "code",
   "execution_count": null,
   "id": "bb4859a4-dfa6-4e53-a55a-d98c5bcd3d45",
   "metadata": {
    "scrolled": true
   },
   "outputs": [],
   "source": [
    "clf, rf_topfeature_gc_hplc_icp_zero_reduc = rfsrc_result(gc_hplc_icp_zero_reduc,\n",
    "                   type = 'Subcategory')"
   ]
  },
  {
   "cell_type": "code",
   "execution_count": null,
   "id": "330d52db-37af-4689-adc3-4fc18f94edc2",
   "metadata": {
    "scrolled": true
   },
   "outputs": [],
   "source": [
    "# LOD imputed\n",
    "clf = rfsrc_result(gc_hplc_icp_lod.drop(columns=['technique']),\n",
    "                   type = 'Subcategory')"
   ]
  },
  {
   "cell_type": "markdown",
   "id": "742d9e21-63a0-4533-9355-f41bf38734c6",
   "metadata": {},
   "source": [
    "### Gradient-Boosting Method <a class=\"anchor\" id=\"gbm\"></a>"
   ]
  },
  {
   "cell_type": "markdown",
   "id": "f5333628-72a4-42c6-96a2-ee15e0b0e014",
   "metadata": {},
   "source": [
    "#### XGBoost <a class=\"anchor\" id=\"xgboost\"></a>"
   ]
  },
  {
   "cell_type": "markdown",
   "id": "90dbf332-b84d-4797-81cd-6c886c9aaf28",
   "metadata": {},
   "source": [
    "Update 16 April 2024:\n",
    "With GC or ICP data only, maybe consider temporary exclude it from XGBoost because problem in sample size and also there is instrumental error which creates a massive outlier sample that have absurbly high signal intensity in all trace metal than any other samples (almost 2-3x higher than normal)!!!\n",
    "\n",
    "==> because for each plastic product at the moment, we only have 3 replication. In the train_test_split with stratify y, \n",
    "\n",
    "==>> The test_size should be greater or equal to the number of classes\n",
    "\n",
    "==> test_size is calculated = number of unique classes / number of samples\n",
    "\n",
    "==> train dataset have problem where a class only have 1 sample => impossible to do k-fold cross-validation \n",
    "\n",
    "=++= Also I tried to use the faulty input data (with the crazy outlier sample) to put through  k-fold cross-validation and XGBoost ==> the accuracy after k-fold cv is horrible: 0.083 \n",
    "\n",
    "==> However, it is still possible to run k-fold cv and ML classifier with combination of analytical techniques because it actually increase the sample size (i.e., the analytical dataset with bigger sample size compensate for the one with lower sample size and when pool everything together, there are more samples per classes)!!"
   ]
  },
  {
   "cell_type": "code",
   "execution_count": 42,
   "id": "e88d024d-18be-4c60-bb21-7947e6e58f77",
   "metadata": {},
   "outputs": [],
   "source": [
    "dat = gc_hplc_zero_reduc\n",
    "# If a class only have 1 member then exclude that class from the ML\n",
    "# Count the frequency of each class\n",
    "class_counts = dat['Subcategory'].astype(str).value_counts()\n",
    "# Filter out classes with only one member\n",
    "dat = dat[dat['Subcategory'].astype(str).map(class_counts) > 1]\n",
    "\n",
    "# Extract the features and labels\n",
    "X = dat.drop(columns=['Subcategory'])\n",
    "y = dat['Subcategory']\n",
    "\n",
    "regex = re.compile(r\"\\[|\\]|<|>| \", re.IGNORECASE)\n",
    "X.columns = [regex.sub(\"_\", col) if any(x in str(col) for x in set(('[', ']', '<', '>', \" \"))) else col for col in X.columns.values]\n",
    "\n",
    "X_train, X_test, y_train, y_test = train_test_split(X, y, test_size = round(len(dat['Subcategory'].unique())/dat.shape[0], 3), \n",
    "                                                    stratify = y, \n",
    "                                                    random_state= 123 # random.randrange(999)\n",
    "                                                   )"
   ]
  },
  {
   "cell_type": "code",
   "execution_count": 43,
   "id": "ed8f661e-41eb-4ec5-a47e-81c0c676d617",
   "metadata": {
    "scrolled": true
   },
   "outputs": [
    {
     "name": "stdout",
     "output_type": "stream",
     "text": [
      "Accuracy: 0.696 (0.060)\n",
      "n_estimators_1 0.288 (0.065)\n",
      "n_estimators_10 0.629 (0.065)\n",
      "n_estimators_50 0.636 (0.074)\n",
      "n_estimators_100 0.637 (0.076)\n",
      "n_estimators_500 0.653 (0.074)\n",
      "n_estimators_1000 0.655 (0.071)\n",
      "n_estimators_5000 0.648 (0.064)\n",
      "n_estimators_10000 0.646 (0.060)\n"
     ]
    },
    {
     "data": {
      "image/png": "[encoded data removed]",
      "text/plain": [
       "<Figure size 1000x1000 with 1 Axes>"
      ]
     },
     "metadata": {},
     "output_type": "display_data"
    },
    {
     "name": "stdout",
     "output_type": "stream",
     "text": [
      "Balanced Accuracy (testing):0.75\n",
      "                                  precision    recall  f1-score   support\n",
      "\n",
      "                     Bottle caps       0.33      0.50      0.40         2\n",
      "                  Cigarillo tips       0.00      0.00      0.00         1\n",
      "               Fabric face masks       1.00      1.00      1.00         1\n",
      "              Fishing bait trays       1.00      1.00      1.00         1\n",
      "                 Food containers       0.50      1.00      0.67         1\n",
      "                  Food packaging       0.50      1.00      0.67         1\n",
      "                   Food wrappers       1.00      1.00      1.00         1\n",
      "Mixed plastic waste (fragmented)       0.00      0.00      0.00         1\n",
      "               Plastic Toy balls       1.00      1.00      1.00         1\n",
      "                    Plastic cups       0.00      0.00      0.00         1\n",
      "         Plastic drinking straws       1.00      1.00      1.00         2\n",
      "          Polystyrene food waste       1.00      1.00      1.00         1\n",
      "           Various plastic waste       1.00      1.00      1.00         1\n",
      "             Ziploc plastic bags       1.00      1.00      1.00         1\n",
      "\n",
      "                        accuracy                           0.75        16\n",
      "                       macro avg       0.67      0.75      0.70        16\n",
      "                    weighted avg       0.67      0.75      0.70        16\n",
      "\n"
     ]
    },
    {
     "name": "stderr",
     "output_type": "stream",
     "text": [
      "C:\\Users\\huyng\\miniconda3\\Lib\\site-packages\\sklearn\\metrics\\_classification.py:1509: UndefinedMetricWarning: Precision is ill-defined and being set to 0.0 in labels with no predicted samples. Use `zero_division` parameter to control this behavior.\n",
      "  _warn_prf(average, modifier, f\"{metric.capitalize()} is\", len(result))\n",
      "C:\\Users\\huyng\\miniconda3\\Lib\\site-packages\\sklearn\\metrics\\_classification.py:1509: UndefinedMetricWarning: Precision is ill-defined and being set to 0.0 in labels with no predicted samples. Use `zero_division` parameter to control this behavior.\n",
      "  _warn_prf(average, modifier, f\"{metric.capitalize()} is\", len(result))\n",
      "C:\\Users\\huyng\\miniconda3\\Lib\\site-packages\\sklearn\\metrics\\_classification.py:1509: UndefinedMetricWarning: Precision is ill-defined and being set to 0.0 in labels with no predicted samples. Use `zero_division` parameter to control this behavior.\n",
      "  _warn_prf(average, modifier, f\"{metric.capitalize()} is\", len(result))\n"
     ]
    },
    {
     "data": {
      "image/png": "[encoded data removed]",
      "text/plain": [
       "<Figure size 1000x1000 with 2 Axes>"
      ]
     },
     "metadata": {},
     "output_type": "display_data"
    }
   ],
   "source": [
    "label_encoder = LabelEncoder()\n",
    "y_train_encoded = label_encoder.fit_transform(y_train)\n",
    "\n",
    "param_grid = {\n",
    "'n_estimators':  [1, 10, 50, 100, 500, 1000, 5000, 10000], # Generate an array of 100 stepwise values from 0 to 1000, \n",
    "}\n",
    "\n",
    "# # The 'cv' parameter of RandomizedSearchCV must be an int in the range [2, inf) \n",
    "unique, counts = np.unique(y_train, return_counts=True)\n",
    "min_count_idx = np.argmin(counts)\n",
    "\n",
    "cv = RepeatedStratifiedKFold(n_splits = counts[min_count_idx], n_repeats = 10, random_state = 123)\n",
    "\n",
    "gridsearch = GridSearchCV(XGBClassifier(), param_grid=param_grid, \n",
    "                        # number of cv = number of member of classes with least no. of members\n",
    "                        cv = cv,  \n",
    "                        scoring = 'balanced_accuracy',\n",
    "                        n_jobs = -1, return_train_score = True,\n",
    "                         ).fit(X_train, y_train_encoded)\n",
    "\n",
    "grid = gridsearch.best_params_\n",
    "print(grid)\n",
    "\n",
    "# Monitoring split_test_score across different hyperparameters of GridSearch -------------------------------------------------------\n",
    "glued_dicts = ['_'.join([f\"{key}_{value}\" for key, value in d.items()]) for d in gridsearch.cv_results_['params']]\n",
    "split_test_scores_list = []\n",
    "\n",
    "# Iterate over each row\n",
    "for index, row in pd.DataFrame(gridsearch.cv_results_).iterrows():\n",
    "    split_test_scores = []\n",
    "    # Iterate over each column\n",
    "    for column in pd.DataFrame(gridsearch.cv_results_).columns:\n",
    "        # Check if column name matches the pattern \"splitx_test_score\"\n",
    "        if column.startswith('split') and column.endswith('_test_score'):\n",
    "            # Extract numerical value from the column\n",
    "            split_test_score = row[column]\n",
    "            split_test_scores.append(split_test_score)\n",
    "    split_test_scores_list.append(split_test_scores)\n",
    "\n",
    "for name, scores in zip(glued_dicts, split_test_scores_list):\n",
    "  # summarize progress along the way\n",
    " print('%s %.3f (%.3f)' % (name, np.mean(scores), np.std(scores)))\n",
    "# plot model performance for comparison\n",
    "plt.boxplot(split_test_scores_list, labels=glued_dicts, showbox=True, showfliers=True, showcaps=True)\n",
    "plt.xticks(rotation=90)\n",
    "plt.show()\n",
    "\n",
    "# Train model with best params ---------------------------------------\n",
    "gbm_model = XGBClassifier(n_estimators= grid['n_estimators'])\n",
    "gbm_model.fit(X_train, y_train_encoded)\n",
    "\n",
    "predictions_test = gbm_model.predict_proba(X_test)\n",
    "pred_df_test = pd.DataFrame(predictions_test, columns=gbm_model.classes_)\n",
    "\n",
    "y_pred_test = label_encoder.inverse_transform(pred_df_test.select_dtypes(include=[np.number]).idxmax(axis=1))\n",
    "label_encoder.inverse_transform(gbm_model.classes_)\n",
    "\n",
    "# Balanced accuracy score\n",
    "print(\"Balanced Accuracy (testing):\" + str(balanced_accuracy_score(y_test, y_pred_test)))\n",
    "\n",
    "# Generate confusion matrix of test set\n",
    "conf_matrix_sklearn = confusion_matrix(y_test, y_pred_test, labels=label_encoder.inverse_transform(gbm_model.classes_))\n",
    "\n",
    "print(classification_report(y_test, y_pred_test))\n",
    "\n",
    "# To visualize the confusion matrix\n",
    "ConfusionMatrixDisplay(conf_matrix_sklearn,\n",
    "                      display_labels=label_encoder.inverse_transform(gbm_model.classes_)).plot(cmap=plt.cm.Blues, xticks_rotation=\"vertical\")\n",
    "plt.tight_layout()\n",
    "plt.show()"
   ]
  },
  {
   "cell_type": "markdown",
   "id": "bf21d17a-5272-43e2-ba50-0032768178da",
   "metadata": {},
   "source": [
    "#### LightGBM <a class=\"anchor\" id=\"lightgbm\"></a>"
   ]
  },
  {
   "cell_type": "code",
   "execution_count": 45,
   "id": "970702f9-9e22-4fa5-b3c0-8c4297dafa52",
   "metadata": {},
   "outputs": [
    {
     "name": "stdout",
     "output_type": "stream",
     "text": [
      "Accuracy: 0.569 (0.067)\n",
      "[LightGBM] [Info] Auto-choosing col-wise multi-threading, the overhead of testing was 0.002933 seconds.\n",
      "You can set `force_col_wise=true` to remove the overhead.\n",
      "[LightGBM] [Info] Total Bins 7989\n",
      "[LightGBM] [Info] Number of data points in the train set: 109, number of used features: 643\n",
      "[LightGBM] [Info] Start training from score -3.592736\n",
      "[LightGBM] [Info] Start training from score -2.388763\n",
      "[LightGBM] [Info] Start training from score -2.611906\n",
      "[LightGBM] [Info] Start training from score -3.592736\n",
      "[LightGBM] [Info] Start training from score -2.611906\n",
      "[LightGBM] [Info] Start training from score -2.611906\n",
      "[LightGBM] [Info] Start training from score -2.494123\n",
      "[LightGBM] [Info] Start training from score -2.611906\n",
      "[LightGBM] [Info] Start training from score -2.611906\n",
      "[LightGBM] [Info] Start training from score -3.998201\n",
      "[LightGBM] [Info] Start training from score -2.611906\n",
      "[LightGBM] [Info] Start training from score -3.998201\n",
      "[LightGBM] [Info] Start training from score -2.494123\n",
      "[LightGBM] [Info] Start training from score -2.611906\n",
      "[LightGBM] [Info] Start training from score -2.745438\n",
      "[LightGBM] [Info] Start training from score -2.611906\n",
      "[LightGBM] [Warning] No further splits with positive gain, best gain: -inf\n",
      "[LightGBM] [Warning] No further splits with positive gain, best gain: -inf\n",
      "[LightGBM] [Warning] No further splits with positive gain, best gain: -inf\n",
      "[LightGBM] [Warning] No further splits with positive gain, best gain: -inf\n",
      "[LightGBM] [Warning] No further splits with positive gain, best gain: -inf\n",
      "[LightGBM] [Warning] No further splits with positive gain, best gain: -inf\n",
      "[LightGBM] [Warning] No further splits with positive gain, best gain: -inf\n",
      "[LightGBM] [Warning] No further splits with positive gain, best gain: -inf\n",
      "[LightGBM] [Warning] No further splits with positive gain, best gain: -inf\n",
      "[LightGBM] [Warning] No further splits with positive gain, best gain: -inf\n",
      "[LightGBM] [Warning] No further splits with positive gain, best gain: -inf\n",
      "[LightGBM] [Warning] No further splits with positive gain, best gain: -inf\n",
      "[LightGBM] [Warning] No further splits with positive gain, best gain: -inf\n",
      "[LightGBM] [Warning] No further splits with positive gain, best gain: -inf\n",
      "[LightGBM] [Warning] No further splits with positive gain, best gain: -inf\n",
      "[LightGBM] [Warning] No further splits with positive gain, best gain: -inf\n",
      "[LightGBM] [Warning] No further splits with positive gain, best gain: -inf\n",
      "[LightGBM] [Warning] No further splits with positive gain, best gain: -inf\n",
      "[LightGBM] [Warning] No further splits with positive gain, best gain: -inf\n",
      "[LightGBM] [Warning] No further splits with positive gain, best gain: -inf\n",
      "[LightGBM] [Warning] No further splits with positive gain, best gain: -inf\n",
      "[LightGBM] [Warning] No further splits with positive gain, best gain: -inf\n",
      "[LightGBM] [Warning] No further splits with positive gain, best gain: -inf\n",
      "[LightGBM] [Warning] No further splits with positive gain, best gain: -inf\n",
      "[LightGBM] [Warning] No further splits with positive gain, best gain: -inf\n",
      "[LightGBM] [Warning] No further splits with positive gain, best gain: -inf\n",
      "[LightGBM] [Warning] No further splits with positive gain, best gain: -inf\n",
      "[LightGBM] [Warning] No further splits with positive gain, best gain: -inf\n",
      "[LightGBM] [Warning] No further splits with positive gain, best gain: -inf\n",
      "[LightGBM] [Warning] No further splits with positive gain, best gain: -inf\n",
      "[LightGBM] [Warning] No further splits with positive gain, best gain: -inf\n",
      "[LightGBM] [Warning] No further splits with positive gain, best gain: -inf\n",
      "[LightGBM] [Warning] No further splits with positive gain, best gain: -inf\n",
      "[LightGBM] [Warning] No further splits with positive gain, best gain: -inf\n",
      "[LightGBM] [Warning] No further splits with positive gain, best gain: -inf\n",
      "[LightGBM] [Warning] No further splits with positive gain, best gain: -inf\n",
      "[LightGBM] [Warning] No further splits with positive gain, best gain: -inf\n",
      "[LightGBM] [Warning] No further splits with positive gain, best gain: -inf\n",
      "[LightGBM] [Warning] No further splits with positive gain, best gain: -inf\n",
      "[LightGBM] [Warning] No further splits with positive gain, best gain: -inf\n",
      "[LightGBM] [Warning] No further splits with positive gain, best gain: -inf\n",
      "[LightGBM] [Warning] No further splits with positive gain, best gain: -inf\n",
      "[LightGBM] [Warning] No further splits with positive gain, best gain: -inf\n",
      "[LightGBM] [Warning] No further splits with positive gain, best gain: -inf\n",
      "[LightGBM] [Warning] No further splits with positive gain, best gain: -inf\n",
      "[LightGBM] [Warning] No further splits with positive gain, best gain: -inf\n",
      "[LightGBM] [Warning] No further splits with positive gain, best gain: -inf\n",
      "[LightGBM] [Warning] No further splits with positive gain, best gain: -inf\n",
      "[LightGBM] [Warning] No further splits with positive gain, best gain: -inf\n",
      "[LightGBM] [Warning] No further splits with positive gain, best gain: -inf\n",
      "[LightGBM] [Warning] No further splits with positive gain, best gain: -inf\n",
      "[LightGBM] [Warning] No further splits with positive gain, best gain: -inf\n",
      "[LightGBM] [Warning] No further splits with positive gain, best gain: -inf\n",
      "[LightGBM] [Warning] No further splits with positive gain, best gain: -inf\n",
      "[LightGBM] [Warning] No further splits with positive gain, best gain: -inf\n",
      "[LightGBM] [Warning] No further splits with positive gain, best gain: -inf\n",
      "[LightGBM] [Warning] No further splits with positive gain, best gain: -inf\n",
      "[LightGBM] [Warning] No further splits with positive gain, best gain: -inf\n",
      "[LightGBM] [Warning] No further splits with positive gain, best gain: -inf\n",
      "[LightGBM] [Warning] No further splits with positive gain, best gain: -inf\n",
      "[LightGBM] [Warning] No further splits with positive gain, best gain: -inf\n",
      "[LightGBM] [Warning] No further splits with positive gain, best gain: -inf\n",
      "[LightGBM] [Warning] No further splits with positive gain, best gain: -inf\n",
      "[LightGBM] [Warning] No further splits with positive gain, best gain: -inf\n",
      "[LightGBM] [Warning] No further splits with positive gain, best gain: -inf\n",
      "[LightGBM] [Warning] No further splits with positive gain, best gain: -inf\n",
      "[LightGBM] [Warning] No further splits with positive gain, best gain: -inf\n",
      "[LightGBM] [Warning] No further splits with positive gain, best gain: -inf\n",
      "[LightGBM] [Warning] No further splits with positive gain, best gain: -inf\n",
      "[LightGBM] [Warning] No further splits with positive gain, best gain: -inf\n",
      "[LightGBM] [Warning] No further splits with positive gain, best gain: -inf\n",
      "[LightGBM] [Warning] No further splits with positive gain, best gain: -inf\n",
      "[LightGBM] [Warning] No further splits with positive gain, best gain: -inf\n",
      "[LightGBM] [Warning] No further splits with positive gain, best gain: -inf\n",
      "[LightGBM] [Warning] No further splits with positive gain, best gain: -inf\n",
      "[LightGBM] [Warning] No further splits with positive gain, best gain: -inf\n",
      "[LightGBM] [Warning] No further splits with positive gain, best gain: -inf\n",
      "[LightGBM] [Warning] No further splits with positive gain, best gain: -inf\n",
      "[LightGBM] [Warning] No further splits with positive gain, best gain: -inf\n",
      "[LightGBM] [Warning] No further splits with positive gain, best gain: -inf\n",
      "[LightGBM] [Warning] No further splits with positive gain, best gain: -inf\n",
      "[LightGBM] [Warning] No further splits with positive gain, best gain: -inf\n",
      "[LightGBM] [Warning] No further splits with positive gain, best gain: -inf\n",
      "[LightGBM] [Warning] No further splits with positive gain, best gain: -inf\n",
      "[LightGBM] [Warning] No further splits with positive gain, best gain: -inf\n",
      "[LightGBM] [Warning] No further splits with positive gain, best gain: -inf\n",
      "[LightGBM] [Warning] No further splits with positive gain, best gain: -inf\n",
      "[LightGBM] [Warning] No further splits with positive gain, best gain: -inf\n",
      "[LightGBM] [Warning] No further splits with positive gain, best gain: -inf\n",
      "[LightGBM] [Warning] No further splits with positive gain, best gain: -inf\n",
      "[LightGBM] [Warning] No further splits with positive gain, best gain: -inf\n",
      "[LightGBM] [Warning] No further splits with positive gain, best gain: -inf\n",
      "[LightGBM] [Warning] No further splits with positive gain, best gain: -inf\n",
      "[LightGBM] [Warning] No further splits with positive gain, best gain: -inf\n",
      "[LightGBM] [Warning] No further splits with positive gain, best gain: -inf\n",
      "[LightGBM] [Warning] No further splits with positive gain, best gain: -inf\n",
      "[LightGBM] [Warning] No further splits with positive gain, best gain: -inf\n",
      "[LightGBM] [Warning] No further splits with positive gain, best gain: -inf\n",
      "[LightGBM] [Warning] No further splits with positive gain, best gain: -inf\n",
      "[LightGBM] [Warning] No further splits with positive gain, best gain: -inf\n",
      "[LightGBM] [Warning] No further splits with positive gain, best gain: -inf\n",
      "[LightGBM] [Warning] No further splits with positive gain, best gain: -inf\n",
      "[LightGBM] [Warning] No further splits with positive gain, best gain: -inf\n",
      "[LightGBM] [Warning] No further splits with positive gain, best gain: -inf\n",
      "[LightGBM] [Warning] No further splits with positive gain, best gain: -inf\n",
      "[LightGBM] [Warning] No further splits with positive gain, best gain: -inf\n",
      "[LightGBM] [Warning] No further splits with positive gain, best gain: -inf\n",
      "[LightGBM] [Warning] No further splits with positive gain, best gain: -inf\n",
      "[LightGBM] [Warning] No further splits with positive gain, best gain: -inf\n",
      "[LightGBM] [Warning] No further splits with positive gain, best gain: -inf\n",
      "[LightGBM] [Warning] No further splits with positive gain, best gain: -inf\n",
      "[LightGBM] [Warning] No further splits with positive gain, best gain: -inf\n",
      "[LightGBM] [Warning] No further splits with positive gain, best gain: -inf\n",
      "[LightGBM] [Warning] No further splits with positive gain, best gain: -inf\n",
      "[LightGBM] [Warning] No further splits with positive gain, best gain: -inf\n",
      "[LightGBM] [Warning] No further splits with positive gain, best gain: -inf\n",
      "[LightGBM] [Warning] No further splits with positive gain, best gain: -inf\n",
      "[LightGBM] [Warning] No further splits with positive gain, best gain: -inf\n",
      "[LightGBM] [Warning] No further splits with positive gain, best gain: -inf\n",
      "[LightGBM] [Warning] No further splits with positive gain, best gain: -inf\n",
      "[LightGBM] [Warning] No further splits with positive gain, best gain: -inf\n",
      "[LightGBM] [Warning] No further splits with positive gain, best gain: -inf\n",
      "[LightGBM] [Warning] No further splits with positive gain, best gain: -inf\n",
      "[LightGBM] [Warning] No further splits with positive gain, best gain: -inf\n",
      "[LightGBM] [Warning] No further splits with positive gain, best gain: -inf\n",
      "[LightGBM] [Warning] No further splits with positive gain, best gain: -inf\n",
      "[LightGBM] [Warning] No further splits with positive gain, best gain: -inf\n",
      "[LightGBM] [Warning] No further splits with positive gain, best gain: -inf\n",
      "[LightGBM] [Warning] No further splits with positive gain, best gain: -inf\n",
      "[LightGBM] [Warning] No further splits with positive gain, best gain: -inf\n",
      "[LightGBM] [Warning] No further splits with positive gain, best gain: -inf\n",
      "[LightGBM] [Warning] No further splits with positive gain, best gain: -inf\n",
      "[LightGBM] [Warning] No further splits with positive gain, best gain: -inf\n",
      "[LightGBM] [Warning] No further splits with positive gain, best gain: -inf\n",
      "[LightGBM] [Warning] No further splits with positive gain, best gain: -inf\n",
      "[LightGBM] [Warning] No further splits with positive gain, best gain: -inf\n",
      "[LightGBM] [Warning] No further splits with positive gain, best gain: -inf\n",
      "[LightGBM] [Warning] No further splits with positive gain, best gain: -inf\n",
      "[LightGBM] [Warning] No further splits with positive gain, best gain: -inf\n",
      "[LightGBM] [Warning] No further splits with positive gain, best gain: -inf\n",
      "[LightGBM] [Warning] No further splits with positive gain, best gain: -inf\n",
      "[LightGBM] [Warning] No further splits with positive gain, best gain: -inf\n",
      "[LightGBM] [Warning] No further splits with positive gain, best gain: -inf\n",
      "[LightGBM] [Warning] No further splits with positive gain, best gain: -inf\n",
      "[LightGBM] [Warning] No further splits with positive gain, best gain: -inf\n",
      "[LightGBM] [Warning] No further splits with positive gain, best gain: -inf\n",
      "[LightGBM] [Warning] No further splits with positive gain, best gain: -inf\n",
      "[LightGBM] [Warning] No further splits with positive gain, best gain: -inf\n",
      "[LightGBM] [Warning] No further splits with positive gain, best gain: -inf\n",
      "[LightGBM] [Warning] No further splits with positive gain, best gain: -inf\n",
      "[LightGBM] [Warning] No further splits with positive gain, best gain: -inf\n",
      "[LightGBM] [Warning] No further splits with positive gain, best gain: -inf\n",
      "[LightGBM] [Warning] No further splits with positive gain, best gain: -inf\n",
      "[LightGBM] [Warning] No further splits with positive gain, best gain: -inf\n",
      "[LightGBM] [Warning] No further splits with positive gain, best gain: -inf\n",
      "[LightGBM] [Warning] No further splits with positive gain, best gain: -inf\n",
      "[LightGBM] [Warning] No further splits with positive gain, best gain: -inf\n",
      "[LightGBM] [Warning] No further splits with positive gain, best gain: -inf\n",
      "[LightGBM] [Warning] No further splits with positive gain, best gain: -inf\n",
      "[LightGBM] [Warning] No further splits with positive gain, best gain: -inf\n",
      "[LightGBM] [Warning] No further splits with positive gain, best gain: -inf\n",
      "[LightGBM] [Warning] No further splits with positive gain, best gain: -inf\n",
      "[LightGBM] [Warning] No further splits with positive gain, best gain: -inf\n",
      "[LightGBM] [Warning] No further splits with positive gain, best gain: -inf\n",
      "[LightGBM] [Warning] No further splits with positive gain, best gain: -inf\n",
      "[LightGBM] [Warning] No further splits with positive gain, best gain: -inf\n",
      "[LightGBM] [Warning] No further splits with positive gain, best gain: -inf\n",
      "[LightGBM] [Warning] No further splits with positive gain, best gain: -inf\n",
      "[LightGBM] [Warning] No further splits with positive gain, best gain: -inf\n",
      "[LightGBM] [Warning] No further splits with positive gain, best gain: -inf\n",
      "[LightGBM] [Warning] No further splits with positive gain, best gain: -inf\n",
      "[LightGBM] [Warning] No further splits with positive gain, best gain: -inf\n",
      "[LightGBM] [Warning] No further splits with positive gain, best gain: -inf\n",
      "[LightGBM] [Warning] No further splits with positive gain, best gain: -inf\n",
      "[LightGBM] [Warning] No further splits with positive gain, best gain: -inf\n",
      "[LightGBM] [Warning] No further splits with positive gain, best gain: -inf\n",
      "[LightGBM] [Warning] No further splits with positive gain, best gain: -inf\n",
      "[LightGBM] [Warning] No further splits with positive gain, best gain: -inf\n",
      "[LightGBM] [Warning] No further splits with positive gain, best gain: -inf\n",
      "[LightGBM] [Warning] No further splits with positive gain, best gain: -inf\n",
      "[LightGBM] [Warning] No further splits with positive gain, best gain: -inf\n",
      "[LightGBM] [Warning] No further splits with positive gain, best gain: -inf\n",
      "[LightGBM] [Warning] No further splits with positive gain, best gain: -inf\n",
      "[LightGBM] [Warning] No further splits with positive gain, best gain: -inf\n",
      "[LightGBM] [Warning] No further splits with positive gain, best gain: -inf\n",
      "[LightGBM] [Warning] No further splits with positive gain, best gain: -inf\n",
      "[LightGBM] [Warning] No further splits with positive gain, best gain: -inf\n",
      "[LightGBM] [Warning] No further splits with positive gain, best gain: -inf\n",
      "[LightGBM] [Warning] No further splits with positive gain, best gain: -inf\n",
      "[LightGBM] [Warning] No further splits with positive gain, best gain: -inf\n",
      "[LightGBM] [Warning] No further splits with positive gain, best gain: -inf\n",
      "[LightGBM] [Warning] No further splits with positive gain, best gain: -inf\n",
      "[LightGBM] [Warning] No further splits with positive gain, best gain: -inf\n",
      "[LightGBM] [Warning] No further splits with positive gain, best gain: -inf\n",
      "[LightGBM] [Warning] No further splits with positive gain, best gain: -inf\n",
      "[LightGBM] [Warning] No further splits with positive gain, best gain: -inf\n",
      "[LightGBM] [Warning] No further splits with positive gain, best gain: -inf\n",
      "[LightGBM] [Warning] No further splits with positive gain, best gain: -inf\n",
      "[LightGBM] [Warning] No further splits with positive gain, best gain: -inf\n",
      "[LightGBM] [Warning] No further splits with positive gain, best gain: -inf\n",
      "[LightGBM] [Warning] No further splits with positive gain, best gain: -inf\n",
      "[LightGBM] [Warning] No further splits with positive gain, best gain: -inf\n",
      "[LightGBM] [Warning] No further splits with positive gain, best gain: -inf\n",
      "[LightGBM] [Warning] No further splits with positive gain, best gain: -inf\n",
      "[LightGBM] [Warning] No further splits with positive gain, best gain: -inf\n",
      "[LightGBM] [Warning] No further splits with positive gain, best gain: -inf\n",
      "[LightGBM] [Warning] No further splits with positive gain, best gain: -inf\n",
      "[LightGBM] [Warning] No further splits with positive gain, best gain: -inf\n",
      "[LightGBM] [Warning] No further splits with positive gain, best gain: -inf\n",
      "[LightGBM] [Warning] No further splits with positive gain, best gain: -inf\n",
      "[LightGBM] [Warning] No further splits with positive gain, best gain: -inf\n",
      "[LightGBM] [Warning] No further splits with positive gain, best gain: -inf\n",
      "[LightGBM] [Warning] No further splits with positive gain, best gain: -inf\n",
      "[LightGBM] [Warning] No further splits with positive gain, best gain: -inf\n",
      "[LightGBM] [Warning] No further splits with positive gain, best gain: -inf\n",
      "[LightGBM] [Warning] No further splits with positive gain, best gain: -inf\n",
      "[LightGBM] [Warning] No further splits with positive gain, best gain: -inf\n",
      "[LightGBM] [Warning] No further splits with positive gain, best gain: -inf\n",
      "[LightGBM] [Warning] No further splits with positive gain, best gain: -inf\n",
      "[LightGBM] [Warning] No further splits with positive gain, best gain: -inf\n",
      "[LightGBM] [Warning] No further splits with positive gain, best gain: -inf\n",
      "[LightGBM] [Warning] No further splits with positive gain, best gain: -inf\n",
      "[LightGBM] [Warning] No further splits with positive gain, best gain: -inf\n",
      "[LightGBM] [Warning] No further splits with positive gain, best gain: -inf\n",
      "[LightGBM] [Warning] No further splits with positive gain, best gain: -inf\n",
      "[LightGBM] [Warning] No further splits with positive gain, best gain: -inf\n",
      "[LightGBM] [Warning] No further splits with positive gain, best gain: -inf\n",
      "[LightGBM] [Warning] No further splits with positive gain, best gain: -inf\n",
      "[LightGBM] [Warning] No further splits with positive gain, best gain: -inf\n",
      "[LightGBM] [Warning] No further splits with positive gain, best gain: -inf\n",
      "[LightGBM] [Warning] No further splits with positive gain, best gain: -inf\n",
      "[LightGBM] [Warning] No further splits with positive gain, best gain: -inf\n",
      "[LightGBM] [Warning] No further splits with positive gain, best gain: -inf\n",
      "[LightGBM] [Warning] No further splits with positive gain, best gain: -inf\n",
      "[LightGBM] [Warning] No further splits with positive gain, best gain: -inf\n",
      "[LightGBM] [Warning] No further splits with positive gain, best gain: -inf\n",
      "[LightGBM] [Warning] No further splits with positive gain, best gain: -inf\n",
      "[LightGBM] [Warning] No further splits with positive gain, best gain: -inf\n",
      "[LightGBM] [Warning] No further splits with positive gain, best gain: -inf\n",
      "[LightGBM] [Warning] No further splits with positive gain, best gain: -inf\n",
      "[LightGBM] [Warning] No further splits with positive gain, best gain: -inf\n",
      "[LightGBM] [Warning] No further splits with positive gain, best gain: -inf\n",
      "[LightGBM] [Warning] No further splits with positive gain, best gain: -inf\n",
      "[LightGBM] [Warning] No further splits with positive gain, best gain: -inf\n",
      "[LightGBM] [Warning] No further splits with positive gain, best gain: -inf\n",
      "[LightGBM] [Warning] No further splits with positive gain, best gain: -inf\n",
      "[LightGBM] [Warning] No further splits with positive gain, best gain: -inf\n",
      "[LightGBM] [Warning] No further splits with positive gain, best gain: -inf\n",
      "[LightGBM] [Warning] No further splits with positive gain, best gain: -inf\n",
      "[LightGBM] [Warning] No further splits with positive gain, best gain: -inf\n",
      "[LightGBM] [Warning] No further splits with positive gain, best gain: -inf\n",
      "[LightGBM] [Warning] No further splits with positive gain, best gain: -inf\n",
      "[LightGBM] [Warning] No further splits with positive gain, best gain: -inf\n",
      "[LightGBM] [Warning] No further splits with positive gain, best gain: -inf\n",
      "[LightGBM] [Warning] No further splits with positive gain, best gain: -inf\n",
      "[LightGBM] [Warning] No further splits with positive gain, best gain: -inf\n",
      "[LightGBM] [Warning] No further splits with positive gain, best gain: -inf\n",
      "[LightGBM] [Warning] No further splits with positive gain, best gain: -inf\n",
      "[LightGBM] [Warning] No further splits with positive gain, best gain: -inf\n",
      "[LightGBM] [Warning] No further splits with positive gain, best gain: -inf\n",
      "[LightGBM] [Warning] No further splits with positive gain, best gain: -inf\n",
      "[LightGBM] [Warning] No further splits with positive gain, best gain: -inf\n",
      "[LightGBM] [Warning] No further splits with positive gain, best gain: -inf\n",
      "[LightGBM] [Warning] No further splits with positive gain, best gain: -inf\n",
      "[LightGBM] [Warning] No further splits with positive gain, best gain: -inf\n",
      "[LightGBM] [Warning] No further splits with positive gain, best gain: -inf\n",
      "[LightGBM] [Warning] No further splits with positive gain, best gain: -inf\n",
      "[LightGBM] [Warning] No further splits with positive gain, best gain: -inf\n",
      "[LightGBM] [Warning] No further splits with positive gain, best gain: -inf\n",
      "[LightGBM] [Warning] No further splits with positive gain, best gain: -inf\n",
      "[LightGBM] [Warning] No further splits with positive gain, best gain: -inf\n",
      "[LightGBM] [Warning] No further splits with positive gain, best gain: -inf\n",
      "[LightGBM] [Warning] No further splits with positive gain, best gain: -inf\n",
      "[LightGBM] [Warning] No further splits with positive gain, best gain: -inf\n",
      "[LightGBM] [Warning] No further splits with positive gain, best gain: -inf\n",
      "[LightGBM] [Warning] No further splits with positive gain, best gain: -inf\n",
      "[LightGBM] [Warning] No further splits with positive gain, best gain: -inf\n",
      "[LightGBM] [Warning] No further splits with positive gain, best gain: -inf\n",
      "[LightGBM] [Warning] No further splits with positive gain, best gain: -inf\n",
      "[LightGBM] [Warning] No further splits with positive gain, best gain: -inf\n",
      "[LightGBM] [Warning] No further splits with positive gain, best gain: -inf\n",
      "[LightGBM] [Warning] No further splits with positive gain, best gain: -inf\n",
      "[LightGBM] [Warning] No further splits with positive gain, best gain: -inf\n",
      "[LightGBM] [Warning] No further splits with positive gain, best gain: -inf\n",
      "[LightGBM] [Warning] No further splits with positive gain, best gain: -inf\n",
      "[LightGBM] [Warning] No further splits with positive gain, best gain: -inf\n",
      "[LightGBM] [Warning] No further splits with positive gain, best gain: -inf\n",
      "[LightGBM] [Warning] No further splits with positive gain, best gain: -inf\n",
      "[LightGBM] [Warning] No further splits with positive gain, best gain: -inf\n",
      "[LightGBM] [Warning] No further splits with positive gain, best gain: -inf\n",
      "[LightGBM] [Warning] No further splits with positive gain, best gain: -inf\n",
      "[LightGBM] [Warning] No further splits with positive gain, best gain: -inf\n",
      "[LightGBM] [Warning] No further splits with positive gain, best gain: -inf\n",
      "[LightGBM] [Warning] No further splits with positive gain, best gain: -inf\n",
      "[LightGBM] [Warning] No further splits with positive gain, best gain: -inf\n",
      "[LightGBM] [Warning] No further splits with positive gain, best gain: -inf\n",
      "[LightGBM] [Warning] No further splits with positive gain, best gain: -inf\n",
      "[LightGBM] [Warning] No further splits with positive gain, best gain: -inf\n",
      "[LightGBM] [Warning] No further splits with positive gain, best gain: -inf\n",
      "[LightGBM] [Warning] No further splits with positive gain, best gain: -inf\n",
      "[LightGBM] [Warning] No further splits with positive gain, best gain: -inf\n",
      "[LightGBM] [Warning] No further splits with positive gain, best gain: -inf\n",
      "[LightGBM] [Warning] No further splits with positive gain, best gain: -inf\n",
      "[LightGBM] [Warning] No further splits with positive gain, best gain: -inf\n",
      "[LightGBM] [Warning] No further splits with positive gain, best gain: -inf\n",
      "[LightGBM] [Warning] No further splits with positive gain, best gain: -inf\n",
      "[LightGBM] [Warning] No further splits with positive gain, best gain: -inf\n",
      "[LightGBM] [Warning] No further splits with positive gain, best gain: -inf\n",
      "[LightGBM] [Warning] No further splits with positive gain, best gain: -inf\n",
      "[LightGBM] [Warning] No further splits with positive gain, best gain: -inf\n",
      "[LightGBM] [Warning] No further splits with positive gain, best gain: -inf\n",
      "[LightGBM] [Warning] No further splits with positive gain, best gain: -inf\n",
      "[LightGBM] [Warning] No further splits with positive gain, best gain: -inf\n",
      "[LightGBM] [Warning] No further splits with positive gain, best gain: -inf\n",
      "[LightGBM] [Warning] No further splits with positive gain, best gain: -inf\n",
      "[LightGBM] [Warning] No further splits with positive gain, best gain: -inf\n",
      "[LightGBM] [Warning] No further splits with positive gain, best gain: -inf\n",
      "[LightGBM] [Warning] No further splits with positive gain, best gain: -inf\n",
      "[LightGBM] [Warning] No further splits with positive gain, best gain: -inf\n",
      "[LightGBM] [Warning] No further splits with positive gain, best gain: -inf\n",
      "[LightGBM] [Warning] No further splits with positive gain, best gain: -inf\n",
      "[LightGBM] [Warning] No further splits with positive gain, best gain: -inf\n",
      "[LightGBM] [Warning] No further splits with positive gain, best gain: -inf\n",
      "[LightGBM] [Warning] No further splits with positive gain, best gain: -inf\n",
      "[LightGBM] [Warning] No further splits with positive gain, best gain: -inf\n",
      "[LightGBM] [Warning] No further splits with positive gain, best gain: -inf\n",
      "[LightGBM] [Warning] No further splits with positive gain, best gain: -inf\n",
      "[LightGBM] [Warning] No further splits with positive gain, best gain: -inf\n",
      "[LightGBM] [Warning] No further splits with positive gain, best gain: -inf\n",
      "[LightGBM] [Warning] No further splits with positive gain, best gain: -inf\n",
      "[LightGBM] [Warning] No further splits with positive gain, best gain: -inf\n",
      "[LightGBM] [Warning] No further splits with positive gain, best gain: -inf\n",
      "[LightGBM] [Warning] No further splits with positive gain, best gain: -inf\n",
      "[LightGBM] [Warning] No further splits with positive gain, best gain: -inf\n",
      "[LightGBM] [Warning] No further splits with positive gain, best gain: -inf\n",
      "[LightGBM] [Warning] No further splits with positive gain, best gain: -inf\n",
      "[LightGBM] [Warning] No further splits with positive gain, best gain: -inf\n",
      "[LightGBM] [Warning] No further splits with positive gain, best gain: -inf\n",
      "[LightGBM] [Warning] No further splits with positive gain, best gain: -inf\n",
      "[LightGBM] [Warning] No further splits with positive gain, best gain: -inf\n",
      "[LightGBM] [Warning] No further splits with positive gain, best gain: -inf\n",
      "[LightGBM] [Warning] No further splits with positive gain, best gain: -inf\n",
      "[LightGBM] [Warning] No further splits with positive gain, best gain: -inf\n",
      "[LightGBM] [Warning] No further splits with positive gain, best gain: -inf\n",
      "[LightGBM] [Warning] No further splits with positive gain, best gain: -inf\n",
      "[LightGBM] [Warning] No further splits with positive gain, best gain: -inf\n",
      "[LightGBM] [Warning] No further splits with positive gain, best gain: -inf\n",
      "[LightGBM] [Warning] No further splits with positive gain, best gain: -inf\n",
      "[LightGBM] [Warning] No further splits with positive gain, best gain: -inf\n",
      "[LightGBM] [Warning] No further splits with positive gain, best gain: -inf\n",
      "[LightGBM] [Warning] No further splits with positive gain, best gain: -inf\n",
      "[LightGBM] [Warning] No further splits with positive gain, best gain: -inf\n",
      "[LightGBM] [Warning] No further splits with positive gain, best gain: -inf\n",
      "[LightGBM] [Warning] No further splits with positive gain, best gain: -inf\n",
      "[LightGBM] [Warning] No further splits with positive gain, best gain: -inf\n",
      "[LightGBM] [Warning] No further splits with positive gain, best gain: -inf\n",
      "[LightGBM] [Warning] No further splits with positive gain, best gain: -inf\n",
      "[LightGBM] [Warning] No further splits with positive gain, best gain: -inf\n",
      "[LightGBM] [Warning] No further splits with positive gain, best gain: -inf\n",
      "[LightGBM] [Warning] No further splits with positive gain, best gain: -inf\n",
      "[LightGBM] [Warning] No further splits with positive gain, best gain: -inf\n",
      "[LightGBM] [Warning] No further splits with positive gain, best gain: -inf\n",
      "[LightGBM] [Warning] No further splits with positive gain, best gain: -inf\n",
      "[LightGBM] [Warning] No further splits with positive gain, best gain: -inf\n",
      "[LightGBM] [Warning] No further splits with positive gain, best gain: -inf\n",
      "[LightGBM] [Warning] No further splits with positive gain, best gain: -inf\n",
      "[LightGBM] [Warning] No further splits with positive gain, best gain: -inf\n",
      "[LightGBM] [Warning] No further splits with positive gain, best gain: -inf\n",
      "[LightGBM] [Warning] No further splits with positive gain, best gain: -inf\n",
      "[LightGBM] [Warning] No further splits with positive gain, best gain: -inf\n",
      "[LightGBM] [Warning] No further splits with positive gain, best gain: -inf\n",
      "[LightGBM] [Warning] No further splits with positive gain, best gain: -inf\n",
      "[LightGBM] [Warning] No further splits with positive gain, best gain: -inf\n",
      "[LightGBM] [Warning] No further splits with positive gain, best gain: -inf\n",
      "[LightGBM] [Warning] No further splits with positive gain, best gain: -inf\n",
      "[LightGBM] [Warning] No further splits with positive gain, best gain: -inf\n",
      "[LightGBM] [Warning] No further splits with positive gain, best gain: -inf\n",
      "[LightGBM] [Warning] No further splits with positive gain, best gain: -inf\n",
      "[LightGBM] [Warning] No further splits with positive gain, best gain: -inf\n",
      "[LightGBM] [Warning] No further splits with positive gain, best gain: -inf\n",
      "[LightGBM] [Warning] No further splits with positive gain, best gain: -inf\n",
      "[LightGBM] [Warning] No further splits with positive gain, best gain: -inf\n",
      "[LightGBM] [Warning] No further splits with positive gain, best gain: -inf\n",
      "[LightGBM] [Warning] No further splits with positive gain, best gain: -inf\n",
      "[LightGBM] [Warning] No further splits with positive gain, best gain: -inf\n",
      "[LightGBM] [Warning] No further splits with positive gain, best gain: -inf\n",
      "[LightGBM] [Warning] No further splits with positive gain, best gain: -inf\n",
      "[LightGBM] [Warning] No further splits with positive gain, best gain: -inf\n",
      "[LightGBM] [Warning] No further splits with positive gain, best gain: -inf\n",
      "[LightGBM] [Warning] No further splits with positive gain, best gain: -inf\n",
      "[LightGBM] [Warning] No further splits with positive gain, best gain: -inf\n",
      "[LightGBM] [Warning] No further splits with positive gain, best gain: -inf\n",
      "[LightGBM] [Warning] No further splits with positive gain, best gain: -inf\n",
      "[LightGBM] [Warning] No further splits with positive gain, best gain: -inf\n",
      "[LightGBM] [Warning] No further splits with positive gain, best gain: -inf\n",
      "[LightGBM] [Warning] No further splits with positive gain, best gain: -inf\n",
      "[LightGBM] [Warning] No further splits with positive gain, best gain: -inf\n",
      "[LightGBM] [Warning] No further splits with positive gain, best gain: -inf\n",
      "[LightGBM] [Warning] No further splits with positive gain, best gain: -inf\n",
      "[LightGBM] [Warning] No further splits with positive gain, best gain: -inf\n",
      "[LightGBM] [Warning] No further splits with positive gain, best gain: -inf\n",
      "[LightGBM] [Warning] No further splits with positive gain, best gain: -inf\n",
      "[LightGBM] [Warning] No further splits with positive gain, best gain: -inf\n",
      "[LightGBM] [Warning] No further splits with positive gain, best gain: -inf\n",
      "[LightGBM] [Warning] No further splits with positive gain, best gain: -inf\n",
      "[LightGBM] [Warning] No further splits with positive gain, best gain: -inf\n",
      "[LightGBM] [Warning] No further splits with positive gain, best gain: -inf\n",
      "[LightGBM] [Warning] No further splits with positive gain, best gain: -inf\n",
      "[LightGBM] [Warning] No further splits with positive gain, best gain: -inf\n",
      "[LightGBM] [Warning] No further splits with positive gain, best gain: -inf\n",
      "[LightGBM] [Warning] No further splits with positive gain, best gain: -inf\n",
      "[LightGBM] [Warning] No further splits with positive gain, best gain: -inf\n",
      "[LightGBM] [Warning] No further splits with positive gain, best gain: -inf\n",
      "[LightGBM] [Warning] No further splits with positive gain, best gain: -inf\n",
      "[LightGBM] [Warning] No further splits with positive gain, best gain: -inf\n",
      "[LightGBM] [Warning] No further splits with positive gain, best gain: -inf\n",
      "[LightGBM] [Warning] No further splits with positive gain, best gain: -inf\n",
      "[LightGBM] [Warning] No further splits with positive gain, best gain: -inf\n",
      "[LightGBM] [Warning] No further splits with positive gain, best gain: -inf\n",
      "[LightGBM] [Warning] No further splits with positive gain, best gain: -inf\n",
      "[LightGBM] [Warning] No further splits with positive gain, best gain: -inf\n",
      "[LightGBM] [Warning] No further splits with positive gain, best gain: -inf\n",
      "[LightGBM] [Warning] No further splits with positive gain, best gain: -inf\n",
      "[LightGBM] [Warning] No further splits with positive gain, best gain: -inf\n",
      "[LightGBM] [Warning] No further splits with positive gain, best gain: -inf\n",
      "[LightGBM] [Warning] No further splits with positive gain, best gain: -inf\n",
      "[LightGBM] [Warning] No further splits with positive gain, best gain: -inf\n",
      "[LightGBM] [Warning] No further splits with positive gain, best gain: -inf\n",
      "[LightGBM] [Warning] No further splits with positive gain, best gain: -inf\n",
      "[LightGBM] [Warning] No further splits with positive gain, best gain: -inf\n",
      "[LightGBM] [Warning] No further splits with positive gain, best gain: -inf\n",
      "[LightGBM] [Warning] No further splits with positive gain, best gain: -inf\n",
      "[LightGBM] [Warning] No further splits with positive gain, best gain: -inf\n",
      "[LightGBM] [Warning] No further splits with positive gain, best gain: -inf\n",
      "[LightGBM] [Warning] No further splits with positive gain, best gain: -inf\n",
      "[LightGBM] [Warning] No further splits with positive gain, best gain: -inf\n",
      "[LightGBM] [Warning] No further splits with positive gain, best gain: -inf\n",
      "[LightGBM] [Warning] No further splits with positive gain, best gain: -inf\n",
      "[LightGBM] [Warning] No further splits with positive gain, best gain: -inf\n",
      "[LightGBM] [Warning] No further splits with positive gain, best gain: -inf\n",
      "[LightGBM] [Warning] No further splits with positive gain, best gain: -inf\n",
      "[LightGBM] [Warning] No further splits with positive gain, best gain: -inf\n",
      "[LightGBM] [Warning] No further splits with positive gain, best gain: -inf\n",
      "[LightGBM] [Warning] No further splits with positive gain, best gain: -inf\n",
      "[LightGBM] [Warning] No further splits with positive gain, best gain: -inf\n",
      "[LightGBM] [Warning] No further splits with positive gain, best gain: -inf\n",
      "[LightGBM] [Warning] No further splits with positive gain, best gain: -inf\n",
      "[LightGBM] [Warning] No further splits with positive gain, best gain: -inf\n",
      "[LightGBM] [Warning] No further splits with positive gain, best gain: -inf\n",
      "[LightGBM] [Warning] No further splits with positive gain, best gain: -inf\n",
      "[LightGBM] [Warning] No further splits with positive gain, best gain: -inf\n",
      "[LightGBM] [Warning] No further splits with positive gain, best gain: -inf\n",
      "[LightGBM] [Warning] No further splits with positive gain, best gain: -inf\n",
      "[LightGBM] [Warning] No further splits with positive gain, best gain: -inf\n",
      "[LightGBM] [Warning] No further splits with positive gain, best gain: -inf\n",
      "[LightGBM] [Warning] No further splits with positive gain, best gain: -inf\n",
      "[LightGBM] [Warning] No further splits with positive gain, best gain: -inf\n",
      "[LightGBM] [Warning] No further splits with positive gain, best gain: -inf\n",
      "[LightGBM] [Warning] No further splits with positive gain, best gain: -inf\n",
      "[LightGBM] [Warning] No further splits with positive gain, best gain: -inf\n",
      "[LightGBM] [Warning] No further splits with positive gain, best gain: -inf\n",
      "[LightGBM] [Warning] No further splits with positive gain, best gain: -inf\n",
      "[LightGBM] [Warning] No further splits with positive gain, best gain: -inf\n",
      "[LightGBM] [Warning] No further splits with positive gain, best gain: -inf\n",
      "[LightGBM] [Warning] No further splits with positive gain, best gain: -inf\n",
      "[LightGBM] [Warning] No further splits with positive gain, best gain: -inf\n",
      "[LightGBM] [Warning] No further splits with positive gain, best gain: -inf\n",
      "[LightGBM] [Warning] No further splits with positive gain, best gain: -inf\n",
      "[LightGBM] [Warning] No further splits with positive gain, best gain: -inf\n",
      "[LightGBM] [Warning] No further splits with positive gain, best gain: -inf\n",
      "[LightGBM] [Warning] No further splits with positive gain, best gain: -inf\n",
      "[LightGBM] [Warning] No further splits with positive gain, best gain: -inf\n",
      "[LightGBM] [Warning] No further splits with positive gain, best gain: -inf\n",
      "[LightGBM] [Warning] No further splits with positive gain, best gain: -inf\n",
      "[LightGBM] [Warning] No further splits with positive gain, best gain: -inf\n",
      "[LightGBM] [Warning] No further splits with positive gain, best gain: -inf\n",
      "[LightGBM] [Warning] No further splits with positive gain, best gain: -inf\n",
      "[LightGBM] [Warning] No further splits with positive gain, best gain: -inf\n",
      "[LightGBM] [Warning] No further splits with positive gain, best gain: -inf\n",
      "[LightGBM] [Warning] No further splits with positive gain, best gain: -inf\n",
      "[LightGBM] [Warning] No further splits with positive gain, best gain: -inf\n",
      "[LightGBM] [Warning] No further splits with positive gain, best gain: -inf\n",
      "[LightGBM] [Warning] No further splits with positive gain, best gain: -inf\n",
      "[LightGBM] [Warning] No further splits with positive gain, best gain: -inf\n",
      "[LightGBM] [Warning] No further splits with positive gain, best gain: -inf\n",
      "[LightGBM] [Warning] No further splits with positive gain, best gain: -inf\n",
      "[LightGBM] [Warning] No further splits with positive gain, best gain: -inf\n",
      "[LightGBM] [Warning] No further splits with positive gain, best gain: -inf\n",
      "[LightGBM] [Warning] No further splits with positive gain, best gain: -inf\n",
      "[LightGBM] [Warning] No further splits with positive gain, best gain: -inf\n",
      "[LightGBM] [Warning] No further splits with positive gain, best gain: -inf\n",
      "[LightGBM] [Warning] No further splits with positive gain, best gain: -inf\n",
      "[LightGBM] [Warning] No further splits with positive gain, best gain: -inf\n",
      "[LightGBM] [Warning] No further splits with positive gain, best gain: -inf\n",
      "[LightGBM] [Warning] No further splits with positive gain, best gain: -inf\n",
      "[LightGBM] [Warning] No further splits with positive gain, best gain: -inf\n",
      "[LightGBM] [Warning] No further splits with positive gain, best gain: -inf\n",
      "[LightGBM] [Warning] No further splits with positive gain, best gain: -inf\n",
      "[LightGBM] [Warning] No further splits with positive gain, best gain: -inf\n",
      "[LightGBM] [Warning] No further splits with positive gain, best gain: -inf\n",
      "[LightGBM] [Warning] No further splits with positive gain, best gain: -inf\n",
      "[LightGBM] [Warning] No further splits with positive gain, best gain: -inf\n",
      "[LightGBM] [Warning] No further splits with positive gain, best gain: -inf\n",
      "[LightGBM] [Warning] No further splits with positive gain, best gain: -inf\n",
      "[LightGBM] [Warning] No further splits with positive gain, best gain: -inf\n",
      "[LightGBM] [Warning] No further splits with positive gain, best gain: -inf\n",
      "[LightGBM] [Warning] No further splits with positive gain, best gain: -inf\n",
      "[LightGBM] [Warning] No further splits with positive gain, best gain: -inf\n",
      "[LightGBM] [Warning] No further splits with positive gain, best gain: -inf\n",
      "[LightGBM] [Warning] No further splits with positive gain, best gain: -inf\n",
      "[LightGBM] [Warning] No further splits with positive gain, best gain: -inf\n",
      "[LightGBM] [Warning] No further splits with positive gain, best gain: -inf\n",
      "[LightGBM] [Warning] No further splits with positive gain, best gain: -inf\n",
      "[LightGBM] [Warning] No further splits with positive gain, best gain: -inf\n",
      "[LightGBM] [Warning] No further splits with positive gain, best gain: -inf\n",
      "[LightGBM] [Warning] No further splits with positive gain, best gain: -inf\n",
      "[LightGBM] [Warning] No further splits with positive gain, best gain: -inf\n",
      "[LightGBM] [Warning] No further splits with positive gain, best gain: -inf\n",
      "[LightGBM] [Warning] No further splits with positive gain, best gain: -inf\n",
      "[LightGBM] [Warning] No further splits with positive gain, best gain: -inf\n",
      "[LightGBM] [Warning] No further splits with positive gain, best gain: -inf\n",
      "[LightGBM] [Warning] No further splits with positive gain, best gain: -inf\n",
      "[LightGBM] [Warning] No further splits with positive gain, best gain: -inf\n",
      "[LightGBM] [Warning] No further splits with positive gain, best gain: -inf\n",
      "[LightGBM] [Warning] No further splits with positive gain, best gain: -inf\n",
      "[LightGBM] [Warning] No further splits with positive gain, best gain: -inf\n",
      "[LightGBM] [Warning] No further splits with positive gain, best gain: -inf\n",
      "[LightGBM] [Warning] No further splits with positive gain, best gain: -inf\n",
      "[LightGBM] [Warning] No further splits with positive gain, best gain: -inf\n",
      "[LightGBM] [Warning] No further splits with positive gain, best gain: -inf\n",
      "[LightGBM] [Warning] No further splits with positive gain, best gain: -inf\n",
      "[LightGBM] [Warning] No further splits with positive gain, best gain: -inf\n",
      "[LightGBM] [Warning] No further splits with positive gain, best gain: -inf\n",
      "[LightGBM] [Warning] No further splits with positive gain, best gain: -inf\n",
      "[LightGBM] [Warning] No further splits with positive gain, best gain: -inf\n",
      "[LightGBM] [Warning] No further splits with positive gain, best gain: -inf\n",
      "[LightGBM] [Warning] No further splits with positive gain, best gain: -inf\n",
      "[LightGBM] [Warning] No further splits with positive gain, best gain: -inf\n",
      "[LightGBM] [Warning] No further splits with positive gain, best gain: -inf\n",
      "[LightGBM] [Warning] No further splits with positive gain, best gain: -inf\n",
      "[LightGBM] [Warning] No further splits with positive gain, best gain: -inf\n",
      "[LightGBM] [Warning] No further splits with positive gain, best gain: -inf\n",
      "[LightGBM] [Warning] No further splits with positive gain, best gain: -inf\n",
      "[LightGBM] [Warning] No further splits with positive gain, best gain: -inf\n",
      "[LightGBM] [Warning] No further splits with positive gain, best gain: -inf\n",
      "[LightGBM] [Warning] No further splits with positive gain, best gain: -inf\n",
      "[LightGBM] [Warning] No further splits with positive gain, best gain: -inf\n",
      "[LightGBM] [Warning] No further splits with positive gain, best gain: -inf\n",
      "[LightGBM] [Warning] No further splits with positive gain, best gain: -inf\n",
      "[LightGBM] [Warning] No further splits with positive gain, best gain: -inf\n",
      "[LightGBM] [Warning] No further splits with positive gain, best gain: -inf\n",
      "[LightGBM] [Warning] No further splits with positive gain, best gain: -inf\n",
      "[LightGBM] [Warning] No further splits with positive gain, best gain: -inf\n",
      "[LightGBM] [Warning] No further splits with positive gain, best gain: -inf\n",
      "[LightGBM] [Warning] No further splits with positive gain, best gain: -inf\n",
      "[LightGBM] [Warning] No further splits with positive gain, best gain: -inf\n",
      "[LightGBM] [Warning] No further splits with positive gain, best gain: -inf\n",
      "[LightGBM] [Warning] No further splits with positive gain, best gain: -inf\n",
      "[LightGBM] [Warning] No further splits with positive gain, best gain: -inf\n",
      "[LightGBM] [Warning] No further splits with positive gain, best gain: -inf\n",
      "[LightGBM] [Warning] No further splits with positive gain, best gain: -inf\n",
      "[LightGBM] [Warning] No further splits with positive gain, best gain: -inf\n",
      "[LightGBM] [Warning] No further splits with positive gain, best gain: -inf\n",
      "[LightGBM] [Warning] No further splits with positive gain, best gain: -inf\n",
      "[LightGBM] [Warning] No further splits with positive gain, best gain: -inf\n",
      "[LightGBM] [Warning] No further splits with positive gain, best gain: -inf\n",
      "[LightGBM] [Warning] No further splits with positive gain, best gain: -inf\n",
      "[LightGBM] [Warning] No further splits with positive gain, best gain: -inf\n",
      "[LightGBM] [Warning] No further splits with positive gain, best gain: -inf\n",
      "[LightGBM] [Warning] No further splits with positive gain, best gain: -inf\n",
      "[LightGBM] [Warning] No further splits with positive gain, best gain: -inf\n",
      "[LightGBM] [Warning] No further splits with positive gain, best gain: -inf\n",
      "[LightGBM] [Warning] No further splits with positive gain, best gain: -inf\n",
      "[LightGBM] [Warning] No further splits with positive gain, best gain: -inf\n",
      "[LightGBM] [Warning] No further splits with positive gain, best gain: -inf\n",
      "[LightGBM] [Warning] No further splits with positive gain, best gain: -inf\n",
      "[LightGBM] [Warning] No further splits with positive gain, best gain: -inf\n",
      "[LightGBM] [Warning] No further splits with positive gain, best gain: -inf\n",
      "[LightGBM] [Warning] No further splits with positive gain, best gain: -inf\n",
      "[LightGBM] [Warning] No further splits with positive gain, best gain: -inf\n",
      "[LightGBM] [Warning] No further splits with positive gain, best gain: -inf\n",
      "[LightGBM] [Warning] No further splits with positive gain, best gain: -inf\n",
      "[LightGBM] [Warning] No further splits with positive gain, best gain: -inf\n",
      "[LightGBM] [Warning] No further splits with positive gain, best gain: -inf\n",
      "[LightGBM] [Warning] No further splits with positive gain, best gain: -inf\n",
      "[LightGBM] [Warning] No further splits with positive gain, best gain: -inf\n",
      "[LightGBM] [Warning] No further splits with positive gain, best gain: -inf\n",
      "[LightGBM] [Warning] No further splits with positive gain, best gain: -inf\n",
      "[LightGBM] [Warning] No further splits with positive gain, best gain: -inf\n",
      "[LightGBM] [Warning] No further splits with positive gain, best gain: -inf\n",
      "[LightGBM] [Warning] No further splits with positive gain, best gain: -inf\n",
      "[LightGBM] [Warning] No further splits with positive gain, best gain: -inf\n",
      "[LightGBM] [Warning] No further splits with positive gain, best gain: -inf\n",
      "[LightGBM] [Warning] No further splits with positive gain, best gain: -inf\n",
      "[LightGBM] [Warning] No further splits with positive gain, best gain: -inf\n",
      "[LightGBM] [Warning] No further splits with positive gain, best gain: -inf\n",
      "[LightGBM] [Warning] No further splits with positive gain, best gain: -inf\n",
      "[LightGBM] [Warning] No further splits with positive gain, best gain: -inf\n",
      "[LightGBM] [Warning] No further splits with positive gain, best gain: -inf\n",
      "[LightGBM] [Warning] No further splits with positive gain, best gain: -inf\n",
      "[LightGBM] [Warning] No further splits with positive gain, best gain: -inf\n",
      "[LightGBM] [Warning] No further splits with positive gain, best gain: -inf\n",
      "[LightGBM] [Warning] No further splits with positive gain, best gain: -inf\n",
      "[LightGBM] [Warning] No further splits with positive gain, best gain: -inf\n",
      "[LightGBM] [Warning] No further splits with positive gain, best gain: -inf\n",
      "[LightGBM] [Warning] No further splits with positive gain, best gain: -inf\n",
      "[LightGBM] [Warning] No further splits with positive gain, best gain: -inf\n",
      "[LightGBM] [Warning] No further splits with positive gain, best gain: -inf\n",
      "[LightGBM] [Warning] No further splits with positive gain, best gain: -inf\n",
      "[LightGBM] [Warning] No further splits with positive gain, best gain: -inf\n",
      "[LightGBM] [Warning] No further splits with positive gain, best gain: -inf\n",
      "[LightGBM] [Warning] No further splits with positive gain, best gain: -inf\n",
      "[LightGBM] [Warning] No further splits with positive gain, best gain: -inf\n",
      "[LightGBM] [Warning] No further splits with positive gain, best gain: -inf\n",
      "[LightGBM] [Warning] No further splits with positive gain, best gain: -inf\n",
      "[LightGBM] [Warning] No further splits with positive gain, best gain: -inf\n",
      "[LightGBM] [Warning] No further splits with positive gain, best gain: -inf\n",
      "[LightGBM] [Warning] No further splits with positive gain, best gain: -inf\n",
      "[LightGBM] [Warning] No further splits with positive gain, best gain: -inf\n",
      "[LightGBM] [Warning] No further splits with positive gain, best gain: -inf\n",
      "[LightGBM] [Warning] No further splits with positive gain, best gain: -inf\n",
      "[LightGBM] [Warning] No further splits with positive gain, best gain: -inf\n",
      "[LightGBM] [Warning] No further splits with positive gain, best gain: -inf\n",
      "[LightGBM] [Warning] No further splits with positive gain, best gain: -inf\n",
      "[LightGBM] [Warning] No further splits with positive gain, best gain: -inf\n",
      "[LightGBM] [Warning] No further splits with positive gain, best gain: -inf\n",
      "[LightGBM] [Warning] No further splits with positive gain, best gain: -inf\n",
      "[LightGBM] [Warning] No further splits with positive gain, best gain: -inf\n",
      "[LightGBM] [Warning] No further splits with positive gain, best gain: -inf\n",
      "[LightGBM] [Warning] No further splits with positive gain, best gain: -inf\n",
      "[LightGBM] [Warning] No further splits with positive gain, best gain: -inf\n",
      "[LightGBM] [Warning] No further splits with positive gain, best gain: -inf\n",
      "[LightGBM] [Warning] No further splits with positive gain, best gain: -inf\n",
      "[LightGBM] [Warning] No further splits with positive gain, best gain: -inf\n",
      "[LightGBM] [Warning] No further splits with positive gain, best gain: -inf\n",
      "[LightGBM] [Warning] No further splits with positive gain, best gain: -inf\n",
      "[LightGBM] [Warning] No further splits with positive gain, best gain: -inf\n",
      "[LightGBM] [Warning] No further splits with positive gain, best gain: -inf\n",
      "[LightGBM] [Warning] No further splits with positive gain, best gain: -inf\n",
      "[LightGBM] [Warning] No further splits with positive gain, best gain: -inf\n",
      "[LightGBM] [Warning] No further splits with positive gain, best gain: -inf\n",
      "[LightGBM] [Warning] No further splits with positive gain, best gain: -inf\n",
      "[LightGBM] [Warning] No further splits with positive gain, best gain: -inf\n",
      "[LightGBM] [Warning] No further splits with positive gain, best gain: -inf\n",
      "[LightGBM] [Warning] No further splits with positive gain, best gain: -inf\n",
      "[LightGBM] [Warning] No further splits with positive gain, best gain: -inf\n",
      "[LightGBM] [Warning] No further splits with positive gain, best gain: -inf\n",
      "[LightGBM] [Warning] No further splits with positive gain, best gain: -inf\n",
      "[LightGBM] [Warning] No further splits with positive gain, best gain: -inf\n",
      "[LightGBM] [Warning] No further splits with positive gain, best gain: -inf\n",
      "[LightGBM] [Warning] No further splits with positive gain, best gain: -inf\n",
      "[LightGBM] [Warning] No further splits with positive gain, best gain: -inf\n",
      "[LightGBM] [Warning] No further splits with positive gain, best gain: -inf\n",
      "[LightGBM] [Warning] No further splits with positive gain, best gain: -inf\n",
      "[LightGBM] [Warning] No further splits with positive gain, best gain: -inf\n",
      "[LightGBM] [Warning] No further splits with positive gain, best gain: -inf\n",
      "[LightGBM] [Warning] No further splits with positive gain, best gain: -inf\n",
      "[LightGBM] [Warning] No further splits with positive gain, best gain: -inf\n",
      "[LightGBM] [Warning] No further splits with positive gain, best gain: -inf\n",
      "[LightGBM] [Warning] No further splits with positive gain, best gain: -inf\n",
      "[LightGBM] [Warning] No further splits with positive gain, best gain: -inf\n",
      "[LightGBM] [Warning] No further splits with positive gain, best gain: -inf\n",
      "[LightGBM] [Warning] No further splits with positive gain, best gain: -inf\n",
      "[LightGBM] [Warning] No further splits with positive gain, best gain: -inf\n",
      "[LightGBM] [Warning] No further splits with positive gain, best gain: -inf\n",
      "[LightGBM] [Warning] No further splits with positive gain, best gain: -inf\n",
      "[LightGBM] [Warning] No further splits with positive gain, best gain: -inf\n",
      "[LightGBM] [Warning] No further splits with positive gain, best gain: -inf\n",
      "[LightGBM] [Warning] No further splits with positive gain, best gain: -inf\n",
      "[LightGBM] [Warning] No further splits with positive gain, best gain: -inf\n",
      "[LightGBM] [Warning] No further splits with positive gain, best gain: -inf\n",
      "[LightGBM] [Warning] No further splits with positive gain, best gain: -inf\n",
      "[LightGBM] [Warning] No further splits with positive gain, best gain: -inf\n",
      "[LightGBM] [Warning] No further splits with positive gain, best gain: -inf\n",
      "[LightGBM] [Warning] No further splits with positive gain, best gain: -inf\n",
      "[LightGBM] [Warning] No further splits with positive gain, best gain: -inf\n",
      "[LightGBM] [Warning] No further splits with positive gain, best gain: -inf\n",
      "[LightGBM] [Warning] No further splits with positive gain, best gain: -inf\n",
      "[LightGBM] [Warning] No further splits with positive gain, best gain: -inf\n",
      "[LightGBM] [Warning] No further splits with positive gain, best gain: -inf\n",
      "[LightGBM] [Warning] No further splits with positive gain, best gain: -inf\n",
      "[LightGBM] [Warning] No further splits with positive gain, best gain: -inf\n",
      "[LightGBM] [Warning] No further splits with positive gain, best gain: -inf\n",
      "[LightGBM] [Warning] No further splits with positive gain, best gain: -inf\n",
      "[LightGBM] [Warning] No further splits with positive gain, best gain: -inf\n",
      "[LightGBM] [Warning] No further splits with positive gain, best gain: -inf\n",
      "[LightGBM] [Warning] No further splits with positive gain, best gain: -inf\n",
      "[LightGBM] [Warning] No further splits with positive gain, best gain: -inf\n",
      "[LightGBM] [Warning] No further splits with positive gain, best gain: -inf\n",
      "[LightGBM] [Warning] No further splits with positive gain, best gain: -inf\n",
      "[LightGBM] [Warning] No further splits with positive gain, best gain: -inf\n",
      "[LightGBM] [Warning] No further splits with positive gain, best gain: -inf\n",
      "[LightGBM] [Warning] No further splits with positive gain, best gain: -inf\n",
      "[LightGBM] [Warning] No further splits with positive gain, best gain: -inf\n",
      "[LightGBM] [Warning] No further splits with positive gain, best gain: -inf\n",
      "[LightGBM] [Warning] No further splits with positive gain, best gain: -inf\n",
      "[LightGBM] [Warning] No further splits with positive gain, best gain: -inf\n",
      "[LightGBM] [Warning] No further splits with positive gain, best gain: -inf\n",
      "[LightGBM] [Warning] No further splits with positive gain, best gain: -inf\n",
      "[LightGBM] [Warning] No further splits with positive gain, best gain: -inf\n",
      "[LightGBM] [Warning] No further splits with positive gain, best gain: -inf\n",
      "[LightGBM] [Warning] No further splits with positive gain, best gain: -inf\n",
      "[LightGBM] [Warning] No further splits with positive gain, best gain: -inf\n",
      "[LightGBM] [Warning] No further splits with positive gain, best gain: -inf\n",
      "[LightGBM] [Warning] No further splits with positive gain, best gain: -inf\n",
      "[LightGBM] [Warning] No further splits with positive gain, best gain: -inf\n",
      "[LightGBM] [Warning] No further splits with positive gain, best gain: -inf\n",
      "[LightGBM] [Warning] No further splits with positive gain, best gain: -inf\n",
      "[LightGBM] [Warning] No further splits with positive gain, best gain: -inf\n",
      "[LightGBM] [Warning] No further splits with positive gain, best gain: -inf\n",
      "[LightGBM] [Warning] No further splits with positive gain, best gain: -inf\n",
      "[LightGBM] [Warning] No further splits with positive gain, best gain: -inf\n",
      "[LightGBM] [Warning] No further splits with positive gain, best gain: -inf\n",
      "[LightGBM] [Warning] No further splits with positive gain, best gain: -inf\n",
      "[LightGBM] [Warning] No further splits with positive gain, best gain: -inf\n",
      "[LightGBM] [Warning] No further splits with positive gain, best gain: -inf\n",
      "[LightGBM] [Warning] No further splits with positive gain, best gain: -inf\n",
      "[LightGBM] [Warning] No further splits with positive gain, best gain: -inf\n",
      "[LightGBM] [Warning] No further splits with positive gain, best gain: -inf\n",
      "[LightGBM] [Warning] No further splits with positive gain, best gain: -inf\n",
      "[LightGBM] [Warning] No further splits with positive gain, best gain: -inf\n",
      "[LightGBM] [Warning] No further splits with positive gain, best gain: -inf\n",
      "[LightGBM] [Warning] No further splits with positive gain, best gain: -inf\n",
      "[LightGBM] [Warning] No further splits with positive gain, best gain: -inf\n",
      "[LightGBM] [Warning] No further splits with positive gain, best gain: -inf\n",
      "[LightGBM] [Warning] No further splits with positive gain, best gain: -inf\n",
      "[LightGBM] [Warning] No further splits with positive gain, best gain: -inf\n",
      "[LightGBM] [Warning] No further splits with positive gain, best gain: -inf\n",
      "[LightGBM] [Warning] No further splits with positive gain, best gain: -inf\n",
      "[LightGBM] [Warning] No further splits with positive gain, best gain: -inf\n",
      "[LightGBM] [Warning] No further splits with positive gain, best gain: -inf\n",
      "[LightGBM] [Warning] No further splits with positive gain, best gain: -inf\n",
      "[LightGBM] [Warning] No further splits with positive gain, best gain: -inf\n",
      "[LightGBM] [Warning] No further splits with positive gain, best gain: -inf\n",
      "[LightGBM] [Warning] No further splits with positive gain, best gain: -inf\n",
      "[LightGBM] [Warning] No further splits with positive gain, best gain: -inf\n",
      "[LightGBM] [Warning] No further splits with positive gain, best gain: -inf\n",
      "[LightGBM] [Warning] No further splits with positive gain, best gain: -inf\n",
      "[LightGBM] [Warning] No further splits with positive gain, best gain: -inf\n",
      "[LightGBM] [Warning] No further splits with positive gain, best gain: -inf\n",
      "[LightGBM] [Warning] No further splits with positive gain, best gain: -inf\n",
      "[LightGBM] [Warning] No further splits with positive gain, best gain: -inf\n",
      "[LightGBM] [Warning] No further splits with positive gain, best gain: -inf\n",
      "[LightGBM] [Warning] No further splits with positive gain, best gain: -inf\n",
      "[LightGBM] [Warning] No further splits with positive gain, best gain: -inf\n",
      "[LightGBM] [Warning] No further splits with positive gain, best gain: -inf\n",
      "[LightGBM] [Warning] No further splits with positive gain, best gain: -inf\n",
      "[LightGBM] [Warning] No further splits with positive gain, best gain: -inf\n",
      "[LightGBM] [Warning] No further splits with positive gain, best gain: -inf\n",
      "[LightGBM] [Warning] No further splits with positive gain, best gain: -inf\n",
      "[LightGBM] [Warning] No further splits with positive gain, best gain: -inf\n",
      "[LightGBM] [Warning] No further splits with positive gain, best gain: -inf\n",
      "[LightGBM] [Warning] No further splits with positive gain, best gain: -inf\n",
      "[LightGBM] [Warning] No further splits with positive gain, best gain: -inf\n",
      "[LightGBM] [Warning] No further splits with positive gain, best gain: -inf\n",
      "[LightGBM] [Warning] No further splits with positive gain, best gain: -inf\n",
      "[LightGBM] [Warning] No further splits with positive gain, best gain: -inf\n",
      "[LightGBM] [Warning] No further splits with positive gain, best gain: -inf\n",
      "[LightGBM] [Warning] No further splits with positive gain, best gain: -inf\n",
      "[LightGBM] [Warning] No further splits with positive gain, best gain: -inf\n",
      "[LightGBM] [Warning] No further splits with positive gain, best gain: -inf\n",
      "[LightGBM] [Warning] No further splits with positive gain, best gain: -inf\n",
      "[LightGBM] [Warning] No further splits with positive gain, best gain: -inf\n",
      "[LightGBM] [Warning] No further splits with positive gain, best gain: -inf\n",
      "[LightGBM] [Warning] No further splits with positive gain, best gain: -inf\n",
      "[LightGBM] [Warning] No further splits with positive gain, best gain: -inf\n",
      "[LightGBM] [Warning] No further splits with positive gain, best gain: -inf\n",
      "[LightGBM] [Warning] No further splits with positive gain, best gain: -inf\n",
      "[LightGBM] [Warning] No further splits with positive gain, best gain: -inf\n",
      "[LightGBM] [Warning] No further splits with positive gain, best gain: -inf\n",
      "[LightGBM] [Warning] No further splits with positive gain, best gain: -inf\n",
      "[LightGBM] [Warning] No further splits with positive gain, best gain: -inf\n",
      "[LightGBM] [Warning] No further splits with positive gain, best gain: -inf\n",
      "[LightGBM] [Warning] No further splits with positive gain, best gain: -inf\n",
      "[LightGBM] [Warning] No further splits with positive gain, best gain: -inf\n",
      "[LightGBM] [Warning] No further splits with positive gain, best gain: -inf\n",
      "[LightGBM] [Warning] No further splits with positive gain, best gain: -inf\n",
      "[LightGBM] [Warning] No further splits with positive gain, best gain: -inf\n",
      "[LightGBM] [Warning] No further splits with positive gain, best gain: -inf\n",
      "[LightGBM] [Warning] No further splits with positive gain, best gain: -inf\n",
      "[LightGBM] [Warning] No further splits with positive gain, best gain: -inf\n",
      "[LightGBM] [Warning] No further splits with positive gain, best gain: -inf\n",
      "[LightGBM] [Warning] No further splits with positive gain, best gain: -inf\n",
      "[LightGBM] [Warning] No further splits with positive gain, best gain: -inf\n",
      "[LightGBM] [Warning] No further splits with positive gain, best gain: -inf\n",
      "[LightGBM] [Warning] No further splits with positive gain, best gain: -inf\n",
      "[LightGBM] [Warning] No further splits with positive gain, best gain: -inf\n",
      "[LightGBM] [Warning] No further splits with positive gain, best gain: -inf\n",
      "[LightGBM] [Warning] No further splits with positive gain, best gain: -inf\n",
      "[LightGBM] [Warning] No further splits with positive gain, best gain: -inf\n",
      "[LightGBM] [Warning] No further splits with positive gain, best gain: -inf\n",
      "[LightGBM] [Warning] No further splits with positive gain, best gain: -inf\n",
      "[LightGBM] [Warning] No further splits with positive gain, best gain: -inf\n",
      "[LightGBM] [Warning] No further splits with positive gain, best gain: -inf\n",
      "[LightGBM] [Warning] No further splits with positive gain, best gain: -inf\n",
      "[LightGBM] [Warning] No further splits with positive gain, best gain: -inf\n",
      "[LightGBM] [Warning] No further splits with positive gain, best gain: -inf\n",
      "[LightGBM] [Warning] No further splits with positive gain, best gain: -inf\n",
      "[LightGBM] [Warning] No further splits with positive gain, best gain: -inf\n",
      "[LightGBM] [Warning] No further splits with positive gain, best gain: -inf\n",
      "n_estimators_1 0.125 (0.037)\n",
      "n_estimators_10 0.390 (0.058)\n",
      "n_estimators_50 0.534 (0.062)\n",
      "n_estimators_100 0.519 (0.059)\n",
      "n_estimators_500 0.518 (0.055)\n",
      "n_estimators_1000 0.516 (0.056)\n",
      "n_estimators_5000 0.511 (0.058)\n",
      "n_estimators_10000 0.511 (0.059)\n"
     ]
    },
    {
     "data": {
      "image/png": "[encoded data removed]",
      "text/plain": [
       "<Figure size 1000x1000 with 1 Axes>"
      ]
     },
     "metadata": {},
     "output_type": "display_data"
    },
    {
     "name": "stdout",
     "output_type": "stream",
     "text": [
      "[LightGBM] [Info] Auto-choosing col-wise multi-threading, the overhead of testing was 0.001947 seconds.\n",
      "You can set `force_col_wise=true` to remove the overhead.\n",
      "[LightGBM] [Info] Total Bins 7989\n",
      "[LightGBM] [Info] Number of data points in the train set: 109, number of used features: 643\n",
      "[LightGBM] [Info] Start training from score -3.592736\n",
      "[LightGBM] [Info] Start training from score -2.388763\n",
      "[LightGBM] [Info] Start training from score -2.611906\n",
      "[LightGBM] [Info] Start training from score -3.592736\n",
      "[LightGBM] [Info] Start training from score -2.611906\n",
      "[LightGBM] [Info] Start training from score -2.611906\n",
      "[LightGBM] [Info] Start training from score -2.494123\n",
      "[LightGBM] [Info] Start training from score -2.611906\n",
      "[LightGBM] [Info] Start training from score -2.611906\n",
      "[LightGBM] [Info] Start training from score -3.998201\n",
      "[LightGBM] [Info] Start training from score -2.611906\n",
      "[LightGBM] [Info] Start training from score -3.998201\n",
      "[LightGBM] [Info] Start training from score -2.494123\n",
      "[LightGBM] [Info] Start training from score -2.611906\n",
      "[LightGBM] [Info] Start training from score -2.745438\n",
      "[LightGBM] [Info] Start training from score -2.611906\n",
      "[LightGBM] [Warning] No further splits with positive gain, best gain: -inf\n",
      "[LightGBM] [Warning] No further splits with positive gain, best gain: -inf\n",
      "[LightGBM] [Warning] No further splits with positive gain, best gain: -inf\n",
      "[LightGBM] [Warning] No further splits with positive gain, best gain: -inf\n",
      "[LightGBM] [Warning] No further splits with positive gain, best gain: -inf\n",
      "[LightGBM] [Warning] No further splits with positive gain, best gain: -inf\n",
      "[LightGBM] [Warning] No further splits with positive gain, best gain: -inf\n",
      "[LightGBM] [Warning] No further splits with positive gain, best gain: -inf\n",
      "[LightGBM] [Warning] No further splits with positive gain, best gain: -inf\n",
      "[LightGBM] [Warning] No further splits with positive gain, best gain: -inf\n",
      "[LightGBM] [Warning] No further splits with positive gain, best gain: -inf\n",
      "[LightGBM] [Warning] No further splits with positive gain, best gain: -inf\n",
      "[LightGBM] [Warning] No further splits with positive gain, best gain: -inf\n",
      "[LightGBM] [Warning] No further splits with positive gain, best gain: -inf\n",
      "[LightGBM] [Warning] No further splits with positive gain, best gain: -inf\n",
      "[LightGBM] [Warning] No further splits with positive gain, best gain: -inf\n",
      "[LightGBM] [Warning] No further splits with positive gain, best gain: -inf\n",
      "[LightGBM] [Warning] No further splits with positive gain, best gain: -inf\n",
      "[LightGBM] [Warning] No further splits with positive gain, best gain: -inf\n",
      "[LightGBM] [Warning] No further splits with positive gain, best gain: -inf\n",
      "[LightGBM] [Warning] No further splits with positive gain, best gain: -inf\n",
      "[LightGBM] [Warning] No further splits with positive gain, best gain: -inf\n",
      "[LightGBM] [Warning] No further splits with positive gain, best gain: -inf\n",
      "[LightGBM] [Warning] No further splits with positive gain, best gain: -inf\n",
      "[LightGBM] [Warning] No further splits with positive gain, best gain: -inf\n",
      "[LightGBM] [Warning] No further splits with positive gain, best gain: -inf\n",
      "[LightGBM] [Warning] No further splits with positive gain, best gain: -inf\n",
      "[LightGBM] [Warning] No further splits with positive gain, best gain: -inf\n",
      "[LightGBM] [Warning] No further splits with positive gain, best gain: -inf\n",
      "[LightGBM] [Warning] No further splits with positive gain, best gain: -inf\n",
      "[LightGBM] [Warning] No further splits with positive gain, best gain: -inf\n",
      "[LightGBM] [Warning] No further splits with positive gain, best gain: -inf\n",
      "[LightGBM] [Warning] No further splits with positive gain, best gain: -inf\n",
      "[LightGBM] [Warning] No further splits with positive gain, best gain: -inf\n",
      "[LightGBM] [Warning] No further splits with positive gain, best gain: -inf\n",
      "[LightGBM] [Warning] No further splits with positive gain, best gain: -inf\n",
      "[LightGBM] [Warning] No further splits with positive gain, best gain: -inf\n",
      "[LightGBM] [Warning] No further splits with positive gain, best gain: -inf\n",
      "[LightGBM] [Warning] No further splits with positive gain, best gain: -inf\n",
      "[LightGBM] [Warning] No further splits with positive gain, best gain: -inf\n",
      "[LightGBM] [Warning] No further splits with positive gain, best gain: -inf\n",
      "[LightGBM] [Warning] No further splits with positive gain, best gain: -inf\n",
      "[LightGBM] [Warning] No further splits with positive gain, best gain: -inf\n",
      "[LightGBM] [Warning] No further splits with positive gain, best gain: -inf\n",
      "[LightGBM] [Warning] No further splits with positive gain, best gain: -inf\n",
      "[LightGBM] [Warning] No further splits with positive gain, best gain: -inf\n",
      "[LightGBM] [Warning] No further splits with positive gain, best gain: -inf\n",
      "[LightGBM] [Warning] No further splits with positive gain, best gain: -inf\n",
      "[LightGBM] [Warning] No further splits with positive gain, best gain: -inf\n",
      "[LightGBM] [Warning] No further splits with positive gain, best gain: -inf\n",
      "[LightGBM] [Warning] No further splits with positive gain, best gain: -inf\n",
      "[LightGBM] [Warning] No further splits with positive gain, best gain: -inf\n",
      "[LightGBM] [Warning] No further splits with positive gain, best gain: -inf\n",
      "[LightGBM] [Warning] No further splits with positive gain, best gain: -inf\n",
      "[LightGBM] [Warning] No further splits with positive gain, best gain: -inf\n",
      "[LightGBM] [Warning] No further splits with positive gain, best gain: -inf\n",
      "[LightGBM] [Warning] No further splits with positive gain, best gain: -inf\n",
      "[LightGBM] [Warning] No further splits with positive gain, best gain: -inf\n",
      "[LightGBM] [Warning] No further splits with positive gain, best gain: -inf\n",
      "[LightGBM] [Warning] No further splits with positive gain, best gain: -inf\n",
      "[LightGBM] [Warning] No further splits with positive gain, best gain: -inf\n",
      "[LightGBM] [Warning] No further splits with positive gain, best gain: -inf\n",
      "[LightGBM] [Warning] No further splits with positive gain, best gain: -inf\n",
      "[LightGBM] [Warning] No further splits with positive gain, best gain: -inf\n",
      "[LightGBM] [Warning] No further splits with positive gain, best gain: -inf\n",
      "[LightGBM] [Warning] No further splits with positive gain, best gain: -inf\n",
      "[LightGBM] [Warning] No further splits with positive gain, best gain: -inf\n",
      "[LightGBM] [Warning] No further splits with positive gain, best gain: -inf\n",
      "[LightGBM] [Warning] No further splits with positive gain, best gain: -inf\n",
      "[LightGBM] [Warning] No further splits with positive gain, best gain: -inf\n",
      "[LightGBM] [Warning] No further splits with positive gain, best gain: -inf\n",
      "[LightGBM] [Warning] No further splits with positive gain, best gain: -inf\n",
      "[LightGBM] [Warning] No further splits with positive gain, best gain: -inf\n",
      "[LightGBM] [Warning] No further splits with positive gain, best gain: -inf\n",
      "[LightGBM] [Warning] No further splits with positive gain, best gain: -inf\n",
      "[LightGBM] [Warning] No further splits with positive gain, best gain: -inf\n",
      "[LightGBM] [Warning] No further splits with positive gain, best gain: -inf\n",
      "[LightGBM] [Warning] No further splits with positive gain, best gain: -inf\n",
      "[LightGBM] [Warning] No further splits with positive gain, best gain: -inf\n",
      "[LightGBM] [Warning] No further splits with positive gain, best gain: -inf\n",
      "[LightGBM] [Warning] No further splits with positive gain, best gain: -inf\n",
      "[LightGBM] [Warning] No further splits with positive gain, best gain: -inf\n",
      "[LightGBM] [Warning] No further splits with positive gain, best gain: -inf\n",
      "[LightGBM] [Warning] No further splits with positive gain, best gain: -inf\n",
      "[LightGBM] [Warning] No further splits with positive gain, best gain: -inf\n",
      "[LightGBM] [Warning] No further splits with positive gain, best gain: -inf\n",
      "[LightGBM] [Warning] No further splits with positive gain, best gain: -inf\n",
      "[LightGBM] [Warning] No further splits with positive gain, best gain: -inf\n",
      "[LightGBM] [Warning] No further splits with positive gain, best gain: -inf\n",
      "[LightGBM] [Warning] No further splits with positive gain, best gain: -inf\n",
      "[LightGBM] [Warning] No further splits with positive gain, best gain: -inf\n",
      "[LightGBM] [Warning] No further splits with positive gain, best gain: -inf\n",
      "[LightGBM] [Warning] No further splits with positive gain, best gain: -inf\n",
      "[LightGBM] [Warning] No further splits with positive gain, best gain: -inf\n",
      "[LightGBM] [Warning] No further splits with positive gain, best gain: -inf\n",
      "[LightGBM] [Warning] No further splits with positive gain, best gain: -inf\n",
      "[LightGBM] [Warning] No further splits with positive gain, best gain: -inf\n",
      "[LightGBM] [Warning] No further splits with positive gain, best gain: -inf\n",
      "[LightGBM] [Warning] No further splits with positive gain, best gain: -inf\n",
      "[LightGBM] [Warning] No further splits with positive gain, best gain: -inf\n",
      "[LightGBM] [Warning] No further splits with positive gain, best gain: -inf\n",
      "[LightGBM] [Warning] No further splits with positive gain, best gain: -inf\n",
      "[LightGBM] [Warning] No further splits with positive gain, best gain: -inf\n",
      "[LightGBM] [Warning] No further splits with positive gain, best gain: -inf\n",
      "[LightGBM] [Warning] No further splits with positive gain, best gain: -inf\n",
      "[LightGBM] [Warning] No further splits with positive gain, best gain: -inf\n",
      "[LightGBM] [Warning] No further splits with positive gain, best gain: -inf\n",
      "[LightGBM] [Warning] No further splits with positive gain, best gain: -inf\n",
      "[LightGBM] [Warning] No further splits with positive gain, best gain: -inf\n",
      "[LightGBM] [Warning] No further splits with positive gain, best gain: -inf\n",
      "[LightGBM] [Warning] No further splits with positive gain, best gain: -inf\n",
      "[LightGBM] [Warning] No further splits with positive gain, best gain: -inf\n",
      "[LightGBM] [Warning] No further splits with positive gain, best gain: -inf\n",
      "[LightGBM] [Warning] No further splits with positive gain, best gain: -inf\n",
      "[LightGBM] [Warning] No further splits with positive gain, best gain: -inf\n",
      "[LightGBM] [Warning] No further splits with positive gain, best gain: -inf\n",
      "[LightGBM] [Warning] No further splits with positive gain, best gain: -inf\n",
      "[LightGBM] [Warning] No further splits with positive gain, best gain: -inf\n",
      "[LightGBM] [Warning] No further splits with positive gain, best gain: -inf\n",
      "[LightGBM] [Warning] No further splits with positive gain, best gain: -inf\n",
      "[LightGBM] [Warning] No further splits with positive gain, best gain: -inf\n",
      "[LightGBM] [Warning] No further splits with positive gain, best gain: -inf\n",
      "[LightGBM] [Warning] No further splits with positive gain, best gain: -inf\n",
      "[LightGBM] [Warning] No further splits with positive gain, best gain: -inf\n",
      "[LightGBM] [Warning] No further splits with positive gain, best gain: -inf\n",
      "[LightGBM] [Warning] No further splits with positive gain, best gain: -inf\n",
      "[LightGBM] [Warning] No further splits with positive gain, best gain: -inf\n",
      "[LightGBM] [Warning] No further splits with positive gain, best gain: -inf\n",
      "[LightGBM] [Warning] No further splits with positive gain, best gain: -inf\n",
      "[LightGBM] [Warning] No further splits with positive gain, best gain: -inf\n",
      "[LightGBM] [Warning] No further splits with positive gain, best gain: -inf\n",
      "[LightGBM] [Warning] No further splits with positive gain, best gain: -inf\n",
      "[LightGBM] [Warning] No further splits with positive gain, best gain: -inf\n",
      "[LightGBM] [Warning] No further splits with positive gain, best gain: -inf\n",
      "[LightGBM] [Warning] No further splits with positive gain, best gain: -inf\n",
      "[LightGBM] [Warning] No further splits with positive gain, best gain: -inf\n",
      "[LightGBM] [Warning] No further splits with positive gain, best gain: -inf\n",
      "[LightGBM] [Warning] No further splits with positive gain, best gain: -inf\n",
      "[LightGBM] [Warning] No further splits with positive gain, best gain: -inf\n",
      "[LightGBM] [Warning] No further splits with positive gain, best gain: -inf\n",
      "[LightGBM] [Warning] No further splits with positive gain, best gain: -inf\n",
      "[LightGBM] [Warning] No further splits with positive gain, best gain: -inf\n",
      "[LightGBM] [Warning] No further splits with positive gain, best gain: -inf\n",
      "[LightGBM] [Warning] No further splits with positive gain, best gain: -inf\n",
      "[LightGBM] [Warning] No further splits with positive gain, best gain: -inf\n",
      "[LightGBM] [Warning] No further splits with positive gain, best gain: -inf\n",
      "[LightGBM] [Warning] No further splits with positive gain, best gain: -inf\n",
      "[LightGBM] [Warning] No further splits with positive gain, best gain: -inf\n",
      "[LightGBM] [Warning] No further splits with positive gain, best gain: -inf\n",
      "[LightGBM] [Warning] No further splits with positive gain, best gain: -inf\n",
      "[LightGBM] [Warning] No further splits with positive gain, best gain: -inf\n",
      "[LightGBM] [Warning] No further splits with positive gain, best gain: -inf\n",
      "[LightGBM] [Warning] No further splits with positive gain, best gain: -inf\n",
      "[LightGBM] [Warning] No further splits with positive gain, best gain: -inf\n",
      "[LightGBM] [Warning] No further splits with positive gain, best gain: -inf\n",
      "[LightGBM] [Warning] No further splits with positive gain, best gain: -inf\n",
      "[LightGBM] [Warning] No further splits with positive gain, best gain: -inf\n",
      "[LightGBM] [Warning] No further splits with positive gain, best gain: -inf\n",
      "[LightGBM] [Warning] No further splits with positive gain, best gain: -inf\n",
      "[LightGBM] [Warning] No further splits with positive gain, best gain: -inf\n",
      "[LightGBM] [Warning] No further splits with positive gain, best gain: -inf\n",
      "[LightGBM] [Warning] No further splits with positive gain, best gain: -inf\n",
      "[LightGBM] [Warning] No further splits with positive gain, best gain: -inf\n",
      "[LightGBM] [Warning] No further splits with positive gain, best gain: -inf\n",
      "[LightGBM] [Warning] No further splits with positive gain, best gain: -inf\n",
      "[LightGBM] [Warning] No further splits with positive gain, best gain: -inf\n",
      "[LightGBM] [Warning] No further splits with positive gain, best gain: -inf\n",
      "[LightGBM] [Warning] No further splits with positive gain, best gain: -inf\n",
      "[LightGBM] [Warning] No further splits with positive gain, best gain: -inf\n",
      "[LightGBM] [Warning] No further splits with positive gain, best gain: -inf\n",
      "[LightGBM] [Warning] No further splits with positive gain, best gain: -inf\n",
      "[LightGBM] [Warning] No further splits with positive gain, best gain: -inf\n",
      "[LightGBM] [Warning] No further splits with positive gain, best gain: -inf\n",
      "[LightGBM] [Warning] No further splits with positive gain, best gain: -inf\n",
      "[LightGBM] [Warning] No further splits with positive gain, best gain: -inf\n",
      "[LightGBM] [Warning] No further splits with positive gain, best gain: -inf\n",
      "[LightGBM] [Warning] No further splits with positive gain, best gain: -inf\n",
      "[LightGBM] [Warning] No further splits with positive gain, best gain: -inf\n",
      "[LightGBM] [Warning] No further splits with positive gain, best gain: -inf\n",
      "[LightGBM] [Warning] No further splits with positive gain, best gain: -inf\n",
      "[LightGBM] [Warning] No further splits with positive gain, best gain: -inf\n",
      "[LightGBM] [Warning] No further splits with positive gain, best gain: -inf\n",
      "[LightGBM] [Warning] No further splits with positive gain, best gain: -inf\n",
      "[LightGBM] [Warning] No further splits with positive gain, best gain: -inf\n",
      "[LightGBM] [Warning] No further splits with positive gain, best gain: -inf\n",
      "[LightGBM] [Warning] No further splits with positive gain, best gain: -inf\n",
      "[LightGBM] [Warning] No further splits with positive gain, best gain: -inf\n",
      "[LightGBM] [Warning] No further splits with positive gain, best gain: -inf\n",
      "[LightGBM] [Warning] No further splits with positive gain, best gain: -inf\n",
      "[LightGBM] [Warning] No further splits with positive gain, best gain: -inf\n",
      "[LightGBM] [Warning] No further splits with positive gain, best gain: -inf\n",
      "[LightGBM] [Warning] No further splits with positive gain, best gain: -inf\n",
      "[LightGBM] [Warning] No further splits with positive gain, best gain: -inf\n",
      "[LightGBM] [Warning] No further splits with positive gain, best gain: -inf\n",
      "[LightGBM] [Warning] No further splits with positive gain, best gain: -inf\n",
      "[LightGBM] [Warning] No further splits with positive gain, best gain: -inf\n",
      "[LightGBM] [Warning] No further splits with positive gain, best gain: -inf\n",
      "[LightGBM] [Warning] No further splits with positive gain, best gain: -inf\n",
      "[LightGBM] [Warning] No further splits with positive gain, best gain: -inf\n",
      "[LightGBM] [Warning] No further splits with positive gain, best gain: -inf\n",
      "[LightGBM] [Warning] No further splits with positive gain, best gain: -inf\n",
      "[LightGBM] [Warning] No further splits with positive gain, best gain: -inf\n",
      "[LightGBM] [Warning] No further splits with positive gain, best gain: -inf\n",
      "[LightGBM] [Warning] No further splits with positive gain, best gain: -inf\n",
      "[LightGBM] [Warning] No further splits with positive gain, best gain: -inf\n",
      "[LightGBM] [Warning] No further splits with positive gain, best gain: -inf\n",
      "[LightGBM] [Warning] No further splits with positive gain, best gain: -inf\n",
      "[LightGBM] [Warning] No further splits with positive gain, best gain: -inf\n",
      "[LightGBM] [Warning] No further splits with positive gain, best gain: -inf\n",
      "[LightGBM] [Warning] No further splits with positive gain, best gain: -inf\n",
      "[LightGBM] [Warning] No further splits with positive gain, best gain: -inf\n",
      "[LightGBM] [Warning] No further splits with positive gain, best gain: -inf\n",
      "[LightGBM] [Warning] No further splits with positive gain, best gain: -inf\n",
      "[LightGBM] [Warning] No further splits with positive gain, best gain: -inf\n",
      "[LightGBM] [Warning] No further splits with positive gain, best gain: -inf\n",
      "[LightGBM] [Warning] No further splits with positive gain, best gain: -inf\n",
      "[LightGBM] [Warning] No further splits with positive gain, best gain: -inf\n",
      "[LightGBM] [Warning] No further splits with positive gain, best gain: -inf\n",
      "[LightGBM] [Warning] No further splits with positive gain, best gain: -inf\n",
      "[LightGBM] [Warning] No further splits with positive gain, best gain: -inf\n",
      "[LightGBM] [Warning] No further splits with positive gain, best gain: -inf\n",
      "[LightGBM] [Warning] No further splits with positive gain, best gain: -inf\n",
      "[LightGBM] [Warning] No further splits with positive gain, best gain: -inf\n",
      "[LightGBM] [Warning] No further splits with positive gain, best gain: -inf\n",
      "[LightGBM] [Warning] No further splits with positive gain, best gain: -inf\n",
      "[LightGBM] [Warning] No further splits with positive gain, best gain: -inf\n",
      "[LightGBM] [Warning] No further splits with positive gain, best gain: -inf\n",
      "[LightGBM] [Warning] No further splits with positive gain, best gain: -inf\n",
      "[LightGBM] [Warning] No further splits with positive gain, best gain: -inf\n",
      "[LightGBM] [Warning] No further splits with positive gain, best gain: -inf\n",
      "[LightGBM] [Warning] No further splits with positive gain, best gain: -inf\n",
      "[LightGBM] [Warning] No further splits with positive gain, best gain: -inf\n",
      "[LightGBM] [Warning] No further splits with positive gain, best gain: -inf\n",
      "[LightGBM] [Warning] No further splits with positive gain, best gain: -inf\n",
      "[LightGBM] [Warning] No further splits with positive gain, best gain: -inf\n",
      "[LightGBM] [Warning] No further splits with positive gain, best gain: -inf\n",
      "[LightGBM] [Warning] No further splits with positive gain, best gain: -inf\n",
      "[LightGBM] [Warning] No further splits with positive gain, best gain: -inf\n",
      "[LightGBM] [Warning] No further splits with positive gain, best gain: -inf\n",
      "[LightGBM] [Warning] No further splits with positive gain, best gain: -inf\n",
      "[LightGBM] [Warning] No further splits with positive gain, best gain: -inf\n",
      "[LightGBM] [Warning] No further splits with positive gain, best gain: -inf\n",
      "[LightGBM] [Warning] No further splits with positive gain, best gain: -inf\n",
      "[LightGBM] [Warning] No further splits with positive gain, best gain: -inf\n",
      "[LightGBM] [Warning] No further splits with positive gain, best gain: -inf\n",
      "[LightGBM] [Warning] No further splits with positive gain, best gain: -inf\n",
      "[LightGBM] [Warning] No further splits with positive gain, best gain: -inf\n",
      "[LightGBM] [Warning] No further splits with positive gain, best gain: -inf\n",
      "[LightGBM] [Warning] No further splits with positive gain, best gain: -inf\n",
      "[LightGBM] [Warning] No further splits with positive gain, best gain: -inf\n",
      "[LightGBM] [Warning] No further splits with positive gain, best gain: -inf\n",
      "[LightGBM] [Warning] No further splits with positive gain, best gain: -inf\n",
      "[LightGBM] [Warning] No further splits with positive gain, best gain: -inf\n",
      "[LightGBM] [Warning] No further splits with positive gain, best gain: -inf\n",
      "[LightGBM] [Warning] No further splits with positive gain, best gain: -inf\n",
      "[LightGBM] [Warning] No further splits with positive gain, best gain: -inf\n",
      "[LightGBM] [Warning] No further splits with positive gain, best gain: -inf\n",
      "[LightGBM] [Warning] No further splits with positive gain, best gain: -inf\n",
      "[LightGBM] [Warning] No further splits with positive gain, best gain: -inf\n",
      "[LightGBM] [Warning] No further splits with positive gain, best gain: -inf\n",
      "[LightGBM] [Warning] No further splits with positive gain, best gain: -inf\n",
      "[LightGBM] [Warning] No further splits with positive gain, best gain: -inf\n",
      "[LightGBM] [Warning] No further splits with positive gain, best gain: -inf\n",
      "[LightGBM] [Warning] No further splits with positive gain, best gain: -inf\n",
      "[LightGBM] [Warning] No further splits with positive gain, best gain: -inf\n",
      "[LightGBM] [Warning] No further splits with positive gain, best gain: -inf\n",
      "[LightGBM] [Warning] No further splits with positive gain, best gain: -inf\n",
      "[LightGBM] [Warning] No further splits with positive gain, best gain: -inf\n",
      "[LightGBM] [Warning] No further splits with positive gain, best gain: -inf\n",
      "[LightGBM] [Warning] No further splits with positive gain, best gain: -inf\n",
      "[LightGBM] [Warning] No further splits with positive gain, best gain: -inf\n",
      "[LightGBM] [Warning] No further splits with positive gain, best gain: -inf\n",
      "[LightGBM] [Warning] No further splits with positive gain, best gain: -inf\n",
      "[LightGBM] [Warning] No further splits with positive gain, best gain: -inf\n",
      "[LightGBM] [Warning] No further splits with positive gain, best gain: -inf\n",
      "[LightGBM] [Warning] No further splits with positive gain, best gain: -inf\n",
      "[LightGBM] [Warning] No further splits with positive gain, best gain: -inf\n",
      "[LightGBM] [Warning] No further splits with positive gain, best gain: -inf\n",
      "[LightGBM] [Warning] No further splits with positive gain, best gain: -inf\n",
      "[LightGBM] [Warning] No further splits with positive gain, best gain: -inf\n",
      "[LightGBM] [Warning] No further splits with positive gain, best gain: -inf\n",
      "[LightGBM] [Warning] No further splits with positive gain, best gain: -inf\n",
      "[LightGBM] [Warning] No further splits with positive gain, best gain: -inf\n",
      "[LightGBM] [Warning] No further splits with positive gain, best gain: -inf\n",
      "[LightGBM] [Warning] No further splits with positive gain, best gain: -inf\n",
      "[LightGBM] [Warning] No further splits with positive gain, best gain: -inf\n",
      "[LightGBM] [Warning] No further splits with positive gain, best gain: -inf\n",
      "[LightGBM] [Warning] No further splits with positive gain, best gain: -inf\n",
      "[LightGBM] [Warning] No further splits with positive gain, best gain: -inf\n",
      "[LightGBM] [Warning] No further splits with positive gain, best gain: -inf\n",
      "[LightGBM] [Warning] No further splits with positive gain, best gain: -inf\n",
      "[LightGBM] [Warning] No further splits with positive gain, best gain: -inf\n",
      "[LightGBM] [Warning] No further splits with positive gain, best gain: -inf\n",
      "[LightGBM] [Warning] No further splits with positive gain, best gain: -inf\n",
      "[LightGBM] [Warning] No further splits with positive gain, best gain: -inf\n",
      "[LightGBM] [Warning] No further splits with positive gain, best gain: -inf\n",
      "[LightGBM] [Warning] No further splits with positive gain, best gain: -inf\n",
      "[LightGBM] [Warning] No further splits with positive gain, best gain: -inf\n",
      "[LightGBM] [Warning] No further splits with positive gain, best gain: -inf\n",
      "[LightGBM] [Warning] No further splits with positive gain, best gain: -inf\n",
      "[LightGBM] [Warning] No further splits with positive gain, best gain: -inf\n",
      "[LightGBM] [Warning] No further splits with positive gain, best gain: -inf\n",
      "[LightGBM] [Warning] No further splits with positive gain, best gain: -inf\n",
      "[LightGBM] [Warning] No further splits with positive gain, best gain: -inf\n",
      "[LightGBM] [Warning] No further splits with positive gain, best gain: -inf\n",
      "[LightGBM] [Warning] No further splits with positive gain, best gain: -inf\n",
      "[LightGBM] [Warning] No further splits with positive gain, best gain: -inf\n",
      "[LightGBM] [Warning] No further splits with positive gain, best gain: -inf\n",
      "[LightGBM] [Warning] No further splits with positive gain, best gain: -inf\n",
      "[LightGBM] [Warning] No further splits with positive gain, best gain: -inf\n",
      "[LightGBM] [Warning] No further splits with positive gain, best gain: -inf\n",
      "[LightGBM] [Warning] No further splits with positive gain, best gain: -inf\n",
      "[LightGBM] [Warning] No further splits with positive gain, best gain: -inf\n",
      "[LightGBM] [Warning] No further splits with positive gain, best gain: -inf\n",
      "[LightGBM] [Warning] No further splits with positive gain, best gain: -inf\n",
      "[LightGBM] [Warning] No further splits with positive gain, best gain: -inf\n",
      "[LightGBM] [Warning] No further splits with positive gain, best gain: -inf\n",
      "[LightGBM] [Warning] No further splits with positive gain, best gain: -inf\n",
      "[LightGBM] [Warning] No further splits with positive gain, best gain: -inf\n",
      "[LightGBM] [Warning] No further splits with positive gain, best gain: -inf\n",
      "[LightGBM] [Warning] No further splits with positive gain, best gain: -inf\n",
      "[LightGBM] [Warning] No further splits with positive gain, best gain: -inf\n",
      "[LightGBM] [Warning] No further splits with positive gain, best gain: -inf\n",
      "[LightGBM] [Warning] No further splits with positive gain, best gain: -inf\n",
      "[LightGBM] [Warning] No further splits with positive gain, best gain: -inf\n",
      "[LightGBM] [Warning] No further splits with positive gain, best gain: -inf\n",
      "[LightGBM] [Warning] No further splits with positive gain, best gain: -inf\n",
      "[LightGBM] [Warning] No further splits with positive gain, best gain: -inf\n",
      "[LightGBM] [Warning] No further splits with positive gain, best gain: -inf\n",
      "[LightGBM] [Warning] No further splits with positive gain, best gain: -inf\n",
      "[LightGBM] [Warning] No further splits with positive gain, best gain: -inf\n",
      "[LightGBM] [Warning] No further splits with positive gain, best gain: -inf\n",
      "[LightGBM] [Warning] No further splits with positive gain, best gain: -inf\n",
      "[LightGBM] [Warning] No further splits with positive gain, best gain: -inf\n",
      "[LightGBM] [Warning] No further splits with positive gain, best gain: -inf\n",
      "[LightGBM] [Warning] No further splits with positive gain, best gain: -inf\n",
      "[LightGBM] [Warning] No further splits with positive gain, best gain: -inf\n",
      "[LightGBM] [Warning] No further splits with positive gain, best gain: -inf\n",
      "[LightGBM] [Warning] No further splits with positive gain, best gain: -inf\n",
      "[LightGBM] [Warning] No further splits with positive gain, best gain: -inf\n",
      "[LightGBM] [Warning] No further splits with positive gain, best gain: -inf\n",
      "[LightGBM] [Warning] No further splits with positive gain, best gain: -inf\n",
      "[LightGBM] [Warning] No further splits with positive gain, best gain: -inf\n",
      "[LightGBM] [Warning] No further splits with positive gain, best gain: -inf\n",
      "[LightGBM] [Warning] No further splits with positive gain, best gain: -inf\n",
      "[LightGBM] [Warning] No further splits with positive gain, best gain: -inf\n",
      "[LightGBM] [Warning] No further splits with positive gain, best gain: -inf\n",
      "[LightGBM] [Warning] No further splits with positive gain, best gain: -inf\n",
      "[LightGBM] [Warning] No further splits with positive gain, best gain: -inf\n",
      "[LightGBM] [Warning] No further splits with positive gain, best gain: -inf\n",
      "[LightGBM] [Warning] No further splits with positive gain, best gain: -inf\n",
      "[LightGBM] [Warning] No further splits with positive gain, best gain: -inf\n",
      "[LightGBM] [Warning] No further splits with positive gain, best gain: -inf\n",
      "[LightGBM] [Warning] No further splits with positive gain, best gain: -inf\n",
      "[LightGBM] [Warning] No further splits with positive gain, best gain: -inf\n",
      "[LightGBM] [Warning] No further splits with positive gain, best gain: -inf\n",
      "[LightGBM] [Warning] No further splits with positive gain, best gain: -inf\n",
      "[LightGBM] [Warning] No further splits with positive gain, best gain: -inf\n",
      "[LightGBM] [Warning] No further splits with positive gain, best gain: -inf\n",
      "[LightGBM] [Warning] No further splits with positive gain, best gain: -inf\n",
      "[LightGBM] [Warning] No further splits with positive gain, best gain: -inf\n",
      "[LightGBM] [Warning] No further splits with positive gain, best gain: -inf\n",
      "[LightGBM] [Warning] No further splits with positive gain, best gain: -inf\n",
      "[LightGBM] [Warning] No further splits with positive gain, best gain: -inf\n",
      "[LightGBM] [Warning] No further splits with positive gain, best gain: -inf\n",
      "[LightGBM] [Warning] No further splits with positive gain, best gain: -inf\n",
      "[LightGBM] [Warning] No further splits with positive gain, best gain: -inf\n",
      "[LightGBM] [Warning] No further splits with positive gain, best gain: -inf\n",
      "[LightGBM] [Warning] No further splits with positive gain, best gain: -inf\n",
      "[LightGBM] [Warning] No further splits with positive gain, best gain: -inf\n",
      "[LightGBM] [Warning] No further splits with positive gain, best gain: -inf\n",
      "[LightGBM] [Warning] No further splits with positive gain, best gain: -inf\n",
      "[LightGBM] [Warning] No further splits with positive gain, best gain: -inf\n",
      "[LightGBM] [Warning] No further splits with positive gain, best gain: -inf\n",
      "[LightGBM] [Warning] No further splits with positive gain, best gain: -inf\n",
      "[LightGBM] [Warning] No further splits with positive gain, best gain: -inf\n",
      "[LightGBM] [Warning] No further splits with positive gain, best gain: -inf\n",
      "[LightGBM] [Warning] No further splits with positive gain, best gain: -inf\n",
      "[LightGBM] [Warning] No further splits with positive gain, best gain: -inf\n",
      "[LightGBM] [Warning] No further splits with positive gain, best gain: -inf\n",
      "[LightGBM] [Warning] No further splits with positive gain, best gain: -inf\n",
      "[LightGBM] [Warning] No further splits with positive gain, best gain: -inf\n",
      "[LightGBM] [Warning] No further splits with positive gain, best gain: -inf\n",
      "[LightGBM] [Warning] No further splits with positive gain, best gain: -inf\n",
      "[LightGBM] [Warning] No further splits with positive gain, best gain: -inf\n",
      "[LightGBM] [Warning] No further splits with positive gain, best gain: -inf\n",
      "[LightGBM] [Warning] No further splits with positive gain, best gain: -inf\n",
      "[LightGBM] [Warning] No further splits with positive gain, best gain: -inf\n",
      "[LightGBM] [Warning] No further splits with positive gain, best gain: -inf\n",
      "[LightGBM] [Warning] No further splits with positive gain, best gain: -inf\n",
      "[LightGBM] [Warning] No further splits with positive gain, best gain: -inf\n",
      "[LightGBM] [Warning] No further splits with positive gain, best gain: -inf\n",
      "[LightGBM] [Warning] No further splits with positive gain, best gain: -inf\n",
      "[LightGBM] [Warning] No further splits with positive gain, best gain: -inf\n",
      "[LightGBM] [Warning] No further splits with positive gain, best gain: -inf\n",
      "[LightGBM] [Warning] No further splits with positive gain, best gain: -inf\n",
      "[LightGBM] [Warning] No further splits with positive gain, best gain: -inf\n",
      "[LightGBM] [Warning] No further splits with positive gain, best gain: -inf\n",
      "[LightGBM] [Warning] No further splits with positive gain, best gain: -inf\n",
      "[LightGBM] [Warning] No further splits with positive gain, best gain: -inf\n",
      "[LightGBM] [Warning] No further splits with positive gain, best gain: -inf\n",
      "[LightGBM] [Warning] No further splits with positive gain, best gain: -inf\n",
      "[LightGBM] [Warning] No further splits with positive gain, best gain: -inf\n",
      "[LightGBM] [Warning] No further splits with positive gain, best gain: -inf\n",
      "[LightGBM] [Warning] No further splits with positive gain, best gain: -inf\n",
      "[LightGBM] [Warning] No further splits with positive gain, best gain: -inf\n",
      "[LightGBM] [Warning] No further splits with positive gain, best gain: -inf\n",
      "[LightGBM] [Warning] No further splits with positive gain, best gain: -inf\n",
      "[LightGBM] [Warning] No further splits with positive gain, best gain: -inf\n",
      "[LightGBM] [Warning] No further splits with positive gain, best gain: -inf\n",
      "[LightGBM] [Warning] No further splits with positive gain, best gain: -inf\n",
      "[LightGBM] [Warning] No further splits with positive gain, best gain: -inf\n",
      "[LightGBM] [Warning] No further splits with positive gain, best gain: -inf\n",
      "[LightGBM] [Warning] No further splits with positive gain, best gain: -inf\n",
      "[LightGBM] [Warning] No further splits with positive gain, best gain: -inf\n",
      "[LightGBM] [Warning] No further splits with positive gain, best gain: -inf\n",
      "[LightGBM] [Warning] No further splits with positive gain, best gain: -inf\n",
      "[LightGBM] [Warning] No further splits with positive gain, best gain: -inf\n",
      "[LightGBM] [Warning] No further splits with positive gain, best gain: -inf\n",
      "[LightGBM] [Warning] No further splits with positive gain, best gain: -inf\n",
      "[LightGBM] [Warning] No further splits with positive gain, best gain: -inf\n",
      "[LightGBM] [Warning] No further splits with positive gain, best gain: -inf\n",
      "[LightGBM] [Warning] No further splits with positive gain, best gain: -inf\n",
      "[LightGBM] [Warning] No further splits with positive gain, best gain: -inf\n",
      "[LightGBM] [Warning] No further splits with positive gain, best gain: -inf\n",
      "[LightGBM] [Warning] No further splits with positive gain, best gain: -inf\n",
      "[LightGBM] [Warning] No further splits with positive gain, best gain: -inf\n",
      "[LightGBM] [Warning] No further splits with positive gain, best gain: -inf\n",
      "[LightGBM] [Warning] No further splits with positive gain, best gain: -inf\n",
      "[LightGBM] [Warning] No further splits with positive gain, best gain: -inf\n",
      "[LightGBM] [Warning] No further splits with positive gain, best gain: -inf\n",
      "[LightGBM] [Warning] No further splits with positive gain, best gain: -inf\n",
      "[LightGBM] [Warning] No further splits with positive gain, best gain: -inf\n",
      "[LightGBM] [Warning] No further splits with positive gain, best gain: -inf\n",
      "[LightGBM] [Warning] No further splits with positive gain, best gain: -inf\n",
      "[LightGBM] [Warning] No further splits with positive gain, best gain: -inf\n",
      "[LightGBM] [Warning] No further splits with positive gain, best gain: -inf\n",
      "[LightGBM] [Warning] No further splits with positive gain, best gain: -inf\n",
      "[LightGBM] [Warning] No further splits with positive gain, best gain: -inf\n",
      "[LightGBM] [Warning] No further splits with positive gain, best gain: -inf\n",
      "[LightGBM] [Warning] No further splits with positive gain, best gain: -inf\n",
      "[LightGBM] [Warning] No further splits with positive gain, best gain: -inf\n",
      "[LightGBM] [Warning] No further splits with positive gain, best gain: -inf\n",
      "[LightGBM] [Warning] No further splits with positive gain, best gain: -inf\n",
      "[LightGBM] [Warning] No further splits with positive gain, best gain: -inf\n",
      "[LightGBM] [Warning] No further splits with positive gain, best gain: -inf\n",
      "[LightGBM] [Warning] No further splits with positive gain, best gain: -inf\n",
      "[LightGBM] [Warning] No further splits with positive gain, best gain: -inf\n",
      "[LightGBM] [Warning] No further splits with positive gain, best gain: -inf\n",
      "[LightGBM] [Warning] No further splits with positive gain, best gain: -inf\n",
      "[LightGBM] [Warning] No further splits with positive gain, best gain: -inf\n",
      "[LightGBM] [Warning] No further splits with positive gain, best gain: -inf\n",
      "[LightGBM] [Warning] No further splits with positive gain, best gain: -inf\n",
      "[LightGBM] [Warning] No further splits with positive gain, best gain: -inf\n",
      "[LightGBM] [Warning] No further splits with positive gain, best gain: -inf\n",
      "[LightGBM] [Warning] No further splits with positive gain, best gain: -inf\n",
      "[LightGBM] [Warning] No further splits with positive gain, best gain: -inf\n",
      "[LightGBM] [Warning] No further splits with positive gain, best gain: -inf\n",
      "[LightGBM] [Warning] No further splits with positive gain, best gain: -inf\n",
      "[LightGBM] [Warning] No further splits with positive gain, best gain: -inf\n",
      "[LightGBM] [Warning] No further splits with positive gain, best gain: -inf\n",
      "[LightGBM] [Warning] No further splits with positive gain, best gain: -inf\n",
      "[LightGBM] [Warning] No further splits with positive gain, best gain: -inf\n",
      "[LightGBM] [Warning] No further splits with positive gain, best gain: -inf\n",
      "[LightGBM] [Warning] No further splits with positive gain, best gain: -inf\n",
      "[LightGBM] [Warning] No further splits with positive gain, best gain: -inf\n",
      "[LightGBM] [Warning] No further splits with positive gain, best gain: -inf\n",
      "[LightGBM] [Warning] No further splits with positive gain, best gain: -inf\n",
      "[LightGBM] [Warning] No further splits with positive gain, best gain: -inf\n",
      "[LightGBM] [Warning] No further splits with positive gain, best gain: -inf\n",
      "[LightGBM] [Warning] No further splits with positive gain, best gain: -inf\n",
      "[LightGBM] [Warning] No further splits with positive gain, best gain: -inf\n",
      "[LightGBM] [Warning] No further splits with positive gain, best gain: -inf\n",
      "[LightGBM] [Warning] No further splits with positive gain, best gain: -inf\n",
      "[LightGBM] [Warning] No further splits with positive gain, best gain: -inf\n",
      "[LightGBM] [Warning] No further splits with positive gain, best gain: -inf\n",
      "[LightGBM] [Warning] No further splits with positive gain, best gain: -inf\n",
      "[LightGBM] [Warning] No further splits with positive gain, best gain: -inf\n",
      "[LightGBM] [Warning] No further splits with positive gain, best gain: -inf\n",
      "[LightGBM] [Warning] No further splits with positive gain, best gain: -inf\n",
      "[LightGBM] [Warning] No further splits with positive gain, best gain: -inf\n",
      "[LightGBM] [Warning] No further splits with positive gain, best gain: -inf\n",
      "[LightGBM] [Warning] No further splits with positive gain, best gain: -inf\n",
      "[LightGBM] [Warning] No further splits with positive gain, best gain: -inf\n",
      "[LightGBM] [Warning] No further splits with positive gain, best gain: -inf\n",
      "[LightGBM] [Warning] No further splits with positive gain, best gain: -inf\n",
      "[LightGBM] [Warning] No further splits with positive gain, best gain: -inf\n",
      "[LightGBM] [Warning] No further splits with positive gain, best gain: -inf\n",
      "[LightGBM] [Warning] No further splits with positive gain, best gain: -inf\n",
      "[LightGBM] [Warning] No further splits with positive gain, best gain: -inf\n",
      "[LightGBM] [Warning] No further splits with positive gain, best gain: -inf\n",
      "[LightGBM] [Warning] No further splits with positive gain, best gain: -inf\n",
      "[LightGBM] [Warning] No further splits with positive gain, best gain: -inf\n",
      "[LightGBM] [Warning] No further splits with positive gain, best gain: -inf\n",
      "[LightGBM] [Warning] No further splits with positive gain, best gain: -inf\n",
      "[LightGBM] [Warning] No further splits with positive gain, best gain: -inf\n",
      "[LightGBM] [Warning] No further splits with positive gain, best gain: -inf\n",
      "[LightGBM] [Warning] No further splits with positive gain, best gain: -inf\n",
      "[LightGBM] [Warning] No further splits with positive gain, best gain: -inf\n",
      "[LightGBM] [Warning] No further splits with positive gain, best gain: -inf\n",
      "[LightGBM] [Warning] No further splits with positive gain, best gain: -inf\n",
      "[LightGBM] [Warning] No further splits with positive gain, best gain: -inf\n",
      "[LightGBM] [Warning] No further splits with positive gain, best gain: -inf\n",
      "[LightGBM] [Warning] No further splits with positive gain, best gain: -inf\n",
      "[LightGBM] [Warning] No further splits with positive gain, best gain: -inf\n",
      "[LightGBM] [Warning] No further splits with positive gain, best gain: -inf\n",
      "[LightGBM] [Warning] No further splits with positive gain, best gain: -inf\n",
      "[LightGBM] [Warning] No further splits with positive gain, best gain: -inf\n",
      "[LightGBM] [Warning] No further splits with positive gain, best gain: -inf\n",
      "[LightGBM] [Warning] No further splits with positive gain, best gain: -inf\n",
      "[LightGBM] [Warning] No further splits with positive gain, best gain: -inf\n",
      "[LightGBM] [Warning] No further splits with positive gain, best gain: -inf\n",
      "[LightGBM] [Warning] No further splits with positive gain, best gain: -inf\n",
      "[LightGBM] [Warning] No further splits with positive gain, best gain: -inf\n",
      "[LightGBM] [Warning] No further splits with positive gain, best gain: -inf\n",
      "[LightGBM] [Warning] No further splits with positive gain, best gain: -inf\n",
      "[LightGBM] [Warning] No further splits with positive gain, best gain: -inf\n",
      "[LightGBM] [Warning] No further splits with positive gain, best gain: -inf\n",
      "[LightGBM] [Warning] No further splits with positive gain, best gain: -inf\n",
      "[LightGBM] [Warning] No further splits with positive gain, best gain: -inf\n",
      "[LightGBM] [Warning] No further splits with positive gain, best gain: -inf\n",
      "[LightGBM] [Warning] No further splits with positive gain, best gain: -inf\n",
      "[LightGBM] [Warning] No further splits with positive gain, best gain: -inf\n",
      "[LightGBM] [Warning] No further splits with positive gain, best gain: -inf\n",
      "[LightGBM] [Warning] No further splits with positive gain, best gain: -inf\n",
      "[LightGBM] [Warning] No further splits with positive gain, best gain: -inf\n",
      "[LightGBM] [Warning] No further splits with positive gain, best gain: -inf\n",
      "[LightGBM] [Warning] No further splits with positive gain, best gain: -inf\n",
      "[LightGBM] [Warning] No further splits with positive gain, best gain: -inf\n",
      "[LightGBM] [Warning] No further splits with positive gain, best gain: -inf\n",
      "[LightGBM] [Warning] No further splits with positive gain, best gain: -inf\n",
      "[LightGBM] [Warning] No further splits with positive gain, best gain: -inf\n",
      "[LightGBM] [Warning] No further splits with positive gain, best gain: -inf\n",
      "[LightGBM] [Warning] No further splits with positive gain, best gain: -inf\n",
      "[LightGBM] [Warning] No further splits with positive gain, best gain: -inf\n",
      "[LightGBM] [Warning] No further splits with positive gain, best gain: -inf\n",
      "[LightGBM] [Warning] No further splits with positive gain, best gain: -inf\n",
      "[LightGBM] [Warning] No further splits with positive gain, best gain: -inf\n",
      "[LightGBM] [Warning] No further splits with positive gain, best gain: -inf\n",
      "[LightGBM] [Warning] No further splits with positive gain, best gain: -inf\n",
      "[LightGBM] [Warning] No further splits with positive gain, best gain: -inf\n",
      "[LightGBM] [Warning] No further splits with positive gain, best gain: -inf\n",
      "[LightGBM] [Warning] No further splits with positive gain, best gain: -inf\n",
      "[LightGBM] [Warning] No further splits with positive gain, best gain: -inf\n",
      "[LightGBM] [Warning] No further splits with positive gain, best gain: -inf\n",
      "[LightGBM] [Warning] No further splits with positive gain, best gain: -inf\n",
      "[LightGBM] [Warning] No further splits with positive gain, best gain: -inf\n",
      "[LightGBM] [Warning] No further splits with positive gain, best gain: -inf\n",
      "[LightGBM] [Warning] No further splits with positive gain, best gain: -inf\n",
      "[LightGBM] [Warning] No further splits with positive gain, best gain: -inf\n",
      "[LightGBM] [Warning] No further splits with positive gain, best gain: -inf\n",
      "[LightGBM] [Warning] No further splits with positive gain, best gain: -inf\n",
      "[LightGBM] [Warning] No further splits with positive gain, best gain: -inf\n",
      "[LightGBM] [Warning] No further splits with positive gain, best gain: -inf\n",
      "[LightGBM] [Warning] No further splits with positive gain, best gain: -inf\n",
      "[LightGBM] [Warning] No further splits with positive gain, best gain: -inf\n",
      "[LightGBM] [Warning] No further splits with positive gain, best gain: -inf\n",
      "[LightGBM] [Warning] No further splits with positive gain, best gain: -inf\n",
      "[LightGBM] [Warning] No further splits with positive gain, best gain: -inf\n",
      "[LightGBM] [Warning] No further splits with positive gain, best gain: -inf\n",
      "[LightGBM] [Warning] No further splits with positive gain, best gain: -inf\n",
      "[LightGBM] [Warning] No further splits with positive gain, best gain: -inf\n",
      "[LightGBM] [Warning] No further splits with positive gain, best gain: -inf\n",
      "[LightGBM] [Warning] No further splits with positive gain, best gain: -inf\n",
      "[LightGBM] [Warning] No further splits with positive gain, best gain: -inf\n",
      "[LightGBM] [Warning] No further splits with positive gain, best gain: -inf\n",
      "[LightGBM] [Warning] No further splits with positive gain, best gain: -inf\n",
      "[LightGBM] [Warning] No further splits with positive gain, best gain: -inf\n",
      "[LightGBM] [Warning] No further splits with positive gain, best gain: -inf\n",
      "[LightGBM] [Warning] No further splits with positive gain, best gain: -inf\n",
      "[LightGBM] [Warning] No further splits with positive gain, best gain: -inf\n",
      "[LightGBM] [Warning] No further splits with positive gain, best gain: -inf\n",
      "[LightGBM] [Warning] No further splits with positive gain, best gain: -inf\n",
      "[LightGBM] [Warning] No further splits with positive gain, best gain: -inf\n",
      "[LightGBM] [Warning] No further splits with positive gain, best gain: -inf\n",
      "[LightGBM] [Warning] No further splits with positive gain, best gain: -inf\n",
      "[LightGBM] [Warning] No further splits with positive gain, best gain: -inf\n",
      "[LightGBM] [Warning] No further splits with positive gain, best gain: -inf\n",
      "[LightGBM] [Warning] No further splits with positive gain, best gain: -inf\n",
      "[LightGBM] [Warning] No further splits with positive gain, best gain: -inf\n",
      "[LightGBM] [Warning] No further splits with positive gain, best gain: -inf\n",
      "[LightGBM] [Warning] No further splits with positive gain, best gain: -inf\n",
      "[LightGBM] [Warning] No further splits with positive gain, best gain: -inf\n",
      "[LightGBM] [Warning] No further splits with positive gain, best gain: -inf\n",
      "[LightGBM] [Warning] No further splits with positive gain, best gain: -inf\n",
      "[LightGBM] [Warning] No further splits with positive gain, best gain: -inf\n",
      "[LightGBM] [Warning] No further splits with positive gain, best gain: -inf\n",
      "[LightGBM] [Warning] No further splits with positive gain, best gain: -inf\n",
      "[LightGBM] [Warning] No further splits with positive gain, best gain: -inf\n",
      "[LightGBM] [Warning] No further splits with positive gain, best gain: -inf\n",
      "[LightGBM] [Warning] No further splits with positive gain, best gain: -inf\n",
      "[LightGBM] [Warning] No further splits with positive gain, best gain: -inf\n",
      "[LightGBM] [Warning] No further splits with positive gain, best gain: -inf\n",
      "[LightGBM] [Warning] No further splits with positive gain, best gain: -inf\n",
      "[LightGBM] [Warning] No further splits with positive gain, best gain: -inf\n",
      "[LightGBM] [Warning] No further splits with positive gain, best gain: -inf\n",
      "[LightGBM] [Warning] No further splits with positive gain, best gain: -inf\n",
      "[LightGBM] [Warning] No further splits with positive gain, best gain: -inf\n",
      "[LightGBM] [Warning] No further splits with positive gain, best gain: -inf\n",
      "[LightGBM] [Warning] No further splits with positive gain, best gain: -inf\n",
      "[LightGBM] [Warning] No further splits with positive gain, best gain: -inf\n",
      "[LightGBM] [Warning] No further splits with positive gain, best gain: -inf\n",
      "[LightGBM] [Warning] No further splits with positive gain, best gain: -inf\n",
      "[LightGBM] [Warning] No further splits with positive gain, best gain: -inf\n",
      "[LightGBM] [Warning] No further splits with positive gain, best gain: -inf\n",
      "[LightGBM] [Warning] No further splits with positive gain, best gain: -inf\n",
      "[LightGBM] [Warning] No further splits with positive gain, best gain: -inf\n",
      "[LightGBM] [Warning] No further splits with positive gain, best gain: -inf\n",
      "[LightGBM] [Warning] No further splits with positive gain, best gain: -inf\n",
      "[LightGBM] [Warning] No further splits with positive gain, best gain: -inf\n",
      "[LightGBM] [Warning] No further splits with positive gain, best gain: -inf\n",
      "[LightGBM] [Warning] No further splits with positive gain, best gain: -inf\n",
      "[LightGBM] [Warning] No further splits with positive gain, best gain: -inf\n",
      "[LightGBM] [Warning] No further splits with positive gain, best gain: -inf\n",
      "[LightGBM] [Warning] No further splits with positive gain, best gain: -inf\n",
      "[LightGBM] [Warning] No further splits with positive gain, best gain: -inf\n",
      "[LightGBM] [Warning] No further splits with positive gain, best gain: -inf\n",
      "[LightGBM] [Warning] No further splits with positive gain, best gain: -inf\n",
      "[LightGBM] [Warning] No further splits with positive gain, best gain: -inf\n",
      "[LightGBM] [Warning] No further splits with positive gain, best gain: -inf\n",
      "[LightGBM] [Warning] No further splits with positive gain, best gain: -inf\n",
      "[LightGBM] [Warning] No further splits with positive gain, best gain: -inf\n",
      "[LightGBM] [Warning] No further splits with positive gain, best gain: -inf\n",
      "[LightGBM] [Warning] No further splits with positive gain, best gain: -inf\n",
      "[LightGBM] [Warning] No further splits with positive gain, best gain: -inf\n",
      "[LightGBM] [Warning] No further splits with positive gain, best gain: -inf\n",
      "[LightGBM] [Warning] No further splits with positive gain, best gain: -inf\n",
      "[LightGBM] [Warning] No further splits with positive gain, best gain: -inf\n",
      "[LightGBM] [Warning] No further splits with positive gain, best gain: -inf\n",
      "[LightGBM] [Warning] No further splits with positive gain, best gain: -inf\n",
      "[LightGBM] [Warning] No further splits with positive gain, best gain: -inf\n",
      "[LightGBM] [Warning] No further splits with positive gain, best gain: -inf\n",
      "[LightGBM] [Warning] No further splits with positive gain, best gain: -inf\n",
      "[LightGBM] [Warning] No further splits with positive gain, best gain: -inf\n",
      "[LightGBM] [Warning] No further splits with positive gain, best gain: -inf\n",
      "[LightGBM] [Warning] No further splits with positive gain, best gain: -inf\n",
      "[LightGBM] [Warning] No further splits with positive gain, best gain: -inf\n",
      "[LightGBM] [Warning] No further splits with positive gain, best gain: -inf\n",
      "[LightGBM] [Warning] No further splits with positive gain, best gain: -inf\n",
      "[LightGBM] [Warning] No further splits with positive gain, best gain: -inf\n",
      "[LightGBM] [Warning] No further splits with positive gain, best gain: -inf\n",
      "[LightGBM] [Warning] No further splits with positive gain, best gain: -inf\n",
      "[LightGBM] [Warning] No further splits with positive gain, best gain: -inf\n",
      "[LightGBM] [Warning] No further splits with positive gain, best gain: -inf\n",
      "[LightGBM] [Warning] No further splits with positive gain, best gain: -inf\n",
      "[LightGBM] [Warning] No further splits with positive gain, best gain: -inf\n",
      "[LightGBM] [Warning] No further splits with positive gain, best gain: -inf\n",
      "[LightGBM] [Warning] No further splits with positive gain, best gain: -inf\n",
      "[LightGBM] [Warning] No further splits with positive gain, best gain: -inf\n",
      "[LightGBM] [Warning] No further splits with positive gain, best gain: -inf\n",
      "[LightGBM] [Warning] No further splits with positive gain, best gain: -inf\n",
      "[LightGBM] [Warning] No further splits with positive gain, best gain: -inf\n",
      "[LightGBM] [Warning] No further splits with positive gain, best gain: -inf\n",
      "[LightGBM] [Warning] No further splits with positive gain, best gain: -inf\n",
      "[LightGBM] [Warning] No further splits with positive gain, best gain: -inf\n",
      "[LightGBM] [Warning] No further splits with positive gain, best gain: -inf\n",
      "[LightGBM] [Warning] No further splits with positive gain, best gain: -inf\n",
      "[LightGBM] [Warning] No further splits with positive gain, best gain: -inf\n",
      "[LightGBM] [Warning] No further splits with positive gain, best gain: -inf\n",
      "[LightGBM] [Warning] No further splits with positive gain, best gain: -inf\n",
      "[LightGBM] [Warning] No further splits with positive gain, best gain: -inf\n",
      "[LightGBM] [Warning] No further splits with positive gain, best gain: -inf\n",
      "[LightGBM] [Warning] No further splits with positive gain, best gain: -inf\n",
      "[LightGBM] [Warning] No further splits with positive gain, best gain: -inf\n",
      "[LightGBM] [Warning] No further splits with positive gain, best gain: -inf\n",
      "[LightGBM] [Warning] No further splits with positive gain, best gain: -inf\n",
      "[LightGBM] [Warning] No further splits with positive gain, best gain: -inf\n",
      "[LightGBM] [Warning] No further splits with positive gain, best gain: -inf\n",
      "[LightGBM] [Warning] No further splits with positive gain, best gain: -inf\n",
      "[LightGBM] [Warning] No further splits with positive gain, best gain: -inf\n",
      "[LightGBM] [Warning] No further splits with positive gain, best gain: -inf\n",
      "[LightGBM] [Warning] No further splits with positive gain, best gain: -inf\n",
      "[LightGBM] [Warning] No further splits with positive gain, best gain: -inf\n",
      "[LightGBM] [Warning] No further splits with positive gain, best gain: -inf\n",
      "[LightGBM] [Warning] No further splits with positive gain, best gain: -inf\n",
      "[LightGBM] [Warning] No further splits with positive gain, best gain: -inf\n",
      "[LightGBM] [Warning] No further splits with positive gain, best gain: -inf\n",
      "[LightGBM] [Warning] No further splits with positive gain, best gain: -inf\n",
      "[LightGBM] [Warning] No further splits with positive gain, best gain: -inf\n",
      "[LightGBM] [Warning] No further splits with positive gain, best gain: -inf\n",
      "[LightGBM] [Warning] No further splits with positive gain, best gain: -inf\n",
      "[LightGBM] [Warning] No further splits with positive gain, best gain: -inf\n",
      "[LightGBM] [Warning] No further splits with positive gain, best gain: -inf\n",
      "[LightGBM] [Warning] No further splits with positive gain, best gain: -inf\n",
      "[LightGBM] [Warning] No further splits with positive gain, best gain: -inf\n",
      "[LightGBM] [Warning] No further splits with positive gain, best gain: -inf\n",
      "[LightGBM] [Warning] No further splits with positive gain, best gain: -inf\n",
      "[LightGBM] [Warning] No further splits with positive gain, best gain: -inf\n",
      "[LightGBM] [Warning] No further splits with positive gain, best gain: -inf\n",
      "[LightGBM] [Warning] No further splits with positive gain, best gain: -inf\n",
      "[LightGBM] [Warning] No further splits with positive gain, best gain: -inf\n",
      "[LightGBM] [Warning] No further splits with positive gain, best gain: -inf\n",
      "[LightGBM] [Warning] No further splits with positive gain, best gain: -inf\n",
      "[LightGBM] [Warning] No further splits with positive gain, best gain: -inf\n",
      "[LightGBM] [Warning] No further splits with positive gain, best gain: -inf\n",
      "[LightGBM] [Warning] No further splits with positive gain, best gain: -inf\n",
      "[LightGBM] [Warning] No further splits with positive gain, best gain: -inf\n",
      "[LightGBM] [Warning] No further splits with positive gain, best gain: -inf\n",
      "[LightGBM] [Warning] No further splits with positive gain, best gain: -inf\n",
      "[LightGBM] [Warning] No further splits with positive gain, best gain: -inf\n",
      "[LightGBM] [Warning] No further splits with positive gain, best gain: -inf\n",
      "[LightGBM] [Warning] No further splits with positive gain, best gain: -inf\n",
      "[LightGBM] [Warning] No further splits with positive gain, best gain: -inf\n",
      "[LightGBM] [Warning] No further splits with positive gain, best gain: -inf\n",
      "[LightGBM] [Warning] No further splits with positive gain, best gain: -inf\n",
      "[LightGBM] [Warning] No further splits with positive gain, best gain: -inf\n",
      "[LightGBM] [Warning] No further splits with positive gain, best gain: -inf\n",
      "[LightGBM] [Warning] No further splits with positive gain, best gain: -inf\n",
      "[LightGBM] [Warning] No further splits with positive gain, best gain: -inf\n",
      "[LightGBM] [Warning] No further splits with positive gain, best gain: -inf\n",
      "[LightGBM] [Warning] No further splits with positive gain, best gain: -inf\n",
      "[LightGBM] [Warning] No further splits with positive gain, best gain: -inf\n",
      "[LightGBM] [Warning] No further splits with positive gain, best gain: -inf\n",
      "[LightGBM] [Warning] No further splits with positive gain, best gain: -inf\n",
      "[LightGBM] [Warning] No further splits with positive gain, best gain: -inf\n",
      "[LightGBM] [Warning] No further splits with positive gain, best gain: -inf\n",
      "[LightGBM] [Warning] No further splits with positive gain, best gain: -inf\n",
      "[LightGBM] [Warning] No further splits with positive gain, best gain: -inf\n",
      "[LightGBM] [Warning] No further splits with positive gain, best gain: -inf\n",
      "[LightGBM] [Warning] No further splits with positive gain, best gain: -inf\n",
      "[LightGBM] [Warning] No further splits with positive gain, best gain: -inf\n",
      "[LightGBM] [Warning] No further splits with positive gain, best gain: -inf\n",
      "[LightGBM] [Warning] No further splits with positive gain, best gain: -inf\n",
      "[LightGBM] [Warning] No further splits with positive gain, best gain: -inf\n",
      "[LightGBM] [Warning] No further splits with positive gain, best gain: -inf\n",
      "[LightGBM] [Warning] No further splits with positive gain, best gain: -inf\n",
      "[LightGBM] [Warning] No further splits with positive gain, best gain: -inf\n",
      "[LightGBM] [Warning] No further splits with positive gain, best gain: -inf\n",
      "[LightGBM] [Warning] No further splits with positive gain, best gain: -inf\n",
      "[LightGBM] [Warning] No further splits with positive gain, best gain: -inf\n",
      "[LightGBM] [Warning] No further splits with positive gain, best gain: -inf\n",
      "[LightGBM] [Warning] No further splits with positive gain, best gain: -inf\n",
      "[LightGBM] [Warning] No further splits with positive gain, best gain: -inf\n",
      "[LightGBM] [Warning] No further splits with positive gain, best gain: -inf\n",
      "[LightGBM] [Warning] No further splits with positive gain, best gain: -inf\n",
      "[LightGBM] [Warning] No further splits with positive gain, best gain: -inf\n",
      "[LightGBM] [Warning] No further splits with positive gain, best gain: -inf\n",
      "[LightGBM] [Warning] No further splits with positive gain, best gain: -inf\n",
      "[LightGBM] [Warning] No further splits with positive gain, best gain: -inf\n",
      "[LightGBM] [Warning] No further splits with positive gain, best gain: -inf\n",
      "[LightGBM] [Warning] No further splits with positive gain, best gain: -inf\n",
      "[LightGBM] [Warning] No further splits with positive gain, best gain: -inf\n",
      "[LightGBM] [Warning] No further splits with positive gain, best gain: -inf\n",
      "[LightGBM] [Warning] No further splits with positive gain, best gain: -inf\n",
      "[LightGBM] [Warning] No further splits with positive gain, best gain: -inf\n",
      "[LightGBM] [Warning] No further splits with positive gain, best gain: -inf\n",
      "[LightGBM] [Warning] No further splits with positive gain, best gain: -inf\n",
      "[LightGBM] [Warning] No further splits with positive gain, best gain: -inf\n",
      "[LightGBM] [Warning] No further splits with positive gain, best gain: -inf\n",
      "[LightGBM] [Warning] No further splits with positive gain, best gain: -inf\n",
      "[LightGBM] [Warning] No further splits with positive gain, best gain: -inf\n",
      "[LightGBM] [Warning] No further splits with positive gain, best gain: -inf\n",
      "[LightGBM] [Warning] No further splits with positive gain, best gain: -inf\n",
      "[LightGBM] [Warning] No further splits with positive gain, best gain: -inf\n",
      "[LightGBM] [Warning] No further splits with positive gain, best gain: -inf\n",
      "[LightGBM] [Warning] No further splits with positive gain, best gain: -inf\n",
      "[LightGBM] [Warning] No further splits with positive gain, best gain: -inf\n",
      "[LightGBM] [Warning] No further splits with positive gain, best gain: -inf\n",
      "[LightGBM] [Warning] No further splits with positive gain, best gain: -inf\n",
      "[LightGBM] [Warning] No further splits with positive gain, best gain: -inf\n",
      "[LightGBM] [Warning] No further splits with positive gain, best gain: -inf\n",
      "[LightGBM] [Warning] No further splits with positive gain, best gain: -inf\n",
      "[LightGBM] [Warning] No further splits with positive gain, best gain: -inf\n",
      "[LightGBM] [Warning] No further splits with positive gain, best gain: -inf\n",
      "[LightGBM] [Warning] No further splits with positive gain, best gain: -inf\n",
      "[LightGBM] [Warning] No further splits with positive gain, best gain: -inf\n",
      "[LightGBM] [Warning] No further splits with positive gain, best gain: -inf\n",
      "[LightGBM] [Warning] No further splits with positive gain, best gain: -inf\n",
      "[LightGBM] [Warning] No further splits with positive gain, best gain: -inf\n",
      "[LightGBM] [Warning] No further splits with positive gain, best gain: -inf\n",
      "[LightGBM] [Warning] No further splits with positive gain, best gain: -inf\n",
      "[LightGBM] [Warning] No further splits with positive gain, best gain: -inf\n",
      "[LightGBM] [Warning] No further splits with positive gain, best gain: -inf\n",
      "[LightGBM] [Warning] No further splits with positive gain, best gain: -inf\n",
      "[LightGBM] [Warning] No further splits with positive gain, best gain: -inf\n",
      "[LightGBM] [Warning] No further splits with positive gain, best gain: -inf\n",
      "[LightGBM] [Warning] No further splits with positive gain, best gain: -inf\n",
      "[LightGBM] [Warning] No further splits with positive gain, best gain: -inf\n",
      "[LightGBM] [Warning] No further splits with positive gain, best gain: -inf\n",
      "[LightGBM] [Warning] No further splits with positive gain, best gain: -inf\n",
      "[LightGBM] [Warning] No further splits with positive gain, best gain: -inf\n",
      "[LightGBM] [Warning] No further splits with positive gain, best gain: -inf\n",
      "[LightGBM] [Warning] No further splits with positive gain, best gain: -inf\n",
      "[LightGBM] [Warning] No further splits with positive gain, best gain: -inf\n",
      "[LightGBM] [Warning] No further splits with positive gain, best gain: -inf\n",
      "[LightGBM] [Warning] No further splits with positive gain, best gain: -inf\n",
      "[LightGBM] [Warning] No further splits with positive gain, best gain: -inf\n",
      "[LightGBM] [Warning] No further splits with positive gain, best gain: -inf\n",
      "[LightGBM] [Warning] No further splits with positive gain, best gain: -inf\n",
      "[LightGBM] [Warning] No further splits with positive gain, best gain: -inf\n",
      "[LightGBM] [Warning] No further splits with positive gain, best gain: -inf\n",
      "[LightGBM] [Warning] No further splits with positive gain, best gain: -inf\n",
      "[LightGBM] [Warning] No further splits with positive gain, best gain: -inf\n",
      "[LightGBM] [Warning] No further splits with positive gain, best gain: -inf\n",
      "[LightGBM] [Warning] No further splits with positive gain, best gain: -inf\n",
      "[LightGBM] [Warning] No further splits with positive gain, best gain: -inf\n",
      "[LightGBM] [Warning] No further splits with positive gain, best gain: -inf\n",
      "[LightGBM] [Warning] No further splits with positive gain, best gain: -inf\n",
      "[LightGBM] [Warning] No further splits with positive gain, best gain: -inf\n",
      "[LightGBM] [Warning] No further splits with positive gain, best gain: -inf\n",
      "Balanced Accuracy (testing):0.7142857142857143\n"
     ]
    },
    {
     "name": "stderr",
     "output_type": "stream",
     "text": [
      "C:\\Users\\huyng\\miniconda3\\Lib\\site-packages\\sklearn\\metrics\\_classification.py:2458: UserWarning: y_pred contains classes not in y_true\n",
      "  warnings.warn(\"y_pred contains classes not in y_true\")\n",
      "C:\\Users\\huyng\\miniconda3\\Lib\\site-packages\\sklearn\\metrics\\_classification.py:1509: UndefinedMetricWarning: Precision is ill-defined and being set to 0.0 in labels with no predicted samples. Use `zero_division` parameter to control this behavior.\n",
      "  _warn_prf(average, modifier, f\"{metric.capitalize()} is\", len(result))\n",
      "C:\\Users\\huyng\\miniconda3\\Lib\\site-packages\\sklearn\\metrics\\_classification.py:1509: UndefinedMetricWarning: Recall is ill-defined and being set to 0.0 in labels with no true samples. Use `zero_division` parameter to control this behavior.\n",
      "  _warn_prf(average, modifier, f\"{metric.capitalize()} is\", len(result))\n",
      "C:\\Users\\huyng\\miniconda3\\Lib\\site-packages\\sklearn\\metrics\\_classification.py:1509: UndefinedMetricWarning: Precision is ill-defined and being set to 0.0 in labels with no predicted samples. Use `zero_division` parameter to control this behavior.\n",
      "  _warn_prf(average, modifier, f\"{metric.capitalize()} is\", len(result))\n",
      "C:\\Users\\huyng\\miniconda3\\Lib\\site-packages\\sklearn\\metrics\\_classification.py:1509: UndefinedMetricWarning: Recall is ill-defined and being set to 0.0 in labels with no true samples. Use `zero_division` parameter to control this behavior.\n",
      "  _warn_prf(average, modifier, f\"{metric.capitalize()} is\", len(result))\n",
      "C:\\Users\\huyng\\miniconda3\\Lib\\site-packages\\sklearn\\metrics\\_classification.py:1509: UndefinedMetricWarning: Precision is ill-defined and being set to 0.0 in labels with no predicted samples. Use `zero_division` parameter to control this behavior.\n",
      "  _warn_prf(average, modifier, f\"{metric.capitalize()} is\", len(result))\n",
      "C:\\Users\\huyng\\miniconda3\\Lib\\site-packages\\sklearn\\metrics\\_classification.py:1509: UndefinedMetricWarning: Recall is ill-defined and being set to 0.0 in labels with no true samples. Use `zero_division` parameter to control this behavior.\n",
      "  _warn_prf(average, modifier, f\"{metric.capitalize()} is\", len(result))\n"
     ]
    },
    {
     "name": "stdout",
     "output_type": "stream",
     "text": [
      "                                  precision    recall  f1-score   support\n",
      "\n",
      "                        Balloons       0.00      0.00      0.00         0\n",
      "                     Bottle caps       0.00      0.00      0.00         2\n",
      "                  Cigarillo tips       0.00      0.00      0.00         1\n",
      "               Fabric face masks       1.00      1.00      1.00         1\n",
      "              Fishing bait trays       0.50      1.00      0.67         1\n",
      "                 Food containers       0.50      1.00      0.67         1\n",
      "                  Food packaging       1.00      1.00      1.00         1\n",
      "                   Food wrappers       1.00      1.00      1.00         1\n",
      "Mixed plastic waste (fragmented)       0.00      0.00      0.00         1\n",
      "               Plastic Toy balls       1.00      1.00      1.00         1\n",
      "                    Plastic cups       0.00      0.00      0.00         1\n",
      "         Plastic drinking straws       0.67      1.00      0.80         2\n",
      "          Polystyrene food waste       1.00      1.00      1.00         1\n",
      "           Various plastic waste       1.00      1.00      1.00         1\n",
      "             Ziploc plastic bags       0.50      1.00      0.67         1\n",
      "\n",
      "                        accuracy                           0.69        16\n",
      "                       macro avg       0.54      0.67      0.59        16\n",
      "                    weighted avg       0.55      0.69      0.60        16\n",
      "\n"
     ]
    },
    {
     "data": {
      "image/png": "[encoded data removed]",
      "text/plain": [
       "<Figure size 1000x1000 with 2 Axes>"
      ]
     },
     "metadata": {},
     "output_type": "display_data"
    }
   ],
   "source": [
    "dat = gc_hplc_zero_reduc\n",
    "# If a class only have 1 member then exclude that class from the ML\n",
    "# Count the frequency of each class\n",
    "class_counts = dat['Subcategory'].astype(str).value_counts()\n",
    "# Filter out classes with only one member\n",
    "dat = dat[dat['Subcategory'].astype(str).map(class_counts) > 1]\n",
    "\n",
    "# Extract the features and labels\n",
    "X = dat.drop(columns=['Subcategory'])\n",
    "y = dat['Subcategory']\n",
    "\n",
    "regex = re.compile(r\"\\[|\\]|<|>| \", re.IGNORECASE)\n",
    "X.columns = [regex.sub(\"_\", col) if any(x in str(col) for x in set(('[', ']', '<', '>', \" \"))) else col for col in X.columns.values]\n",
    "\n",
    "X_train, X_test, y_train, y_test = train_test_split(X, y, test_size = round(len(dat['Subcategory'].unique())/dat.shape[0], 3), \n",
    "                                                    stratify = y, \n",
    "                                                    random_state= 123 # random.randrange(999)\n",
    "                                                   )\n",
    "\n",
    "label_encoder = LabelEncoder()\n",
    "y_train_encoded = label_encoder.fit_transform(y_train)\n",
    "\n",
    "param_grid = {\n",
    "'n_estimators':  [1, 10, 50, 100, 500, 1000, 5000, 10000], # Generate an array of 100 stepwise values from 0 to 1000, \n",
    "}\n",
    "\n",
    "# # The 'cv' parameter of RandomizedSearchCV must be an int in the range [2, inf) \n",
    "unique, counts = np.unique(y_train, return_counts=True)\n",
    "min_count_idx = np.argmin(counts)\n",
    "\n",
    "cv = RepeatedStratifiedKFold(n_splits = counts[min_count_idx], n_repeats = 10, random_state = 123)\n",
    "\n",
    "gridsearch = GridSearchCV(LGBMClassifier(), param_grid=param_grid, \n",
    "                        # number of cv = number of member of classes with least no. of members\n",
    "                        cv = cv,  \n",
    "                        scoring = 'balanced_accuracy',\n",
    "                        n_jobs = -1, return_train_score = True,\n",
    "                         ).fit(X_train, y_train_encoded)\n",
    "\n",
    "grid = gridsearch.best_params_\n",
    "\n",
    "# Monitoring split_test_score across different hyperparameters of GridSearch -------------------------------------------------------\n",
    "glued_dicts = ['_'.join([f\"{key}_{value}\" for key, value in d.items()]) for d in gridsearch.cv_results_['params']]\n",
    "split_test_scores_list = []\n",
    "\n",
    "# Iterate over each row\n",
    "for index, row in pd.DataFrame(gridsearch.cv_results_).iterrows():\n",
    "    split_test_scores = []\n",
    "    # Iterate over each column\n",
    "    for column in pd.DataFrame(gridsearch.cv_results_).columns:\n",
    "        # Check if column name matches the pattern \"splitx_test_score\"\n",
    "        if column.startswith('split') and column.endswith('_test_score'):\n",
    "            # Extract numerical value from the column\n",
    "            split_test_score = row[column]\n",
    "            split_test_scores.append(split_test_score)\n",
    "    split_test_scores_list.append(split_test_scores)\n",
    "\n",
    "for name, scores in zip(glued_dicts, split_test_scores_list):\n",
    "  # summarize progress along the way\n",
    " print('%s %.3f (%.3f)' % (name, np.mean(scores), np.std(scores)))\n",
    "# plot model performance for comparison\n",
    "plt.boxplot(split_test_scores_list, labels=glued_dicts, showbox=True, showfliers=True, showcaps=True)\n",
    "plt.xticks(rotation=90)\n",
    "plt.show()\n",
    "\n",
    "# Train model with best params ---------------------------------------\n",
    "gbm_model = LGBMClassifier(n_estimators= grid['n_estimators'])\n",
    "gbm_model.fit(X_train, y_train_encoded)\n",
    "\n",
    "predictions_test = gbm_model.predict_proba(X_test)\n",
    "pred_df_test = pd.DataFrame(predictions_test, columns=gbm_model.classes_)\n",
    "\n",
    "y_pred_test = label_encoder.inverse_transform(pred_df_test.select_dtypes(include=[np.number]).idxmax(axis=1))\n",
    "label_encoder.inverse_transform(gbm_model.classes_)\n",
    "\n",
    "# Balanced accuracy score\n",
    "print(\"Balanced Accuracy (testing):\" + str(balanced_accuracy_score(y_test, y_pred_test)))\n",
    "\n",
    "# Generate confusion matrix of test set\n",
    "conf_matrix_sklearn = confusion_matrix(y_test, y_pred_test, labels=label_encoder.inverse_transform(gbm_model.classes_))\n",
    "\n",
    "print(classification_report(y_test, y_pred_test))\n",
    "\n",
    "# To visualize the confusion matrix\n",
    "ConfusionMatrixDisplay(conf_matrix_sklearn,\n",
    "                      display_labels=label_encoder.inverse_transform(gbm_model.classes_)).plot(cmap=plt.cm.Blues, xticks_rotation=\"vertical\")\n",
    "plt.tight_layout()\n",
    "plt.show()"
   ]
  },
  {
   "cell_type": "markdown",
   "id": "60719965-3ebf-4d1e-a46e-84aafccd77e2",
   "metadata": {},
   "source": [
    "#### CatBoost <a class=\"anchor\" id=\"catboost\"></a>"
   ]
  },
  {
   "cell_type": "code",
   "execution_count": 48,
   "id": "47f95c6b-86ed-4657-8e42-adcebaddf37c",
   "metadata": {},
   "outputs": [],
   "source": [
    "from catboost import CatBoostClassifier"
   ]
  },
  {
   "cell_type": "code",
   "execution_count": null,
   "id": "082473d0-213a-4eca-b85a-dcdd3c892c5b",
   "metadata": {},
   "outputs": [],
   "source": [
    "dat = hplc_zero_reduc\n",
    "# If a class only have 1 member then exclude that class from the ML\n",
    "# Count the frequency of each class\n",
    "class_counts = dat['Subcategory'].astype(str).value_counts()\n",
    "# Filter out classes with only one member\n",
    "dat = dat[dat['Subcategory'].astype(str).map(class_counts) > 1]\n",
    "\n",
    "# Extract the features and labels\n",
    "X = dat.drop(columns=['Subcategory'])\n",
    "y = dat['Subcategory']\n",
    "\n",
    "X_train, X_test, y_train, y_test = train_test_split(X, y, test_size = round(len(dat['Subcategory'].unique())/dat.shape[0], 3), \n",
    "                                                    stratify = y, \n",
    "                                                    random_state= 123 # random.randrange(999)\n",
    "                                                   )\n",
    "\n",
    "param_grid = {\n",
    "'n_estimators':  [1, 10, 50, 100, 500, 1000, 5000, 10000], # Generate an array of 100 stepwise values from 0 to 1000, \n",
    "}\n",
    "\n",
    "# The 'cv' parameter of RandomizedSearchCV must be an int in the range [2, inf) \n",
    "unique, counts = np.unique(y_train, return_counts=True)\n",
    "min_count_idx = np.argmin(counts)\n",
    "\n",
    "cv = RepeatedStratifiedKFold(n_splits = counts[min_count_idx], n_repeats = 10, random_state = 123)\n",
    "\n",
    "gridsearch = GridSearchCV(CatBoostClassifier(), param_grid=param_grid, \n",
    "                        # number of cv = number of member of classes with least no. of members\n",
    "                        cv = cv,  \n",
    "                        scoring = 'balanced_accuracy',\n",
    "                        n_jobs = -1, return_train_score = True,\n",
    "                         ).fit(X_train, y_train)\n",
    "\n",
    "grid = gridsearch.best_params_\n",
    "\n",
    "# Monitoring split_test_score across different hyperparameters of GridSearch -------------------------------------------------------\n",
    "glued_dicts = ['_'.join([f\"{key}_{value}\" for key, value in d.items()]) for d in gridsearch.cv_results_['params']]\n",
    "split_test_scores_list = []\n",
    "\n",
    "# Iterate over each row\n",
    "for index, row in pd.DataFrame(gridsearch.cv_results_).iterrows():\n",
    "    split_test_scores = []\n",
    "    # Iterate over each column\n",
    "    for column in pd.DataFrame(gridsearch.cv_results_).columns:\n",
    "        # Check if column name matches the pattern \"splitx_test_score\"\n",
    "        if column.startswith('split') and column.endswith('_test_score'):\n",
    "            # Extract numerical value from the column\n",
    "            split_test_score = row[column]\n",
    "            split_test_scores.append(split_test_score)\n",
    "    split_test_scores_list.append(split_test_scores)\n",
    "\n",
    "for name, scores in zip(glued_dicts, split_test_scores_list):\n",
    "  # summarize progress along the way\n",
    " print('%s %.3f (%.3f)' % (name, np.mean(scores), np.std(scores)))\n",
    "# plot model performance for comparison\n",
    "plt.boxplot(split_test_scores_list, labels=glued_dicts, showbox=True, showfliers=True, showcaps=True)\n",
    "plt.xticks(rotation=90)\n",
    "plt.show()\n",
    "\n",
    "# Train model with best params ---------------------------------------\n",
    "gbm_model = CatBoostClassifier(n_estimators= grid['n_estimators'])\n",
    "gbm_model.fit(X_train, y_train)\n",
    "\n",
    "predictions_test = gbm_model.predict_proba(X_test)\n",
    "y_pred_test = pd.DataFrame(predictions_test, columns=gbm_model.classes_).select_dtypes(include=[np.number]).idxmax(axis=1)\n",
    "\n",
    "# Balanced accuracy score\n",
    "print(\"Balanced Accuracy (testing):\" + str(balanced_accuracy_score(y_test, y_pred_test)))\n",
    "\n",
    "# Generate confusion matrix of test set\n",
    "conf_matrix_sklearn = confusion_matrix(y_test, y_pred_test, labels=gbm_model.classes_)\n",
    "\n",
    "print(classification_report(y_test, y_pred_test))\n",
    "\n",
    "# To visualize the confusion matrix\n",
    "ConfusionMatrixDisplay(conf_matrix_sklearn,\n",
    "                      display_labels=gbm_model.classes_).plot(cmap=plt.cm.Blues, xticks_rotation=\"vertical\")\n",
    "plt.tight_layout()\n",
    "plt.show()"
   ]
  },
  {
   "cell_type": "markdown",
   "id": "4f218d81-340c-4098-ae10-6b93fb014cdd",
   "metadata": {},
   "source": [
    "#### Histogram-Based Gradient Boosting <a class=\"anchor\" id=\"histgbm\"></a>"
   ]
  },
  {
   "cell_type": "code",
   "execution_count": null,
   "id": "a7fcf460-a834-4c7d-bddc-6980c87389e9",
   "metadata": {},
   "outputs": [],
   "source": [
    "from sklearn.experimental import enable_hist_gradient_boosting\n",
    "from sklearn.ensemble import HistGradientBoostingClassifier"
   ]
  },
  {
   "cell_type": "code",
   "execution_count": null,
   "id": "504ead44-bccf-4aea-ad14-189d54793102",
   "metadata": {},
   "outputs": [],
   "source": [
    "dat = gc_hplc_zero_reduc\n",
    "# If a class only have 1 member then exclude that class from the ML\n",
    "# Count the frequency of each class\n",
    "class_counts = dat['Subcategory'].astype(str).value_counts()\n",
    "# Filter out classes with only one member\n",
    "dat = dat[dat['Subcategory'].astype(str).map(class_counts) > 1]\n",
    "\n",
    "# Extract the features and labels\n",
    "X = dat.drop(columns=['Subcategory'])\n",
    "y = dat['Subcategory']\n",
    "\n",
    "regex = re.compile(r\"\\[|\\]|<|>| \", re.IGNORECASE)\n",
    "X.columns = [regex.sub(\"_\", col) if any(x in str(col) for x in set(('[', ']', '<', '>', \" \"))) else col for col in X.columns.values]\n",
    "\n",
    "X_train, X_test, y_train, y_test = train_test_split(X, y, test_size = round(len(dat['Subcategory'].unique())/dat.shape[0], 3), \n",
    "                                                    stratify = y, \n",
    "                                                    random_state= 123 # random.randrange(999)\n",
    "                                                   )\n",
    "\n",
    "label_encoder = LabelEncoder()\n",
    "y_train_encoded = label_encoder.fit_transform(y_train)\n",
    "\n",
    "param_grid = {\n",
    "'learning_rate':  [0.0001, 0.001, 0.01, 0.1, 0.5], # Generate an array of 100 stepwise values from 0 to 1000, \n",
    "}\n",
    "\n",
    "# # The 'cv' parameter of RandomizedSearchCV must be an int in the range [2, inf) \n",
    "unique, counts = np.unique(y_train, return_counts=True)\n",
    "min_count_idx = np.argmin(counts)\n",
    "\n",
    "cv = RepeatedStratifiedKFold(n_splits = counts[min_count_idx], n_repeats = 10, random_state = 123)\n",
    "\n",
    "gridsearch = GridSearchCV(HistGradientBoostingClassifier(), param_grid=param_grid, \n",
    "                        # number of cv = number of member of classes with least no. of members\n",
    "                        cv = cv,  \n",
    "                        scoring = 'balanced_accuracy',\n",
    "                        n_jobs = -1, return_train_score = True,\n",
    "                         ).fit(X_train, y_train_encoded)\n",
    "\n",
    "grid = gridsearch.best_params_\n",
    "\n",
    "# Monitoring split_test_score across different hyperparameters of GridSearch -------------------------------------------------------\n",
    "glued_dicts = ['_'.join([f\"{key}_{value}\" for key, value in d.items()]) for d in gridsearch.cv_results_['params']]\n",
    "split_test_scores_list = []\n",
    "\n",
    "# Iterate over each row\n",
    "for index, row in pd.DataFrame(gridsearch.cv_results_).iterrows():\n",
    "    split_test_scores = []\n",
    "    # Iterate over each column\n",
    "    for column in pd.DataFrame(gridsearch.cv_results_).columns:\n",
    "        # Check if column name matches the pattern \"splitx_test_score\"\n",
    "        if column.startswith('split') and column.endswith('_test_score'):\n",
    "            # Extract numerical value from the column\n",
    "            split_test_score = row[column]\n",
    "            split_test_scores.append(split_test_score)\n",
    "    split_test_scores_list.append(split_test_scores)\n",
    "\n",
    "for name, scores in zip(glued_dicts, split_test_scores_list):\n",
    "  # summarize progress along the way\n",
    " print('%s %.3f (%.3f)' % (name, np.mean(scores), np.std(scores)))\n",
    "# plot model performance for comparison\n",
    "plt.boxplot(split_test_scores_list, labels=glued_dicts, showbox=True, showfliers=True, showcaps=True)\n",
    "plt.xticks(rotation=90)\n",
    "plt.show()\n",
    "\n",
    "# Train model with best params ---------------------------------------\n",
    "gbm_model = HistGradientBoostingClassifier(n_estimators= grid['learning_rate'])\n",
    "gbm_model.fit(X_train, y_train_encoded)\n",
    "\n",
    "predictions_test = gbm_model.predict_proba(X_test)\n",
    "pred_df_test = pd.DataFrame(predictions_test, columns=gbm_model.classes_)\n",
    "\n",
    "y_pred_test = label_encoder.inverse_transform(pred_df_test.select_dtypes(include=[np.number]).idxmax(axis=1))\n",
    "label_encoder.inverse_transform(gbm_model.classes_)\n",
    "\n",
    "# Balanced accuracy score\n",
    "print(\"Balanced Accuracy (testing):\" + str(balanced_accuracy_score(y_test, y_pred_test)))\n",
    "\n",
    "# Generate confusion matrix of test set\n",
    "conf_matrix_sklearn = confusion_matrix(y_test, y_pred_test, labels=label_encoder.inverse_transform(gbm_model.classes_))\n",
    "\n",
    "print(classification_report(y_test, y_pred_test))\n",
    "\n",
    "# To visualize the confusion matrix\n",
    "ConfusionMatrixDisplay(conf_matrix_sklearn,\n",
    "                      display_labels=label_encoder.inverse_transform(gbm_model.classes_)).plot(cmap=plt.cm.Blues, xticks_rotation=\"vertical\")\n",
    "plt.tight_layout()\n",
    "plt.show()"
   ]
  },
  {
   "cell_type": "markdown",
   "id": "c62ef956-dc35-479a-b947-6dbdee9d119b",
   "metadata": {},
   "source": [
    "#### GBM <a class=\"anchor\" id=\"gbm\"></a>"
   ]
  },
  {
   "cell_type": "code",
   "execution_count": null,
   "id": "0600418c-bc6f-446e-9f37-a5aab05a1864",
   "metadata": {},
   "outputs": [],
   "source": [
    "def gbm_result(dat,\n",
    "               type):\n",
    "    \n",
    "    # If a class only have 1 member then exclude that class from the ML\n",
    "    # Count the frequency of each class\n",
    "    class_counts = dat[type].astype(str).value_counts()\n",
    "    # Filter out classes with only one member\n",
    "    dat = dat[dat[type].astype(str).map(class_counts) > 1]\n",
    "    \n",
    "    # Extract the features and labels\n",
    "    X = dat.drop(columns=[type])\n",
    "    y = dat[type]\n",
    "   \n",
    "    X_train, X_test, y_train, y_test = train_test_split(X, y, test_size = round(len(dat[type].unique())/dat.shape[0], 2), \n",
    "                                                        stratify = y, \n",
    "                                                        random_state= 123 # random.randrange(999)\n",
    "                                                       )\n",
    "\n",
    "    param_grid = {\n",
    "    'n_estimators':  [1, 10, 50, 100, 500, 1000, 5000, 10000], # Generate an array of 100 stepwise values from 0 to 1000, \n",
    "    'max_features': ['sqrt', 'log2']\n",
    "    }\n",
    "\n",
    "    # The 'cv' parameter of RandomizedSearchCV must be an int in the range [2, inf) \n",
    "    cv = RepeatedStratifiedKFold(n_splits = pd.DataFrame(y_train)[type].value_counts().min(),\n",
    "                                 n_repeats = 10, random_state = 123)\n",
    "    if pd.DataFrame(y_train)[type].value_counts().min() == 1:\n",
    "        cv = RepeatedStratifiedKFold(n_splits = 2, n_repeats = 10, random_state = 123)\n",
    "    \n",
    "    gridsearch = GridSearchCV(GradientBoostingClassifier(), param_grid=param_grid, \n",
    "                            # number of cv = number of member of classes with least no. of members\n",
    "                            cv = cv,  \n",
    "                            scoring = 'balanced_accuracy',\n",
    "                            n_jobs = -1, return_train_score = True,\n",
    "                             ).fit(X_train, y_train)\n",
    "    grid = gridsearch.best_params_\n",
    "    \n",
    "    # Monitoring split_test_score across different hyperparameters of GridSearch -------------------------------------------------------\n",
    "    glued_dicts = ['_'.join([f\"{key}_{value}\" for key, value in d.items()]) for d in gridsearch.cv_results_['params']]\n",
    "    split_test_scores_list = []\n",
    "    \n",
    "    # Iterate over each row\n",
    "    for index, row in pd.DataFrame(gridsearch.cv_results_).iterrows():\n",
    "        split_test_scores = []\n",
    "        # Iterate over each column\n",
    "        for column in pd.DataFrame(gridsearch.cv_results_).columns:\n",
    "            # Check if column name matches the pattern \"splitx_test_score\"\n",
    "            if column.startswith('split') and column.endswith('_test_score'):\n",
    "                # Extract numerical value from the column\n",
    "                split_test_score = row[column]\n",
    "                split_test_scores.append(split_test_score)\n",
    "        split_test_scores_list.append(split_test_scores)\n",
    "    \n",
    "    for name, scores in zip(glued_dicts, split_test_scores_list):\n",
    "      # summarize progress along the way\n",
    "     print('%s %.3f (%.3f)' % (name, np.mean(scores), np.std(scores)))\n",
    "    # plot model performance for comparison\n",
    "    plt.boxplot(split_test_scores_list, labels=glued_dicts, showbox=True, showfliers=True, showcaps=True)\n",
    "    plt.xticks(rotation=90)\n",
    "    plt.show()\n",
    "\n",
    "    # Train the model\n",
    "    gbm_model = GradientBoostingClassifier(n_estimators= grid['n_estimators'], max_features= grid['max_features'], \n",
    "                                           random_state= 123, # random.randrange(999), \n",
    "                                           max_depth = None, criterion= \"friedman_mse\")\n",
    "    gbm_model.fit(X_train, y_train)\n",
    "    \n",
    "    # Prediction results\n",
    "    # For test set\n",
    "    predictions_test = gbm_model.predict_proba(X_test)\n",
    "    pred_df_test = pd.DataFrame(predictions_test, columns=gbm_model.classes_)\n",
    "      \n",
    "    # Assign true and predicted labels\n",
    "    # For test set\n",
    "    y_true_test = y_test\n",
    "    y_pred_test = pred_df_test.select_dtypes(include=[np.number]).idxmax(axis=1)\n",
    "    \n",
    "    # Balanced accuracy score\n",
    "    print(\"Balanced Accuracy (testing):\" + str(balanced_accuracy_score(y_true_test, y_pred_test)))\n",
    "    \n",
    "    # Generate confusion matrix of test set\n",
    "    conf_matrix_sklearn = confusion_matrix(y_true_test, y_pred_test, labels=gbm_model.classes_)\n",
    "    \n",
    "    print(classification_report(y_true_test, y_pred_test))\n",
    "    \n",
    "    # To visualize the confusion matrix\n",
    "    ConfusionMatrixDisplay(conf_matrix_sklearn,\n",
    "                          display_labels=gbm_model.classes_).plot(cmap=plt.cm.Blues, xticks_rotation=\"vertical\")\n",
    "    plt.tight_layout()\n",
    "    plt.show()\n",
    "\n",
    "    # Histogram of distribution of probability of each class in prediction\n",
    "    for column in pred_df_test.columns:\n",
    "        # Create a histogram for the current column\n",
    "        plt.hist(pred_df_test[column], bins=10, alpha=0.5, label=column)\n",
    "        # Round up y-axis ticks to have no decimals\n",
    "        plt.yticks(np.arange(plt.yticks()[0][0], plt.yticks()[0][-1] + 1, step=1))\n",
    "        \n",
    "        # Add title for each subplot as the name of the column\n",
    "        plt.title(column)\n",
    "        plt.xlabel('Value')\n",
    "        plt.ylabel('Frequency')\n",
    "        plt.legend()\n",
    "        plt.show()\n",
    "        \n",
    "    # Plot feature importance\n",
    "    # feature importance scores will be in the range [0,1]. \n",
    "    # Higher scores mean the feature is more important. This is an array with shape (n_features,) whose values are positive and sum to 1.0\n",
    "    feature_imp = pd.DataFrame({'feature_score': gbm_model.feature_importances_, \n",
    "                             'feature_name': dat.drop(columns=[type]).columns}).sort_values('feature_score')\n",
    "    \n",
    "    # Plot the top 25 most important features\n",
    "    plt.barh(range(25), feature_imp.tail(n = 25).feature_score)\n",
    "    plt.yticks(range(25), feature_imp.tail(n = 25).feature_name)\n",
    "    plt.xlabel('Importance')\n",
    "    plt.title('Variable Importance')\n",
    "    plt.show()\n",
    "    \n",
    "    return gbm_model, feature_imp"
   ]
  },
  {
   "cell_type": "markdown",
   "id": "8fab3b45-c007-4f6d-a8e6-f5b7eec3d251",
   "metadata": {
    "jp-MarkdownHeadingCollapsed": true
   },
   "source": [
    "#### Classification by Category"
   ]
  },
  {
   "cell_type": "markdown",
   "id": "9bb47a51-0ca0-4218-9da7-21082f152b07",
   "metadata": {},
   "source": [
    "##### GC data"
   ]
  },
  {
   "cell_type": "code",
   "execution_count": null,
   "id": "9e8e1534-e832-499d-8321-57aee6f36ddd",
   "metadata": {},
   "outputs": [],
   "source": [
    "# zero\n",
    "for i in range(4):\n",
    "    clf = gbm_result(gc_cat_zero[i],\n",
    "                       type = 'Category')"
   ]
  },
  {
   "cell_type": "code",
   "execution_count": null,
   "id": "f18559f4-a8f7-4221-baf9-7bcf7639496c",
   "metadata": {},
   "outputs": [],
   "source": [
    "# Min\n",
    "for i in range(4):\n",
    "    clf = gbm_result(gc_cat_min[i],\n",
    "                       type = 'Category')"
   ]
  },
  {
   "cell_type": "code",
   "execution_count": null,
   "id": "7ffec6a1-3c64-4b87-a066-8a7f9bb1d9a0",
   "metadata": {
    "scrolled": true
   },
   "outputs": [],
   "source": [
    "# Min\n",
    "for i in range(4):\n",
    "    clf = gbm_result(gc_cat_lod[i],\n",
    "                       type = 'Category')"
   ]
  },
  {
   "cell_type": "markdown",
   "id": "ece3a033-35fc-4718-96bd-dd894d0200fc",
   "metadata": {},
   "source": [
    "##### HPLC data"
   ]
  },
  {
   "cell_type": "code",
   "execution_count": null,
   "id": "0a49ac4a-d537-4e58-a101-da7abda72b5f",
   "metadata": {},
   "outputs": [],
   "source": [
    "# zero\n",
    "for i in range(4):\n",
    "    clf = gbm_result(hplc_cat_zero[i],\n",
    "                       type = 'Category')"
   ]
  },
  {
   "cell_type": "code",
   "execution_count": null,
   "id": "d01c2d0f-0cda-4b5b-a74e-06b24c290f76",
   "metadata": {},
   "outputs": [],
   "source": [
    "# Min\n",
    "for i in range(4):\n",
    "    clf = gbm_result(hplc_cat_min[i],\n",
    "                       type = 'Category')"
   ]
  },
  {
   "cell_type": "code",
   "execution_count": null,
   "id": "d76ae1d4-5dac-4f5b-9f74-51e6ac9b770d",
   "metadata": {
    "scrolled": true
   },
   "outputs": [],
   "source": [
    "# Min\n",
    "for i in range(4):\n",
    "    clf = gbm_result(hplc_cat_lod[i],\n",
    "                       type = 'Category')"
   ]
  },
  {
   "cell_type": "markdown",
   "id": "051f6c96-f5b6-4abb-8787-615175fa8469",
   "metadata": {},
   "source": [
    "##### ICP data"
   ]
  },
  {
   "cell_type": "code",
   "execution_count": null,
   "id": "053b24d5-295f-4456-8a11-2acd5ba3db8d",
   "metadata": {
    "scrolled": true
   },
   "outputs": [],
   "source": [
    "for i in range(4):\n",
    "    clf = gbm_result(icp_cat[i],\n",
    "                       type = 'Category')"
   ]
  },
  {
   "cell_type": "markdown",
   "id": "aaef564a-edb0-42ec-9b51-52f12bf6809f",
   "metadata": {},
   "source": [
    "##### GC + ICP"
   ]
  },
  {
   "cell_type": "code",
   "execution_count": null,
   "id": "bcc9f11c-4cae-4f0d-b481-0b7f4a05bca7",
   "metadata": {},
   "outputs": [],
   "source": [
    "# zero\n",
    "for i in range(4):\n",
    "    clf = gbm_result(gc_icp_cat_zero[i],\n",
    "                       type = 'Category')"
   ]
  },
  {
   "cell_type": "code",
   "execution_count": null,
   "id": "046dacb6-ae29-4eb5-8873-468d2a7fe729",
   "metadata": {},
   "outputs": [],
   "source": [
    "# Min\n",
    "for i in range(4):\n",
    "    clf = gbm_result(gc_icp_cat_min[i],\n",
    "                       type = 'Category')"
   ]
  },
  {
   "cell_type": "code",
   "execution_count": null,
   "id": "a0be2e21-18b3-47c8-935c-b509d78d8d35",
   "metadata": {
    "scrolled": true
   },
   "outputs": [],
   "source": [
    "# Min\n",
    "for i in range(4):\n",
    "    clf = gbm_result(gc_icp_cat_lod[i],\n",
    "                       type = 'Category')"
   ]
  },
  {
   "cell_type": "markdown",
   "id": "c17fd5e2-fc92-4129-81e8-e7c798914323",
   "metadata": {},
   "source": [
    "##### HPLC + ICP"
   ]
  },
  {
   "cell_type": "code",
   "execution_count": null,
   "id": "99db8a7c-f34b-4868-983f-c6d35ba29ce3",
   "metadata": {},
   "outputs": [],
   "source": [
    "# zero\n",
    "for i in range(4):\n",
    "    clf = gbm_result(hplc_icp_cat_zero[i],\n",
    "                       type = 'Category')"
   ]
  },
  {
   "cell_type": "code",
   "execution_count": null,
   "id": "edb9e1d5-b445-4a31-bf75-df8fa5775fe8",
   "metadata": {},
   "outputs": [],
   "source": [
    "# Min\n",
    "for i in range(4):\n",
    "    clf = gbm_result(hplc_icp_cat_min[i],\n",
    "                       type = 'Category')"
   ]
  },
  {
   "cell_type": "code",
   "execution_count": null,
   "id": "b642d13b-ab30-4113-b0df-40a3e9a90898",
   "metadata": {
    "scrolled": true
   },
   "outputs": [],
   "source": [
    "# Min\n",
    "for i in range(4):\n",
    "    clf = gbm_result(hplc_icp_cat_lod[i],\n",
    "                       type = 'Category')"
   ]
  },
  {
   "cell_type": "markdown",
   "id": "0d33dba0-0440-4648-a305-bd8244547b87",
   "metadata": {},
   "source": [
    "##### GC + HPLC data"
   ]
  },
  {
   "cell_type": "code",
   "execution_count": null,
   "id": "4c06b050-b06c-4e3d-8ed0-2c73742edeea",
   "metadata": {},
   "outputs": [],
   "source": [
    "# zero\n",
    "for i in range(4):\n",
    "    clf = gbm_result(gc_hplc_cat_zero[i],\n",
    "                       type = 'Category')"
   ]
  },
  {
   "cell_type": "code",
   "execution_count": null,
   "id": "940f4fbc-e82b-41d4-88ef-3b03d4096cc6",
   "metadata": {},
   "outputs": [],
   "source": [
    "# Min\n",
    "for i in range(4):\n",
    "    clf = gbm_result(gc_hplc_cat_min[i],\n",
    "                       type = 'Category')"
   ]
  },
  {
   "cell_type": "code",
   "execution_count": null,
   "id": "c02fb783-43df-47c5-8c3f-531c36df392c",
   "metadata": {
    "scrolled": true
   },
   "outputs": [],
   "source": [
    "# Min\n",
    "for i in range(4):\n",
    "    clf = gbm_result(gc_hplc_cat_lod[i],\n",
    "                       type = 'Category')"
   ]
  },
  {
   "cell_type": "markdown",
   "id": "4ae91db2-0258-4c77-858d-b88b7dd5676e",
   "metadata": {},
   "source": [
    "##### GC + HPLC + ICP data"
   ]
  },
  {
   "cell_type": "code",
   "execution_count": null,
   "id": "2b811aee-beb1-47ad-978c-e1bbde2c39f8",
   "metadata": {},
   "outputs": [],
   "source": [
    "# zero\n",
    "for i in range(4):\n",
    "    clf = gbm_result(gc_hplc_icp_cat_zero[i],\n",
    "                       type = 'Category')"
   ]
  },
  {
   "cell_type": "code",
   "execution_count": null,
   "id": "14a42259-eef8-4a54-bd07-60895ae5c0dd",
   "metadata": {},
   "outputs": [],
   "source": [
    "# Min\n",
    "for i in range(4):\n",
    "    clf = gbm_result(gc_hplc_icp_cat_min[i],\n",
    "                       type = 'Category')"
   ]
  },
  {
   "cell_type": "code",
   "execution_count": null,
   "id": "ee8aac10-be64-4b67-b5f5-79ed95d7231b",
   "metadata": {
    "scrolled": true
   },
   "outputs": [],
   "source": [
    "# Min\n",
    "for i in range(4):\n",
    "    clf = gbm_result(gc_hplc_icp_cat_lod[i],\n",
    "                       type = 'Category')"
   ]
  },
  {
   "cell_type": "markdown",
   "id": "3c327fb1-1eef-4a49-aa91-74171016fbd8",
   "metadata": {},
   "source": [
    "##### GC data"
   ]
  },
  {
   "cell_type": "code",
   "execution_count": null,
   "id": "7085af87-a395-4474-94bd-6fdba9d0ee56",
   "metadata": {
    "scrolled": true
   },
   "outputs": [],
   "source": [
    "for i in range(4):\n",
    "    dat_in = pre_ml_processing(gc_list,\n",
    "                                    # sig_comp_list = significant_comp, \n",
    "                               type = 'Category',\n",
    "                                list_ele=i)\n",
    "    clf = gbm_result(dat_in,\n",
    "                                    # sig_comp_list = significant_comp, \n",
    "                       type = 'Category',\n",
    "                        split_train = 0.5)"
   ]
  },
  {
   "cell_type": "markdown",
   "id": "91aeaacb-94cb-422c-b088-addd1599a5ce",
   "metadata": {},
   "source": [
    "##### HPLC data"
   ]
  },
  {
   "cell_type": "code",
   "execution_count": null,
   "id": "28b53b79-1996-4161-a8c5-96ea481c0d16",
   "metadata": {
    "scrolled": true
   },
   "outputs": [],
   "source": [
    "for i in range(4):\n",
    "    dat_in = pre_ml_processing(hplc_list,\n",
    "                                    # sig_comp_list = significant_comp, \n",
    "                               type = 'Category',\n",
    "                                list_ele=i)\n",
    "    clf = gbm_result(dat_in,\n",
    "                                    # sig_comp_list = significant_comp, \n",
    "                       type = 'Category', \n",
    "                        split_train = 0.5)"
   ]
  },
  {
   "cell_type": "markdown",
   "id": "8ec9d33e-f379-4df8-a162-6bc4b8fb12e4",
   "metadata": {},
   "source": [
    "##### ICP data"
   ]
  },
  {
   "cell_type": "code",
   "execution_count": null,
   "id": "f0684328-3275-479c-93bf-91e9cac21a62",
   "metadata": {
    "scrolled": true
   },
   "outputs": [],
   "source": [
    "for i in range(4):\n",
    "    dat_in = pre_ml_processing(icp_list,\n",
    "                                    # sig_comp_list = significant_comp, \n",
    "                               type = 'Category',\n",
    "                                list_ele=i)\n",
    "    \n",
    "    clf = gbm_result(icp_list,\n",
    "                                    # sig_comp_list = significant_comp, \n",
    "                       type = 'Category',\n",
    "                        split_train = 0.5)"
   ]
  },
  {
   "cell_type": "markdown",
   "id": "518e8a5a-edba-440c-9f5b-8c772947ffc6",
   "metadata": {},
   "source": [
    "##### GC + ICP"
   ]
  },
  {
   "cell_type": "code",
   "execution_count": null,
   "id": "991a6983-e339-4b68-9b54-72f83668da32",
   "metadata": {
    "scrolled": true
   },
   "outputs": [],
   "source": [
    "for i in range(4):\n",
    "    clf = gbm_result(gc_icp_list,\n",
    "                                    # sig_comp_list = significant_comp, \n",
    "                       type = 'Category',\n",
    "                        list_ele=i, \n",
    "                        split_train = 0.5)"
   ]
  },
  {
   "cell_type": "markdown",
   "id": "a4442403-13de-42d7-84ae-9b2d18a55752",
   "metadata": {},
   "source": [
    "##### HPLC + ICP"
   ]
  },
  {
   "cell_type": "code",
   "execution_count": null,
   "id": "6bc2cfd3-7896-4ec7-b3be-bb1bacbff96d",
   "metadata": {
    "scrolled": true
   },
   "outputs": [],
   "source": [
    "for i in range(4):\n",
    "    clf = gbm_result(hplc_icp_list,\n",
    "                                    # sig_comp_list = significant_comp, \n",
    "                       type = 'Category',\n",
    "                        list_ele=i, \n",
    "                        split_train = 0.5)"
   ]
  },
  {
   "cell_type": "markdown",
   "id": "05475581-d892-46ff-9556-2b3bd4160997",
   "metadata": {},
   "source": [
    "##### GC + HPLC data"
   ]
  },
  {
   "cell_type": "code",
   "execution_count": null,
   "id": "6d93d361-7ef2-4cb0-bf83-e6570a70c58a",
   "metadata": {
    "scrolled": true
   },
   "outputs": [],
   "source": [
    "for i in range(4):\n",
    "    clf = gbm_result(gc_hplc_list,\n",
    "                                    # sig_comp_list = significant_comp, \n",
    "                       type = 'Category',\n",
    "                        list_ele=i, \n",
    "                        split_train = 0.5)"
   ]
  },
  {
   "cell_type": "markdown",
   "id": "d0e68691-e8b5-410f-bf51-0fcaeb8621ca",
   "metadata": {},
   "source": [
    "##### GC + HPLC + ICP data"
   ]
  },
  {
   "cell_type": "code",
   "execution_count": null,
   "id": "2c767d4d-9829-4207-870f-b78dfe5b8241",
   "metadata": {
    "scrolled": true
   },
   "outputs": [],
   "source": [
    "for i in range(4):\n",
    "    clf = gbm_result(gc_hplc_icp_list,\n",
    "                                    # sig_comp_list = significant_comp, \n",
    "                       type = 'Category',\n",
    "                        list_ele=i, \n",
    "                        split_train = 0.5)"
   ]
  },
  {
   "cell_type": "markdown",
   "id": "99090efc-5d73-42d6-87ec-cb836318f8ad",
   "metadata": {},
   "source": [
    "#### Classification By Subcategory"
   ]
  },
  {
   "cell_type": "markdown",
   "id": "09e3e6dc-87e7-476c-a144-49d50748fb7e",
   "metadata": {},
   "source": [
    "##### GC data"
   ]
  },
  {
   "cell_type": "code",
   "execution_count": null,
   "id": "f7f88b56-2104-41b9-9973-43a0cc9af94b",
   "metadata": {},
   "outputs": [],
   "source": [
    "clf, gbm_topfeature = gbm_result(gc_zero_USE.drop(columns=['technique']),\n",
    "                   type = 'Subcategory')"
   ]
  },
  {
   "cell_type": "code",
   "execution_count": null,
   "id": "62ede37b-6c75-44a0-ba19-a57ce7e4c1b6",
   "metadata": {},
   "outputs": [],
   "source": [
    "toprf = rf_topfeature.sort_values(by='feature_score', ascending=False).head(10)['feature_name']\n",
    "topgbm = gbm_topfeature.sort_values(by='feature_score', ascending=False).head(10)['feature_name']\n",
    "\n",
    "toprf_gbm = list(set(toprf) | set(topgbm))\n",
    "\n",
    "pd.DataFrame(toprf_gbm).to_csv('toprf_gbm.csv', index=False, header=False)"
   ]
  },
  {
   "cell_type": "code",
   "execution_count": null,
   "id": "8de1d125-a8db-4ece-ba3a-8233fe4b061a",
   "metadata": {
    "scrolled": true
   },
   "outputs": [],
   "source": [
    "# Zero\n",
    "clf = gbm_result(gc_zero.drop(columns=['technique']),\n",
    "                   type = 'Subcategory')"
   ]
  },
  {
   "cell_type": "code",
   "execution_count": null,
   "id": "9ffe9c47-0de2-45f0-9c7c-6caa08a39992",
   "metadata": {
    "scrolled": true
   },
   "outputs": [],
   "source": [
    "# Min\n",
    "clf = gbm_result(gc_min.drop(columns=['technique']),\n",
    "                   type = 'Subcategory')"
   ]
  },
  {
   "cell_type": "code",
   "execution_count": null,
   "id": "0a9a0ec4-5f98-4ce1-b2c8-2723588436e5",
   "metadata": {
    "scrolled": true
   },
   "outputs": [],
   "source": [
    "# LOD\n",
    "clf = gbm_result(gc_lod.drop(columns=['technique']),\n",
    "                   type = 'Subcategory')"
   ]
  },
  {
   "cell_type": "markdown",
   "id": "cfd82e25-8f6c-4d05-932b-b142a6296a10",
   "metadata": {},
   "source": [
    "##### HPLC data"
   ]
  },
  {
   "cell_type": "code",
   "execution_count": null,
   "id": "5dd2fd7d-7629-46e8-80f6-0a991126bc67",
   "metadata": {
    "scrolled": true
   },
   "outputs": [],
   "source": [
    "# Zero\n",
    "clf, gbm_topfeature = gbm_result(hplc_zero.drop(columns=['technique']),\n",
    "                   type = 'Subcategory')"
   ]
  },
  {
   "cell_type": "code",
   "execution_count": null,
   "id": "b317061f-c0ed-4765-8af5-fb5c4fa930fe",
   "metadata": {
    "scrolled": true
   },
   "outputs": [],
   "source": [
    "# Min\n",
    "clf = gbm_result(hplc_min.drop(columns=['technique']),\n",
    "                   type = 'Subcategory')"
   ]
  },
  {
   "cell_type": "code",
   "execution_count": null,
   "id": "3a597e81-4f60-4a0f-8659-600477c52eca",
   "metadata": {
    "scrolled": true
   },
   "outputs": [],
   "source": [
    "# LOD\n",
    "clf = gbm_result(hplc_lod.drop(columns=['technique']),\n",
    "                   type = 'Subcategory')"
   ]
  },
  {
   "cell_type": "markdown",
   "id": "d89d1747-09cc-4aa1-b395-f36f96b3ccda",
   "metadata": {},
   "source": [
    "##### ICP data"
   ]
  },
  {
   "cell_type": "code",
   "execution_count": null,
   "id": "1169d330-bf61-4d5d-a1a2-ccf1186a3709",
   "metadata": {
    "scrolled": true
   },
   "outputs": [],
   "source": [
    "clf = gbm_result(icp_all,\n",
    "                   type = 'Subcategory')"
   ]
  },
  {
   "cell_type": "markdown",
   "id": "a8890507-bdb3-46aa-979b-2a4d20bd893f",
   "metadata": {},
   "source": [
    "##### GC + ICP"
   ]
  },
  {
   "cell_type": "code",
   "execution_count": null,
   "id": "0f39ef04-c25b-4903-a963-5e177e45f2aa",
   "metadata": {
    "scrolled": true
   },
   "outputs": [],
   "source": [
    "# Zero\n",
    "clf = gbm_result(gc_icp_zero.drop(columns=['technique']),\n",
    "                   type = 'Subcategory')"
   ]
  },
  {
   "cell_type": "code",
   "execution_count": null,
   "id": "1f7b7704-c538-41eb-92d9-374c9d365ca5",
   "metadata": {
    "scrolled": true
   },
   "outputs": [],
   "source": [
    "# Min\n",
    "clf = gbm_result(gc_icp_min.drop(columns=['technique']),\n",
    "                   type = 'Subcategory')"
   ]
  },
  {
   "cell_type": "code",
   "execution_count": null,
   "id": "db18e5d9-4f0f-44a5-8094-117d307fe348",
   "metadata": {
    "scrolled": true
   },
   "outputs": [],
   "source": [
    "# LOD\n",
    "clf = gbm_result(gc_icp_lod.drop(columns=['technique']),\n",
    "                   type = 'Subcategory')"
   ]
  },
  {
   "cell_type": "markdown",
   "id": "5c0f3f70-10ad-420b-ae17-b78dfa758cb6",
   "metadata": {},
   "source": [
    "##### HPLC + ICP"
   ]
  },
  {
   "cell_type": "code",
   "execution_count": null,
   "id": "f19b1adb-d935-4b04-b296-d50a6a70c6b2",
   "metadata": {
    "scrolled": true
   },
   "outputs": [],
   "source": [
    "# Zero\n",
    "clf = gbm_result(hplc_icp_zero.drop(columns=['technique']),\n",
    "                   type = 'Subcategory')"
   ]
  },
  {
   "cell_type": "code",
   "execution_count": null,
   "id": "b9fc3884-9de2-4d25-834a-8c47a6b770cf",
   "metadata": {
    "scrolled": true
   },
   "outputs": [],
   "source": [
    "# Min\n",
    "clf = gbm_result(hplc_icp_min.drop(columns=['technique']),\n",
    "                   type = 'Subcategory')"
   ]
  },
  {
   "cell_type": "code",
   "execution_count": null,
   "id": "6b232c58-628a-4995-831f-81eab7c92c52",
   "metadata": {
    "scrolled": true
   },
   "outputs": [],
   "source": [
    "# LOD\n",
    "clf = gbm_result(hplc_icp_lod.drop(columns=['technique']),\n",
    "                   type = 'Subcategory')"
   ]
  },
  {
   "cell_type": "markdown",
   "id": "2530f1cb-2492-49e8-a24c-e6635327721b",
   "metadata": {},
   "source": [
    "##### GC + HPLC data"
   ]
  },
  {
   "cell_type": "code",
   "execution_count": null,
   "id": "7ff9db1a-0580-4be1-816d-48a362b7ba4b",
   "metadata": {
    "scrolled": true
   },
   "outputs": [],
   "source": [
    "# Zero\n",
    "clf = gbm_result(gc_hplc_zero.drop(columns=['technique']), \n",
    "                   type = 'Subcategory')"
   ]
  },
  {
   "cell_type": "code",
   "execution_count": null,
   "id": "227d938b-fc8c-4eb9-baad-8b9c4816bc78",
   "metadata": {
    "scrolled": true
   },
   "outputs": [],
   "source": [
    "# Min\n",
    "clf = gbm_result(gc_hplc_min.drop(columns=['technique']), \n",
    "                   type = 'Subcategory')"
   ]
  },
  {
   "cell_type": "code",
   "execution_count": null,
   "id": "05b1ecd7-0dd5-474b-993b-cb8b37bc44a1",
   "metadata": {
    "scrolled": true
   },
   "outputs": [],
   "source": [
    "# LOD\n",
    "clf = gbm_result(gc_hplc_lod.drop(columns=['technique']), \n",
    "                   type = 'Subcategory')"
   ]
  },
  {
   "cell_type": "markdown",
   "id": "b27a5d83-3722-4a3c-b8d7-d12e4f4d242d",
   "metadata": {},
   "source": [
    "##### GC + HPLC + ICP data"
   ]
  },
  {
   "cell_type": "code",
   "execution_count": null,
   "id": "988c8005-b3b5-450a-86bc-6f8b448af420",
   "metadata": {
    "scrolled": true
   },
   "outputs": [],
   "source": [
    "# Zero\n",
    "clf = gbm_result(gc_hplc_icp_zero.drop(columns=['technique']),\n",
    "                   type = 'Subcategory')"
   ]
  },
  {
   "cell_type": "code",
   "execution_count": null,
   "id": "a07dc3b2-ddce-4930-88bd-dd07166c5f42",
   "metadata": {
    "scrolled": true
   },
   "outputs": [],
   "source": [
    "# Min\n",
    "clf = gbm_result(gc_hplc_icp_min.drop(columns=['technique']),\n",
    "                   type = 'Subcategory')"
   ]
  },
  {
   "cell_type": "code",
   "execution_count": null,
   "id": "7df1e615-7e9e-4cda-bcee-befec8c921ea",
   "metadata": {
    "scrolled": true
   },
   "outputs": [],
   "source": [
    "# LOD\n",
    "clf = gbm_result(gc_hplc_icp_lod.drop(columns=['technique']),\n",
    "                   type = 'Subcategory')"
   ]
  },
  {
   "cell_type": "markdown",
   "id": "41d0cd6d-084c-48cd-84cf-469f6e0360bf",
   "metadata": {},
   "source": [
    "### Supported Vector Machine <a class=\"anchor\" id=\"svm\"></a>"
   ]
  },
  {
   "cell_type": "code",
   "execution_count": null,
   "id": "b91aff95-dd71-442a-a695-aa69d83fdacd",
   "metadata": {},
   "outputs": [],
   "source": [
    "def f_importances(coef, names, ntop = 25):\n",
    "    imp = coef\n",
    "    imp,names = zip(*sorted(zip(imp,names)))\n",
    "    # take top n positive and top n negative effect features\n",
    "    topimp = imp[:ntop] + imp[-ntop:]\n",
    "    topnames = names[:ntop] + names[-ntop:]\n",
    "    plt.barh(range(len(topnames)), topimp, align='center')\n",
    "    plt.yticks(range(len(topnames)), topnames)\n",
    "    plt.show()\n",
    "        \n",
    "def SVM_res(dat,\n",
    "            type):\n",
    "               \n",
    "    # If a class only have 1 member then exclude that class from the ML\n",
    "    # Count the frequency of each class\n",
    "    class_counts = dat[type].astype(str).value_counts()\n",
    "    # Filter out classes with only one member\n",
    "    dat = dat[dat[type].astype(str).map(class_counts) > 1]\n",
    "    \n",
    "    # Extract the features and labels\n",
    "    X = dat.drop(columns=[type])\n",
    "    y = dat[type]\n",
    "   \n",
    "    X_train, X_test, y_train, y_test = train_test_split(X, y, test_size = round(len(dat[type].unique())/dat.shape[0], 2), \n",
    "                                                        stratify = y, \n",
    "                                                        random_state= 123\n",
    "                                                       )\n",
    "        \n",
    "    # Create the parameter grid based on the results of random search \n",
    "    param_grid = {'C': [0.01, 0.05, 0.1, 0.5, 1, 5, 10, 50, 100, 500, 1000], \n",
    "                  'kernel': ['linear', 'poly', 'sigmoid', 'rbf'], 'degree': [3, 4, 5, 6]}\n",
    "\n",
    "    # The 'cv' parameter of RandomizedSearchCV must be an int in the range [2, inf) \n",
    "    cv = RepeatedStratifiedKFold(n_splits = pd.DataFrame(y_train)[type].value_counts().min(),\n",
    "                                 n_repeats = 10, random_state = 123)\n",
    "    if pd.DataFrame(y_train)[type].value_counts().min() == 1:\n",
    "        cv = RepeatedStratifiedKFold(n_splits = 2, n_repeats = 10, random_state = 123)\n",
    "        \n",
    "    # Create a GridSearchCV object and fit it to the training data\n",
    "    gridsearch = GridSearchCV(SVC(probability=True), param_grid=param_grid, \n",
    "                                  # number of cv = number of member of classes with least no. of members\n",
    "                                  cv = cv, \n",
    "                                  scoring = 'balanced_accuracy',\n",
    "                                return_train_score = True,\n",
    "                                  n_jobs = -1).fit(X_train, y_train)\n",
    "    svm_grid = gridsearch.best_params_\n",
    "    svm_grid\n",
    "        \n",
    "    # Monitoring split_test_score across different hyperparameters of GridSearch -------------------------------------------------------\n",
    "    glued_dicts = ['_'.join([f\"{key}_{value}\" for key, value in d.items()]) for d in gridsearch.cv_results_['params']]\n",
    "    split_test_scores_list = []\n",
    "    \n",
    "    # Iterate over each row\n",
    "    for index, row in pd.DataFrame(gridsearch.cv_results_).iterrows():\n",
    "        split_test_scores = []\n",
    "        # Iterate over each column\n",
    "        for column in pd.DataFrame(gridsearch.cv_results_).columns:\n",
    "            # Check if column name matches the pattern \"splitx_test_score\"\n",
    "            if column.startswith('split') and column.endswith('_test_score'):\n",
    "                # Extract numerical value from the column\n",
    "                split_test_score = row[column]\n",
    "                split_test_scores.append(split_test_score)\n",
    "        split_test_scores_list.append(split_test_scores)\n",
    "    \n",
    "    for name, scores in zip(glued_dicts, split_test_scores_list):\n",
    "      # summarize progress along the way\n",
    "     print('%s %.3f (%.3f)' % (name, np.mean(scores), np.std(scores)))\n",
    "    # plot model performance for comparison\n",
    "    plt.boxplot(split_test_scores_list, labels=glued_dicts, showbox=True, showfliers=True, showcaps=True)\n",
    "    plt.xticks(rotation=90)\n",
    "    plt.show()\n",
    "    \n",
    "    # Train the model\n",
    "    svm_best = SVC(kernel = svm_grid['kernel'], degree = svm_grid['degree'], C=svm_grid['C'], probability = True)\n",
    "    svm_best.fit(X_train, y_train)\n",
    "   \n",
    "    # Prediction results\n",
    "    # For test set\n",
    "    predictions_test = svm_best.predict_proba(X_test)\n",
    "    pred_df_test = pd.DataFrame(predictions_test, columns=svm_best.classes_)\n",
    "       \n",
    "    # Assign true and predicted labels\n",
    "    # For test set\n",
    "    y_true_test = y_test\n",
    "    y_pred_test = pred_df_test.select_dtypes(include=[np.number]).idxmax(axis=1)\n",
    "    \n",
    "    # Balanced accuracy score\n",
    "    print(\"Balanced Accuracy (testing):\" + str(balanced_accuracy_score(y_true_test, y_pred_test)))\n",
    "    \n",
    "    # Generate confusion matrix\n",
    "    conf_matrix_sklearn = confusion_matrix(y_true_test, y_pred_test, labels=svm_best.classes_)\n",
    "    \n",
    "    print(classification_report(y_true_test, y_pred_test))\n",
    "    \n",
    "    # To visualize the confusion matrix\n",
    "    ConfusionMatrixDisplay(conf_matrix_sklearn,\n",
    "                          display_labels=svm_best.classes_).plot(cmap=plt.cm.Blues, xticks_rotation=\"vertical\")\n",
    "    plt.tight_layout()\n",
    "    plt.show()\n",
    "\n",
    "    # Histogram of distribution of probability of each class in prediction\n",
    "    for column in pred_df_test.columns:\n",
    "        # Create a histogram for the current column\n",
    "        plt.hist(pred_df_test[column], bins=10, alpha=0.5, label=column)\n",
    "        # Round up y-axis ticks to have no decimals\n",
    "        plt.yticks(np.arange(plt.yticks()[0][0], plt.yticks()[0][-1] + 1, step=1))\n",
    "        \n",
    "        # Add title for each subplot as the name of the column\n",
    "        plt.title(column)\n",
    "        plt.xlabel('Value')\n",
    "        plt.ylabel('Frequency')\n",
    "        plt.legend()\n",
    "        plt.show()\n",
    "        \n",
    "    # Compute permutation importance if kernel = 'rbf'\n",
    "    perimp = permutation_importance(svm_best, X_test, y_test, \n",
    "                                    n_repeats=1, random_state=42, n_jobs = -1).importances_mean\n",
    "        \n",
    "    # Extract important features if kernel = 'linear'\n",
    "    features_names = list(X_train.columns) \n",
    "    f_importances(perimp,\n",
    "    #         permutation_importance(svm_best, X_test, y_test, \n",
    "    #                                          n_repeats=5, random_state=42, n_jobs = -1).importances_mean,\n",
    "                  features_names)\n",
    "    return svm_best"
   ]
  },
  {
   "cell_type": "markdown",
   "id": "12088ca7-cbf1-4d60-974f-e8a4e29fda50",
   "metadata": {
    "jp-MarkdownHeadingCollapsed": true
   },
   "source": [
    "#### Classification by Category"
   ]
  },
  {
   "cell_type": "markdown",
   "id": "0cbc4c69-a5d0-421d-94b3-dab76161f998",
   "metadata": {},
   "source": [
    "##### GC data"
   ]
  },
  {
   "cell_type": "code",
   "execution_count": null,
   "id": "6d2d41a6-5dd9-4d57-9656-81a881b760e6",
   "metadata": {},
   "outputs": [],
   "source": [
    "# zero\n",
    "for i in range(4):\n",
    "    clf = SVM_res(gc_cat_zero[i],\n",
    "                       type = 'Category')"
   ]
  },
  {
   "cell_type": "code",
   "execution_count": null,
   "id": "b0197096-8292-48ed-bd47-564a23b94203",
   "metadata": {},
   "outputs": [],
   "source": [
    "# Min\n",
    "for i in range(4):\n",
    "    clf = SVM_res(gc_cat_min[i],\n",
    "                       type = 'Category')"
   ]
  },
  {
   "cell_type": "code",
   "execution_count": null,
   "id": "437933f8-cb8d-4c29-8cfa-52fcdb7bc090",
   "metadata": {
    "scrolled": true
   },
   "outputs": [],
   "source": [
    "# Min\n",
    "for i in range(4):\n",
    "    clf = SVM_res(gc_cat_lod[i],\n",
    "                       type = 'Category')"
   ]
  },
  {
   "cell_type": "markdown",
   "id": "9ef8e830-7389-44ff-be73-0e34a342542f",
   "metadata": {},
   "source": [
    "##### HPLC data"
   ]
  },
  {
   "cell_type": "code",
   "execution_count": null,
   "id": "a99bc32b-a911-46de-9aba-cb115a2ca701",
   "metadata": {},
   "outputs": [],
   "source": [
    "# zero\n",
    "for i in range(4):\n",
    "    clf = SVM_res(hplc_cat_zero[i],\n",
    "                       type = 'Category')"
   ]
  },
  {
   "cell_type": "code",
   "execution_count": null,
   "id": "c3b8237f-03cd-4290-90b6-3c5bc41dcb1a",
   "metadata": {},
   "outputs": [],
   "source": [
    "# Min\n",
    "for i in range(4):\n",
    "    clf = SVM_res(hplc_cat_min[i],\n",
    "                       type = 'Category')"
   ]
  },
  {
   "cell_type": "code",
   "execution_count": null,
   "id": "bd3007b4-7055-4388-93a9-ee2ac8630b6e",
   "metadata": {
    "scrolled": true
   },
   "outputs": [],
   "source": [
    "# Min\n",
    "for i in range(4):\n",
    "    clf = SVM_res(hplc_cat_lod[i],\n",
    "                       type = 'Category')"
   ]
  },
  {
   "cell_type": "markdown",
   "id": "6b714b86-067f-4f8f-8e2c-5302399ec2a4",
   "metadata": {},
   "source": [
    "##### ICP data"
   ]
  },
  {
   "cell_type": "code",
   "execution_count": null,
   "id": "497df136-efa6-4861-bc1b-523a49fd9be8",
   "metadata": {
    "scrolled": true
   },
   "outputs": [],
   "source": [
    "for i in range(4):\n",
    "    clf = SVM_res(icp_cat[i],\n",
    "                       type = 'Category')"
   ]
  },
  {
   "cell_type": "markdown",
   "id": "412415a0-5b2e-46f7-bf63-5e46aed415ff",
   "metadata": {},
   "source": [
    "##### GC + ICP"
   ]
  },
  {
   "cell_type": "code",
   "execution_count": null,
   "id": "c186ef11-ac14-47b4-ac12-eff15d5aa36a",
   "metadata": {},
   "outputs": [],
   "source": [
    "# zero\n",
    "for i in range(4):\n",
    "    clf = SVM_res(gc_icp_cat_zero[i],\n",
    "                       type = 'Category')"
   ]
  },
  {
   "cell_type": "code",
   "execution_count": null,
   "id": "de64271c-ac60-4516-bf60-cd90b8d81a00",
   "metadata": {},
   "outputs": [],
   "source": [
    "# Min\n",
    "for i in range(4):\n",
    "    clf = SVM_res(gc_icp_cat_min[i],\n",
    "                       type = 'Category')"
   ]
  },
  {
   "cell_type": "code",
   "execution_count": null,
   "id": "ca56b0f4-a8a1-47c9-ad06-a39c68dd210a",
   "metadata": {
    "scrolled": true
   },
   "outputs": [],
   "source": [
    "# Min\n",
    "for i in range(4):\n",
    "    clf = SVM_res(gc_icp_cat_lod[i],\n",
    "                       type = 'Category')"
   ]
  },
  {
   "cell_type": "markdown",
   "id": "461c73fa-8760-41ab-b3b1-97ff650061bb",
   "metadata": {},
   "source": [
    "##### HPLC + ICP"
   ]
  },
  {
   "cell_type": "code",
   "execution_count": null,
   "id": "6a2a98a9-2dd3-415e-9e20-f7c1d78a60b6",
   "metadata": {},
   "outputs": [],
   "source": [
    "# zero\n",
    "for i in range(4):\n",
    "    clf = SVM_res(hplc_icp_cat_zero[i],\n",
    "                       type = 'Category')"
   ]
  },
  {
   "cell_type": "code",
   "execution_count": null,
   "id": "b3bee25c-4241-44d5-9d85-d5bfc1c484c5",
   "metadata": {},
   "outputs": [],
   "source": [
    "# Min\n",
    "for i in range(4):\n",
    "    clf = SVM_res(hplc_icp_cat_min[i],\n",
    "                       type = 'Category')"
   ]
  },
  {
   "cell_type": "code",
   "execution_count": null,
   "id": "1ae3d5ee-da47-4598-992d-a02c42640377",
   "metadata": {
    "scrolled": true
   },
   "outputs": [],
   "source": [
    "# Min\n",
    "for i in range(4):\n",
    "    clf = SVM_res(hplc_icp_cat_lod[i],\n",
    "                       type = 'Category')"
   ]
  },
  {
   "cell_type": "markdown",
   "id": "edc0ab74-aa43-4c39-b2e2-ab39576cbd4d",
   "metadata": {},
   "source": [
    "##### GC + HPLC data"
   ]
  },
  {
   "cell_type": "code",
   "execution_count": null,
   "id": "85790342-abf4-4520-b61c-20129ca44586",
   "metadata": {},
   "outputs": [],
   "source": [
    "# zero\n",
    "for i in range(4):\n",
    "    clf = SVM_res(gc_hplc_cat_zero[i],\n",
    "                       type = 'Category')"
   ]
  },
  {
   "cell_type": "code",
   "execution_count": null,
   "id": "d37c7954-a0a7-4609-9521-e5fc1cfc0636",
   "metadata": {},
   "outputs": [],
   "source": [
    "# Min\n",
    "for i in range(4):\n",
    "    clf = SVM_res(gc_hplc_cat_min[i],\n",
    "                       type = 'Category')"
   ]
  },
  {
   "cell_type": "code",
   "execution_count": null,
   "id": "404647f0-5e20-4910-a3fa-4f53d0f0178d",
   "metadata": {
    "scrolled": true
   },
   "outputs": [],
   "source": [
    "# Min\n",
    "for i in range(4):\n",
    "    clf = SVM_res(gc_hplc_cat_lod[i],\n",
    "                       type = 'Category')"
   ]
  },
  {
   "cell_type": "markdown",
   "id": "d2450073-69c4-4ebb-a125-2389e4aab43a",
   "metadata": {},
   "source": [
    "##### GC + HPLC + ICP data"
   ]
  },
  {
   "cell_type": "code",
   "execution_count": null,
   "id": "d16e2f36-2f21-4504-8d37-b802def932ff",
   "metadata": {},
   "outputs": [],
   "source": [
    "# zero\n",
    "for i in range(4):\n",
    "    clf = SVM_res(gc_hplc_icp_cat_zero[i],\n",
    "                       type = 'Category')"
   ]
  },
  {
   "cell_type": "code",
   "execution_count": null,
   "id": "0f851a25-3fea-426c-b826-58487a819d2e",
   "metadata": {},
   "outputs": [],
   "source": [
    "# Min\n",
    "for i in range(4):\n",
    "    clf = SVM_res(gc_hplc_icp_cat_min[i],\n",
    "                       type = 'Category')"
   ]
  },
  {
   "cell_type": "code",
   "execution_count": null,
   "id": "dc0ee924-63f3-4a32-b885-af65f5328867",
   "metadata": {
    "scrolled": true
   },
   "outputs": [],
   "source": [
    "# Min\n",
    "for i in range(4):\n",
    "    clf = SVM_res(gc_hplc_icp_cat_lod[i],\n",
    "                       type = 'Category')"
   ]
  },
  {
   "cell_type": "markdown",
   "id": "72c229de-fdd1-4701-8037-45cb7614226c",
   "metadata": {},
   "source": [
    "##### GC data"
   ]
  },
  {
   "cell_type": "code",
   "execution_count": null,
   "id": "ada43bb6-f174-4bde-91ae-e70404389a55",
   "metadata": {},
   "outputs": [],
   "source": [
    "for i in range(4):\n",
    "    clf = SVM_res(gc_list,\n",
    "                                    # sig_comp_list = significant_comp, \n",
    "                       type = 'Category',\n",
    "                        list_ele=i, \n",
    "                        split_train = 0.5)"
   ]
  },
  {
   "cell_type": "markdown",
   "id": "0a0b55b0-a3b0-4a92-8864-461120e10a35",
   "metadata": {},
   "source": [
    "##### HPLC data"
   ]
  },
  {
   "cell_type": "code",
   "execution_count": null,
   "id": "e0e05d05-7bca-49df-b6a4-162df9e1b79b",
   "metadata": {},
   "outputs": [],
   "source": [
    "for i in range(4):\n",
    "    clf = SVM_res(hplc_list,\n",
    "                                    # sig_comp_list = significant_comp, \n",
    "                       type = 'Category',\n",
    "                        list_ele=i, \n",
    "                        split_train = 0.5)"
   ]
  },
  {
   "cell_type": "markdown",
   "id": "71baeafb-b556-494b-8b32-cbd9cc7e8bb8",
   "metadata": {},
   "source": [
    "##### ICP data"
   ]
  },
  {
   "cell_type": "code",
   "execution_count": null,
   "id": "8c2bafec-ba92-4e09-8f8c-601da6d3c809",
   "metadata": {
    "scrolled": true
   },
   "outputs": [],
   "source": [
    "for i in range(4):\n",
    "    clf = SVM_res(icp_list,\n",
    "                                    # sig_comp_list = significant_comp, \n",
    "                       type = 'Category',\n",
    "                        list_ele=i, \n",
    "                        split_train = 0.5)"
   ]
  },
  {
   "cell_type": "markdown",
   "id": "ddb0bd30-dfe6-40a7-b940-bc000f4caac6",
   "metadata": {},
   "source": [
    "##### GC + ICP"
   ]
  },
  {
   "cell_type": "code",
   "execution_count": null,
   "id": "afb4f6e9-fc4f-41e9-adca-dcc6d04b50bc",
   "metadata": {},
   "outputs": [],
   "source": [
    "for i in range(4):\n",
    "    clf = SVM_res(gc_icp_list,\n",
    "                                    # sig_comp_list = significant_comp, \n",
    "                       type = 'Category',\n",
    "                        list_ele=i, \n",
    "                        split_train = 0.5)"
   ]
  },
  {
   "cell_type": "markdown",
   "id": "900930e9-f84c-4f93-afd5-e0e00f6da141",
   "metadata": {},
   "source": [
    "##### HPLC + ICP"
   ]
  },
  {
   "cell_type": "code",
   "execution_count": null,
   "id": "1d64ba39-cce1-4d73-8ac7-f5f9f7d240a5",
   "metadata": {},
   "outputs": [],
   "source": [
    "for i in range(4):\n",
    "    clf = SVM_res(hplc_icp_list,\n",
    "                                    # sig_comp_list = significant_comp, \n",
    "                       type = 'Category',\n",
    "                        list_ele=i, \n",
    "                        split_train = 0.5)"
   ]
  },
  {
   "cell_type": "markdown",
   "id": "d7f9c2df-5e10-4737-ad07-2aea08c2f562",
   "metadata": {},
   "source": [
    "##### GC + HPLC data"
   ]
  },
  {
   "cell_type": "code",
   "execution_count": null,
   "id": "61497376-9433-49df-a3ab-8bddf8e3f5e8",
   "metadata": {
    "scrolled": true
   },
   "outputs": [],
   "source": [
    "for i in range(4):\n",
    "    clf = SVM_res(gc_hplc_list,\n",
    "                                    # sig_comp_list = significant_comp, \n",
    "                       type = 'Category',\n",
    "                        list_ele=i, \n",
    "                        split_train = 0.5)"
   ]
  },
  {
   "cell_type": "markdown",
   "id": "35473054-8bce-48ff-b54a-8dae22ce46ed",
   "metadata": {},
   "source": [
    "##### GC + HPLC + ICP data"
   ]
  },
  {
   "cell_type": "code",
   "execution_count": null,
   "id": "ba31a3cf-921e-4734-ad06-977d70f066f2",
   "metadata": {
    "scrolled": true
   },
   "outputs": [],
   "source": [
    "for i in range(4):\n",
    "    clf = SVM_res(gc_hplc_icp_list,\n",
    "                                    # sig_comp_list = significant_comp, \n",
    "                       type = 'Category',\n",
    "                        list_ele=i, \n",
    "                        split_train = 0.5)"
   ]
  },
  {
   "cell_type": "markdown",
   "id": "b275287c-2183-4048-af95-3084b64f1336",
   "metadata": {
    "jp-MarkdownHeadingCollapsed": true
   },
   "source": [
    "#### Classification By Subcategory"
   ]
  },
  {
   "cell_type": "markdown",
   "id": "4993ed3b-f1c5-477b-b6ed-89e325615a28",
   "metadata": {},
   "source": [
    "##### GC data"
   ]
  },
  {
   "cell_type": "code",
   "execution_count": null,
   "id": "e6a3ac8c-b0fd-4628-864b-7e06d4dac19b",
   "metadata": {
    "scrolled": true
   },
   "outputs": [],
   "source": [
    "# Zero\n",
    "clf = SVM_res(gc_zero.drop(columns=['technique']), \n",
    "            type = 'Subcategory')"
   ]
  },
  {
   "cell_type": "code",
   "execution_count": null,
   "id": "506945ef-108c-4ac5-ae97-f3542de86fd6",
   "metadata": {
    "scrolled": true
   },
   "outputs": [],
   "source": [
    "# Min\n",
    "clf = SVM_res(gc_min.drop(columns=['technique']), \n",
    "            type = 'Subcategory')"
   ]
  },
  {
   "cell_type": "code",
   "execution_count": null,
   "id": "c3f4795e-ec57-4274-b280-1e9e2a9d7198",
   "metadata": {
    "scrolled": true
   },
   "outputs": [],
   "source": [
    "# LOD\n",
    "clf = SVM_res(gc_lod.drop(columns=['technique']), \n",
    "            type = 'Subcategory')"
   ]
  },
  {
   "cell_type": "markdown",
   "id": "844448d0-6769-43be-bda7-c04a1944bd80",
   "metadata": {},
   "source": [
    "##### HPLC data"
   ]
  },
  {
   "cell_type": "code",
   "execution_count": null,
   "id": "16280a6d-7493-400d-aa5c-2f68aa089320",
   "metadata": {
    "scrolled": true
   },
   "outputs": [],
   "source": [
    "# Zero\n",
    "clf = SVM_res(hplc_zero.drop(columns=['technique']),\n",
    "                   type = 'Subcategory')"
   ]
  },
  {
   "cell_type": "code",
   "execution_count": null,
   "id": "d73d9fd4-12c6-4ec6-a9be-22ea754c8c58",
   "metadata": {
    "scrolled": true
   },
   "outputs": [],
   "source": [
    "# Min\n",
    "clf = SVM_res(hplc_min.drop(columns=['technique']),\n",
    "                   type = 'Subcategory')"
   ]
  },
  {
   "cell_type": "code",
   "execution_count": null,
   "id": "11dcb58e-af84-469a-833f-75e9e3ac2b77",
   "metadata": {
    "scrolled": true
   },
   "outputs": [],
   "source": [
    "# LOD\n",
    "clf = SVM_res(hplc_lod.drop(columns=['technique']),\n",
    "                   type = 'Subcategory')"
   ]
  },
  {
   "cell_type": "markdown",
   "id": "9947e4ed-e866-4513-b869-e44a832c6498",
   "metadata": {},
   "source": [
    "##### ICP data"
   ]
  },
  {
   "cell_type": "code",
   "execution_count": null,
   "id": "b79634de-902e-4a48-b73c-969421d7c6a7",
   "metadata": {
    "scrolled": true
   },
   "outputs": [],
   "source": [
    "clf = SVM_res(icp_all,\n",
    "                   type = 'Subcategory')"
   ]
  },
  {
   "cell_type": "markdown",
   "id": "bae41fc0-0d47-4fa1-ac59-3240a004199a",
   "metadata": {},
   "source": [
    "##### GC + ICP"
   ]
  },
  {
   "cell_type": "code",
   "execution_count": null,
   "id": "736d6b52-e6e1-4f67-896f-7aed86bcd3cb",
   "metadata": {
    "scrolled": true
   },
   "outputs": [],
   "source": [
    "# Zero\n",
    "clf = SVM_res(gc_icp_zero.drop(columns=['technique']),\n",
    "                   type = 'Subcategory')"
   ]
  },
  {
   "cell_type": "code",
   "execution_count": null,
   "id": "c80d0376-3274-427c-a984-dbf447283500",
   "metadata": {
    "scrolled": true
   },
   "outputs": [],
   "source": [
    "# Min\n",
    "clf = SVM_res(gc_icp_min.drop(columns=['technique']),\n",
    "                   type = 'Subcategory')"
   ]
  },
  {
   "cell_type": "code",
   "execution_count": null,
   "id": "5bf81f9f-3008-42ef-88e1-45d9bbcfaa5a",
   "metadata": {
    "scrolled": true
   },
   "outputs": [],
   "source": [
    "# LOD\n",
    "clf = SVM_res(gc_icp_lod.drop(columns=['technique']),\n",
    "                   type = 'Subcategory')"
   ]
  },
  {
   "cell_type": "markdown",
   "id": "ae2d1dc3-ee60-47e9-b379-aec93267b74b",
   "metadata": {},
   "source": [
    "##### HPLC + ICP"
   ]
  },
  {
   "cell_type": "code",
   "execution_count": null,
   "id": "1cb087ab-12bf-4a55-985a-65b360aa7bb2",
   "metadata": {
    "scrolled": true
   },
   "outputs": [],
   "source": [
    "# Zero\n",
    "clf = SVM_res(hplc_icp_zero.drop(columns=['technique']),\n",
    "                   type = 'Subcategory')"
   ]
  },
  {
   "cell_type": "code",
   "execution_count": null,
   "id": "d1e89397-b42e-4d25-a3fa-a69d100783e9",
   "metadata": {},
   "outputs": [],
   "source": [
    "# Min\n",
    "clf = SVM_res(hplc_icp_min.drop(columns=['technique']),\n",
    "                   type = 'Subcategory')"
   ]
  },
  {
   "cell_type": "code",
   "execution_count": null,
   "id": "b2a0dba9-7525-4172-801d-14df84b594dc",
   "metadata": {
    "scrolled": true
   },
   "outputs": [],
   "source": [
    "# LOD\n",
    "clf = SVM_res(hplc_icp_lod.drop(columns=['technique']),\n",
    "                   type = 'Subcategory')"
   ]
  },
  {
   "cell_type": "markdown",
   "id": "916f487b-7fda-4353-885f-346cf716ce3b",
   "metadata": {},
   "source": [
    "##### GC + HPLC data"
   ]
  },
  {
   "cell_type": "code",
   "execution_count": null,
   "id": "6536bc44-9a66-43ef-81f9-5598188aed77",
   "metadata": {
    "scrolled": true
   },
   "outputs": [],
   "source": [
    "# Zero\n",
    "clf = SVM_res(gc_hplc_zero.drop(columns=['technique']),\n",
    "                   type = 'Subcategory')"
   ]
  },
  {
   "cell_type": "code",
   "execution_count": null,
   "id": "b040a4d1-77ee-4f2f-9974-dcd45f25d136",
   "metadata": {
    "scrolled": true
   },
   "outputs": [],
   "source": [
    "# Min\n",
    "clf = SVM_res(gc_hplc_min.drop(columns=['technique']),\n",
    "                   type = 'Subcategory')"
   ]
  },
  {
   "cell_type": "code",
   "execution_count": null,
   "id": "3b578ac3-7889-47e2-9b7b-9e4d605150b1",
   "metadata": {
    "scrolled": true
   },
   "outputs": [],
   "source": [
    "# LOD\n",
    "clf = SVM_res(gc_hplc_lod.drop(columns=['technique']),\n",
    "                   type = 'Subcategory')"
   ]
  },
  {
   "cell_type": "markdown",
   "id": "d070db8b-1218-470f-a401-de43262f052d",
   "metadata": {},
   "source": [
    "##### GC + HPLC + ICP data"
   ]
  },
  {
   "cell_type": "code",
   "execution_count": null,
   "id": "41d70193-df3c-4ca4-903b-3e2235510e6a",
   "metadata": {
    "scrolled": true
   },
   "outputs": [],
   "source": [
    "# Zero\n",
    "clf = SVM_res(gc_hplc_icp_zero.drop(columns=['technique']),\n",
    "                   type = 'Subcategory')"
   ]
  },
  {
   "cell_type": "code",
   "execution_count": null,
   "id": "70ea3b56-77b1-46ad-ac3c-965cdf4b5121",
   "metadata": {
    "scrolled": true
   },
   "outputs": [],
   "source": [
    "# Min\n",
    "clf = SVM_res(gc_hplc_icp_min.drop(columns=['technique']),\n",
    "                   type = 'Subcategory')"
   ]
  },
  {
   "cell_type": "code",
   "execution_count": null,
   "id": "1990dd4a-9744-47de-9770-41711330234b",
   "metadata": {
    "scrolled": true
   },
   "outputs": [],
   "source": [
    "# LOD\n",
    "clf = SVM_res(gc_hplc_icp_lod.drop(columns=['technique']),\n",
    "                   type = 'Subcategory')"
   ]
  },
  {
   "cell_type": "markdown",
   "id": "3975bb00-11bc-4ce7-b4d3-fcf499c28606",
   "metadata": {},
   "source": [
    "### Penalized Multinomial Logistic Regression in Python <a class=\"anchor\" id=\"multinom\"></a>"
   ]
  },
  {
   "cell_type": "code",
   "execution_count": null,
   "id": "4e998d44-9685-47e4-9999-40658a002337",
   "metadata": {},
   "outputs": [],
   "source": [
    "def caret_multinomlog_result(dat,\n",
    "                             type):\n",
    "               \n",
    "    # If a class only have 1 member then exclude that class from the ML\n",
    "    # Count the frequency of each class\n",
    "    class_counts = dat[type].astype(str).value_counts()\n",
    "    # Filter out classes with only one member\n",
    "    dat = dat[dat[type].astype(str).map(class_counts) > 1]\n",
    "    \n",
    "    # Extract the features and labels\n",
    "    X = dat.drop(columns=[type])\n",
    "    y = dat[type]\n",
    "   \n",
    "    X_train, X_test, y_train, y_test = train_test_split(X, y, test_size = round(len(dat[type].unique())/dat.shape[0], 2), \n",
    "                                                        stratify = y, \n",
    "                                                        random_state= 123\n",
    "                                                       )\n",
    "\n",
    "    # Standardizing the features (important for logistic regression)\n",
    "    # scaler = StandardScaler()\n",
    "    # X_train_scaled = scaler.fit_transform(X_train)\n",
    "    # X_test_scaled = scaler.transform(X_test)\n",
    "\n",
    "    # The 'cv' parameter of RandomizedSearchCV must be an int in the range [2, inf) \n",
    "    cv = RepeatedStratifiedKFold(n_splits = pd.DataFrame(y_train)[type].value_counts().min(),\n",
    "                                 n_repeats = 10, random_state = 123)\n",
    "    if pd.DataFrame(y_train)[type].value_counts().min() == 1:\n",
    "        cv = RepeatedStratifiedKFold(n_splits = 2, n_repeats = 10, random_state = 123)\n",
    "        \n",
    "    # Grid search with 5-fold cross validation for best model parameters\n",
    "    param_grid = {\n",
    "    'C':  [0.00001, 0.0001, 0.001, 0.01, 0.1, 1, 10, 100], # Generate an array of stepwise values \n",
    "    'penalty': ['l1', 'l2', 'elasticnet'],\n",
    "    'solver': ['newton-cg', 'lbfgs', 'sag', 'saga'],\n",
    "    'multi_class': ['auto', 'ovr', 'multinomial']\n",
    "    }\n",
    "    \n",
    "    gridsearch = GridSearchCV(LogisticRegression(), param_grid=param_grid, \n",
    "                                       # number of cv = number of member of classes with least no. of members\n",
    "                                       cv = cv, \n",
    "                                       return_train_score = True,\n",
    "                                       scoring = 'balanced_accuracy', n_jobs = -1).fit(X_train, y_train)\n",
    "    multinom_grid = gridsearch.best_params_\n",
    "    multinom_grid\n",
    "    \n",
    "    # Monitoring split_test_score across different hyperparameters of GridSearch -------------------------------------------------------\n",
    "    glued_dicts = ['_'.join([f\"{key}_{value}\" for key, value in d.items()]) for d in gridsearch.cv_results_['params']]\n",
    "    split_test_scores_list = []\n",
    "    \n",
    "    # Iterate over each row\n",
    "    for index, row in pd.DataFrame(gridsearch.cv_results_).iterrows():\n",
    "        split_test_scores = []\n",
    "        # Iterate over each column\n",
    "        for column in pd.DataFrame(gridsearch.cv_results_).columns:\n",
    "            # Check if column name matches the pattern \"splitx_test_score\"\n",
    "            if column.startswith('split') and column.endswith('_test_score'):\n",
    "                # Extract numerical value from the column\n",
    "                split_test_score = row[column]\n",
    "                split_test_scores.append(split_test_score)\n",
    "        split_test_scores_list.append(split_test_scores)\n",
    "    \n",
    "    for name, scores in zip(glued_dicts, split_test_scores_list):\n",
    "      # summarize progress along the way\n",
    "     print('%s %.3f (%.3f)' % (name, np.mean(scores), np.std(scores)))\n",
    "    # plot model performance for comparison\n",
    "    plt.boxplot(split_test_scores_list, labels=glued_dicts, showbox=True, showfliers=True, showcaps=True)\n",
    "    plt.xticks(rotation=90)\n",
    "    plt.show()\n",
    "    \n",
    "    # Training the final model after Cross-Validation grid search\n",
    "    multinomlog_mod = LogisticRegression(solver = multinom_grid['solver'],  penalty = multinom_grid['penalty'], random_state=123,\n",
    "                                         multi_class = multinom_grid['multi_class'], C = multinom_grid['C'], max_iter=10000, n_jobs=-1)\n",
    "\n",
    "    # Fitting the model to the whole training data\n",
    "    multinomlog_mod.fit(X_train, y_train)\n",
    "\n",
    "    # Prediction results   \n",
    "    # For test set\n",
    "    predictions_test = multinomlog_mod.predict_proba(X_test)\n",
    "    pred_df_test = pd.DataFrame(predictions_test, columns=multinomlog_mod.classes_)\n",
    "    \n",
    "    # Assign true and predicted labels\n",
    "    y_true_test = y_test\n",
    "    y_pred_test = pred_df_test.select_dtypes(include=[np.number]).idxmax(axis=1)\n",
    "    \n",
    "    # Balanced accuracy score\n",
    "    print(\"Balanced Accuracy (testing) :\" + str(balanced_accuracy_score(y_true_test, y_pred_test)))\n",
    "    \n",
    "    # Generate confusion matrix\n",
    "    conf_matrix_sklearn = confusion_matrix(y_true_test, y_pred_test, labels=multinomlog_mod.classes_)\n",
    "\n",
    "    # For a more detailed output similar to R's caret package\n",
    "    print(classification_report(y_true_test, y_pred_test))\n",
    "\n",
    "    # To visualize the confusion matrix\n",
    "    ConfusionMatrixDisplay(conf_matrix_sklearn,\n",
    "                          display_labels=multinomlog_mod.classes_).plot(cmap=plt.cm.Blues, xticks_rotation=\"vertical\")\n",
    "    plt.tight_layout()\n",
    "    plt.show()\n",
    "\n",
    "    # Histogram of distribution of probability of each class in prediction\n",
    "    for column in pred_df_test.columns:\n",
    "        # Create a histogram for the current column\n",
    "        plt.hist(pred_df_test[column], bins=10, alpha=0.5, label=column)\n",
    "        # Round up y-axis ticks to have no decimals\n",
    "        plt.yticks(np.arange(plt.yticks()[0][0], plt.yticks()[0][-1] + 1, step=1))\n",
    "        \n",
    "        # Add title for each subplot as the name of the column\n",
    "        plt.title(column)\n",
    "        plt.xlabel('Value')\n",
    "        plt.ylabel('Frequency')\n",
    "        plt.legend()\n",
    "        plt.show()\n",
    "        \n",
    "    # Plot feature importance\n",
    "    features_names = list(X_train.columns) \n",
    "    f_importances(multinomlog_mod.coef_[0],\n",
    "                  features_names)  \n",
    "    return multinomlog_mod"
   ]
  },
  {
   "cell_type": "markdown",
   "id": "ee9a2f3d-f8f4-46df-b4ed-3346635ecfd4",
   "metadata": {
    "jp-MarkdownHeadingCollapsed": true
   },
   "source": [
    "#### Classification by Category"
   ]
  },
  {
   "cell_type": "markdown",
   "id": "bb24deca-30df-47bb-878f-c33850c04fbf",
   "metadata": {},
   "source": [
    "##### GC data"
   ]
  },
  {
   "cell_type": "code",
   "execution_count": null,
   "id": "36c426d7-c88b-4ae6-a61e-530f1f56304e",
   "metadata": {},
   "outputs": [],
   "source": [
    "# zero\n",
    "for i in range(4):\n",
    "    clf = caret_multinomlog_result(gc_cat_zero[i],\n",
    "                       type = 'Category')"
   ]
  },
  {
   "cell_type": "code",
   "execution_count": null,
   "id": "f6890974-7988-4b89-9cbc-f3616abb2847",
   "metadata": {},
   "outputs": [],
   "source": [
    "# Min\n",
    "for i in range(4):\n",
    "    clf = caret_multinomlog_result(gc_cat_min[i],\n",
    "                       type = 'Category')"
   ]
  },
  {
   "cell_type": "code",
   "execution_count": null,
   "id": "637a27d6-6b02-44ce-ba2e-0df121a886f5",
   "metadata": {
    "scrolled": true
   },
   "outputs": [],
   "source": [
    "# Min\n",
    "for i in range(4):\n",
    "    clf = caret_multinomlog_result(gc_cat_lod[i],\n",
    "                       type = 'Category')"
   ]
  },
  {
   "cell_type": "markdown",
   "id": "77be9d49-c921-4c49-b9dc-9f7a1e282bd9",
   "metadata": {},
   "source": [
    "##### HPLC data"
   ]
  },
  {
   "cell_type": "code",
   "execution_count": null,
   "id": "361ed80b-3602-4be9-8db7-4f58a356dccc",
   "metadata": {},
   "outputs": [],
   "source": [
    "# zero\n",
    "for i in range(4):\n",
    "    clf = caret_multinomlog_result(hplc_cat_zero[i],\n",
    "                       type = 'Category')"
   ]
  },
  {
   "cell_type": "code",
   "execution_count": null,
   "id": "16882e51-430d-405f-b208-8ebdc4d26fd5",
   "metadata": {},
   "outputs": [],
   "source": [
    "# Min\n",
    "for i in range(4):\n",
    "    clf = caret_multinomlog_result(hplc_cat_min[i],\n",
    "                       type = 'Category')"
   ]
  },
  {
   "cell_type": "code",
   "execution_count": null,
   "id": "e4bd4fd3-960d-41b8-bb17-147d9e6e1cb0",
   "metadata": {
    "scrolled": true
   },
   "outputs": [],
   "source": [
    "# Min\n",
    "for i in range(4):\n",
    "    clf = caret_multinomlog_result(hplc_cat_lod[i],\n",
    "                       type = 'Category')"
   ]
  },
  {
   "cell_type": "markdown",
   "id": "5e917e9a-565a-413b-b19c-e74990ad27b9",
   "metadata": {},
   "source": [
    "##### ICP data"
   ]
  },
  {
   "cell_type": "code",
   "execution_count": null,
   "id": "f6f59f7d-e0f7-4e5f-a9c3-6c84c2dee476",
   "metadata": {
    "scrolled": true
   },
   "outputs": [],
   "source": [
    "for i in range(4):\n",
    "    clf = caret_multinomlog_result(icp_cat[i],\n",
    "                       type = 'Category')"
   ]
  },
  {
   "cell_type": "markdown",
   "id": "99873371-d87d-4883-946a-7fb7a6ff61b5",
   "metadata": {},
   "source": [
    "##### GC + ICP"
   ]
  },
  {
   "cell_type": "code",
   "execution_count": null,
   "id": "b5ec1ead-5106-48dd-8870-f2cc1a32c584",
   "metadata": {},
   "outputs": [],
   "source": [
    "# zero\n",
    "for i in range(4):\n",
    "    clf = caret_multinomlog_result(gc_icp_cat_zero[i],\n",
    "                       type = 'Category')"
   ]
  },
  {
   "cell_type": "code",
   "execution_count": null,
   "id": "1879cb24-d711-4abc-88cc-f6a8845b8662",
   "metadata": {},
   "outputs": [],
   "source": [
    "# Min\n",
    "for i in range(4):\n",
    "    clf = caret_multinomlog_result(gc_icp_cat_min[i],\n",
    "                       type = 'Category')"
   ]
  },
  {
   "cell_type": "code",
   "execution_count": null,
   "id": "ca4a86e9-1806-4c61-8256-974c3c89e2f5",
   "metadata": {
    "scrolled": true
   },
   "outputs": [],
   "source": [
    "# Min\n",
    "for i in range(4):\n",
    "    clf = caret_multinomlog_result(gc_icp_cat_lod[i],\n",
    "                       type = 'Category')"
   ]
  },
  {
   "cell_type": "markdown",
   "id": "109bad5c-4c44-497f-816b-cf6a5c14b4b6",
   "metadata": {},
   "source": [
    "##### HPLC + ICP"
   ]
  },
  {
   "cell_type": "code",
   "execution_count": null,
   "id": "80406452-9d23-4824-80d5-8a87a25893c2",
   "metadata": {},
   "outputs": [],
   "source": [
    "# zero\n",
    "for i in range(4):\n",
    "    clf = caret_multinomlog_result(hplc_icp_cat_zero[i],\n",
    "                       type = 'Category')"
   ]
  },
  {
   "cell_type": "code",
   "execution_count": null,
   "id": "aab6a443-f2df-4b32-84bd-abaea8281d44",
   "metadata": {},
   "outputs": [],
   "source": [
    "# Min\n",
    "for i in range(4):\n",
    "    clf = caret_multinomlog_result(hplc_icp_cat_min[i],\n",
    "                       type = 'Category')"
   ]
  },
  {
   "cell_type": "code",
   "execution_count": null,
   "id": "d040a7a4-79e5-4d45-9486-ed6c5aeb177a",
   "metadata": {
    "scrolled": true
   },
   "outputs": [],
   "source": [
    "# Min\n",
    "for i in range(4):\n",
    "    clf = caret_multinomlog_result(hplc_icp_cat_lod[i],\n",
    "                       type = 'Category')"
   ]
  },
  {
   "cell_type": "markdown",
   "id": "2c35144c-17ab-43d3-8d6c-e3bb8688ee6a",
   "metadata": {},
   "source": [
    "##### GC + HPLC data"
   ]
  },
  {
   "cell_type": "code",
   "execution_count": null,
   "id": "cc70432d-fecb-4900-9c2a-9953730b9d59",
   "metadata": {},
   "outputs": [],
   "source": [
    "# zero\n",
    "for i in range(4):\n",
    "    clf = caret_multinomlog_result(gc_hplc_cat_zero[i],\n",
    "                       type = 'Category')"
   ]
  },
  {
   "cell_type": "code",
   "execution_count": null,
   "id": "9649d549-3ee5-4357-b96d-4ff30e7e8860",
   "metadata": {},
   "outputs": [],
   "source": [
    "# Min\n",
    "for i in range(4):\n",
    "    clf = caret_multinomlog_result(gc_hplc_cat_min[i],\n",
    "                       type = 'Category')"
   ]
  },
  {
   "cell_type": "code",
   "execution_count": null,
   "id": "0deebf38-4378-4db2-9ef4-74356e5b029b",
   "metadata": {
    "scrolled": true
   },
   "outputs": [],
   "source": [
    "# Min\n",
    "for i in range(4):\n",
    "    clf = caret_multinomlog_result(gc_hplc_cat_lod[i],\n",
    "                       type = 'Category')"
   ]
  },
  {
   "cell_type": "markdown",
   "id": "167b58d3-b508-4e44-bf38-5291bbcf2e70",
   "metadata": {},
   "source": [
    "##### GC + HPLC + ICP data"
   ]
  },
  {
   "cell_type": "code",
   "execution_count": null,
   "id": "4419a2ef-1a88-406e-8e36-a456c2536a74",
   "metadata": {},
   "outputs": [],
   "source": [
    "# zero\n",
    "for i in range(4):\n",
    "    clf = caret_multinomlog_result(gc_hplc_icp_cat_zero[i],\n",
    "                       type = 'Category')"
   ]
  },
  {
   "cell_type": "code",
   "execution_count": null,
   "id": "72afc31c-85a7-4466-9fa6-7528560e88a7",
   "metadata": {},
   "outputs": [],
   "source": [
    "# Min\n",
    "for i in range(4):\n",
    "    clf = caret_multinomlog_result(gc_hplc_icp_cat_min[i],\n",
    "                       type = 'Category')"
   ]
  },
  {
   "cell_type": "code",
   "execution_count": null,
   "id": "42a82bfa-26a7-4425-88b6-d0fb9bde093d",
   "metadata": {
    "scrolled": true
   },
   "outputs": [],
   "source": [
    "# Min\n",
    "for i in range(4):\n",
    "    clf = caret_multinomlog_result(gc_hplc_icp_cat_lod[i],\n",
    "                       type = 'Category')"
   ]
  },
  {
   "cell_type": "markdown",
   "id": "75b8c4cf-1c8b-444c-892a-8a94400c5b5d",
   "metadata": {},
   "source": [
    "##### GC data"
   ]
  },
  {
   "cell_type": "code",
   "execution_count": null,
   "id": "5318352d-4ef2-48d0-b3bb-c1ffcc13bc01",
   "metadata": {},
   "outputs": [],
   "source": [
    "for i in range(4):\n",
    "    clf = caret_multinomlog_result(gc_list,\n",
    "                                    # sig_comp_list = significant_comp, \n",
    "                       type = 'Category',\n",
    "                        list_ele=i, \n",
    "                        split_train = 0.5)"
   ]
  },
  {
   "cell_type": "markdown",
   "id": "ca583cf9-024c-4b7f-a9ee-fc014803295a",
   "metadata": {},
   "source": [
    "##### HPLC data"
   ]
  },
  {
   "cell_type": "code",
   "execution_count": null,
   "id": "91aa8766-a4ce-49fd-812b-9a1cfc764fa9",
   "metadata": {},
   "outputs": [],
   "source": [
    "for i in range(4):\n",
    "    clf = caret_multinomlog_result(hplc_list,\n",
    "                                    # sig_comp_list = significant_comp, \n",
    "                       type = 'Category',\n",
    "                        list_ele=i, \n",
    "                        split_train = 0.5)"
   ]
  },
  {
   "cell_type": "markdown",
   "id": "cc3da3a0-99d6-4765-aa18-17a9c5e1d89e",
   "metadata": {},
   "source": [
    "##### ICP data"
   ]
  },
  {
   "cell_type": "code",
   "execution_count": null,
   "id": "5f23449f-e14a-4fe5-9be2-bc0c183bb9cc",
   "metadata": {
    "scrolled": true
   },
   "outputs": [],
   "source": [
    "for i in range(4):\n",
    "    clf = caret_multinomlog_result(icp_list,\n",
    "                                    # sig_comp_list = significant_comp, \n",
    "                       type = 'Category',\n",
    "                        list_ele=i, \n",
    "                        split_train = 0.5)"
   ]
  },
  {
   "cell_type": "markdown",
   "id": "ba8ecbcf-a4f7-41a0-b4a3-ee31288533a6",
   "metadata": {},
   "source": [
    "##### GC + ICP"
   ]
  },
  {
   "cell_type": "code",
   "execution_count": null,
   "id": "08749c02-00dc-41a9-a58d-0d1cc358979e",
   "metadata": {},
   "outputs": [],
   "source": [
    "for i in range(4):\n",
    "    clf = caret_multinomlog_result(gc_icp_list,\n",
    "                                    # sig_comp_list = significant_comp, \n",
    "                       type = 'Category',\n",
    "                        list_ele=i, \n",
    "                        split_train = 0.5)"
   ]
  },
  {
   "cell_type": "markdown",
   "id": "5ea587d7-a509-441e-a4e5-0102a7264f8c",
   "metadata": {},
   "source": [
    "##### HPLC + ICP"
   ]
  },
  {
   "cell_type": "code",
   "execution_count": null,
   "id": "6435246a-922d-4ff9-a154-3d21e4277058",
   "metadata": {
    "scrolled": true
   },
   "outputs": [],
   "source": [
    "for i in range(4):\n",
    "    clf = caret_multinomlog_result(hplc_icp_list,\n",
    "                                    # sig_comp_list = significant_comp, \n",
    "                       type = 'Category',\n",
    "                        list_ele=i, \n",
    "                        split_train = 0.5)"
   ]
  },
  {
   "cell_type": "markdown",
   "id": "5ef3a702-6c9d-43d8-a74b-0b0788ab917f",
   "metadata": {},
   "source": [
    "##### GC + HPLC data"
   ]
  },
  {
   "cell_type": "code",
   "execution_count": null,
   "id": "4d947428-b25f-4742-88a0-dbf312d728c1",
   "metadata": {
    "scrolled": true
   },
   "outputs": [],
   "source": [
    "for i in range(4):\n",
    "    clf = caret_multinomlog_result(gc_hplc_list,\n",
    "                                    # sig_comp_list = significant_comp, \n",
    "                       type = 'Category',\n",
    "                        list_ele=i, \n",
    "                        split_train = 0.5)"
   ]
  },
  {
   "cell_type": "markdown",
   "id": "e47630a1-f95b-4780-895a-72c42b0f2827",
   "metadata": {},
   "source": [
    "##### GC + HPLC + ICP data"
   ]
  },
  {
   "cell_type": "code",
   "execution_count": null,
   "id": "75faab29-40eb-4014-878e-453680aac9e0",
   "metadata": {
    "scrolled": true
   },
   "outputs": [],
   "source": [
    "for i in range(4):\n",
    "    clf = caret_multinomlog_result(gc_hplc_icp_list,\n",
    "                                    # sig_comp_list = significant_comp, \n",
    "                       type = 'Category',\n",
    "                        list_ele=i, \n",
    "                        split_train = 0.5)"
   ]
  },
  {
   "cell_type": "markdown",
   "id": "c2eeee4a-7c85-4622-8cee-0f5538901218",
   "metadata": {},
   "source": [
    "#### Classification By Subcategory"
   ]
  },
  {
   "cell_type": "markdown",
   "id": "8748ee45-23b2-48e0-a085-2d3a1c9dc653",
   "metadata": {},
   "source": [
    "##### GC data"
   ]
  },
  {
   "cell_type": "code",
   "execution_count": null,
   "id": "d26732e6-1bf9-4e0f-9db6-143fe6147e59",
   "metadata": {},
   "outputs": [],
   "source": [
    "# Zero\n",
    "clf = caret_multinomlog_result(gc_zero.drop(columns=['technique']),\n",
    "                   type = 'Subcategory')"
   ]
  },
  {
   "cell_type": "code",
   "execution_count": null,
   "id": "66d29527-3ebb-408c-b0d5-9fc0d970acca",
   "metadata": {},
   "outputs": [],
   "source": [
    "# Min\n",
    "clf = caret_multinomlog_result(gc_min.drop(columns=['technique']),\n",
    "                   type = 'Subcategory')"
   ]
  },
  {
   "cell_type": "code",
   "execution_count": null,
   "id": "758e4dbb-9375-483e-bbe3-c00aede2abb0",
   "metadata": {},
   "outputs": [],
   "source": [
    "# LOD\n",
    "clf = caret_multinomlog_result(gc_lod.drop(columns=['technique']),\n",
    "                   type = 'Subcategory')"
   ]
  },
  {
   "cell_type": "markdown",
   "id": "170414e0-4ec7-4a39-ae1f-f7a74131add1",
   "metadata": {},
   "source": [
    "##### HPLC data"
   ]
  },
  {
   "cell_type": "code",
   "execution_count": null,
   "id": "d7a998da-a608-46a7-9da1-079726e4c9db",
   "metadata": {},
   "outputs": [],
   "source": [
    "# Zero\n",
    "clf = caret_multinomlog_result(hplc_zero.drop(columns=['technique']), \n",
    "                   type = 'Subcategory')"
   ]
  },
  {
   "cell_type": "code",
   "execution_count": null,
   "id": "2c998697-37cb-4e1f-8f73-09bc43e005b7",
   "metadata": {},
   "outputs": [],
   "source": [
    "# Min\n",
    "clf = caret_multinomlog_result(hplc_min.drop(columns=['technique']), \n",
    "                   type = 'Subcategory')"
   ]
  },
  {
   "cell_type": "code",
   "execution_count": null,
   "id": "13a85adf-2aa3-4e13-a31a-5d3d447945b7",
   "metadata": {},
   "outputs": [],
   "source": [
    "# LOD\n",
    "clf = caret_multinomlog_result(hplc_lod.drop(columns=['technique']), \n",
    "                   type = 'Subcategory')"
   ]
  },
  {
   "cell_type": "markdown",
   "id": "ef14ca62-74b5-4847-a13e-192417fc692c",
   "metadata": {},
   "source": [
    "##### ICP data"
   ]
  },
  {
   "cell_type": "code",
   "execution_count": null,
   "id": "f20ea9a1-63b5-4634-b91d-ebb51896b784",
   "metadata": {
    "scrolled": true
   },
   "outputs": [],
   "source": [
    "clf = caret_multinomlog_result(icp_all,\n",
    "                   type = 'Subcategory')"
   ]
  },
  {
   "cell_type": "markdown",
   "id": "a8d46826-322a-4a16-8e03-15e8ef2525d7",
   "metadata": {},
   "source": [
    "##### GC + ICP"
   ]
  },
  {
   "cell_type": "code",
   "execution_count": null,
   "id": "f651eb1f-44ef-4283-85a0-ac720df32705",
   "metadata": {},
   "outputs": [],
   "source": [
    "# Zero\n",
    "clf = caret_multinomlog_result(gc_icp_zero.drop(columns=['technique']),\n",
    "                   type = 'Subcategory')"
   ]
  },
  {
   "cell_type": "code",
   "execution_count": null,
   "id": "3d6ba997-8148-4676-bf84-71d4a90bb147",
   "metadata": {},
   "outputs": [],
   "source": [
    "# Min\n",
    "clf = caret_multinomlog_result(gc_icp_min.drop(columns=['technique']),\n",
    "                   type = 'Subcategory')"
   ]
  },
  {
   "cell_type": "code",
   "execution_count": null,
   "id": "eb30e359-7acc-49a9-8da6-55c323ba924e",
   "metadata": {},
   "outputs": [],
   "source": [
    "# LOD\n",
    "clf = caret_multinomlog_result(gc_icp_lod.drop(columns=['technique']),\n",
    "                   type = 'Subcategory')"
   ]
  },
  {
   "cell_type": "markdown",
   "id": "791e6c88-4936-413f-86b2-b48b418390f7",
   "metadata": {},
   "source": [
    "##### HPLC + ICP"
   ]
  },
  {
   "cell_type": "code",
   "execution_count": null,
   "id": "16eb5374-55a6-4a4f-9212-8fd56a738003",
   "metadata": {},
   "outputs": [],
   "source": [
    "# Zero\n",
    "clf = caret_multinomlog_result(hplc_icp_zero.drop(columns=['technique']),\n",
    "                   type = 'Subcategory')"
   ]
  },
  {
   "cell_type": "code",
   "execution_count": null,
   "id": "2724bf82-4a37-48fe-ae6a-a73169e3a97e",
   "metadata": {},
   "outputs": [],
   "source": [
    "# Min\n",
    "clf = caret_multinomlog_result(hplc_icp_min.drop(columns=['technique']),\n",
    "                   type = 'Subcategory')"
   ]
  },
  {
   "cell_type": "code",
   "execution_count": null,
   "id": "3c7678d6-6bb2-4f76-8c05-7f3911af0efd",
   "metadata": {},
   "outputs": [],
   "source": [
    "# LOD\n",
    "clf = caret_multinomlog_result(hplc_icp_lod.drop(columns=['technique']),\n",
    "                   type = 'Subcategory')"
   ]
  },
  {
   "cell_type": "markdown",
   "id": "90e25876-9d57-4d2e-9086-bed33aae4db6",
   "metadata": {},
   "source": [
    "##### GC + HPLC data"
   ]
  },
  {
   "cell_type": "code",
   "execution_count": null,
   "id": "0679c145-c3e6-4415-a621-0638c977dff1",
   "metadata": {
    "scrolled": true
   },
   "outputs": [],
   "source": [
    "# Zero\n",
    "clf = caret_multinomlog_result(gc_hplc_zero.drop(columns=['technique']),\n",
    "                   type = 'Subcategory')"
   ]
  },
  {
   "cell_type": "code",
   "execution_count": null,
   "id": "5932063a-7391-478f-b466-fea055be3592",
   "metadata": {},
   "outputs": [],
   "source": [
    "# Min\n",
    "clf = caret_multinomlog_result(gc_hplc_min.drop(columns=['technique']),\n",
    "                   type = 'Subcategory')"
   ]
  },
  {
   "cell_type": "code",
   "execution_count": null,
   "id": "19f7c849-d7ac-4785-9161-afa3d8dbd446",
   "metadata": {},
   "outputs": [],
   "source": [
    "# LOD\n",
    "clf = caret_multinomlog_result(gc_hplc_lod.drop(columns=['technique']),\n",
    "                   type = 'Subcategory')"
   ]
  },
  {
   "cell_type": "markdown",
   "id": "230d4bb9-a474-4e53-b2bc-26b027b11ad2",
   "metadata": {},
   "source": [
    "##### GC + HPLC + ICP data"
   ]
  },
  {
   "cell_type": "code",
   "execution_count": null,
   "id": "98d492f1-f917-421d-a386-faa96e7abbf2",
   "metadata": {
    "scrolled": true
   },
   "outputs": [],
   "source": [
    "# Zero\n",
    "clf = caret_multinomlog_result(gc_hplc_icp_zero.drop(columns=['technique']),\n",
    "                   type = 'Subcategory')"
   ]
  },
  {
   "cell_type": "code",
   "execution_count": null,
   "id": "c80a7742-5b9c-420d-b150-4f68e98bbc52",
   "metadata": {},
   "outputs": [],
   "source": [
    "# Min.\n",
    "clf = caret_multinomlog_result(gc_hplc_icp_min.drop(columns=['technique']),\n",
    "                   type = 'Subcategory')"
   ]
  },
  {
   "cell_type": "code",
   "execution_count": null,
   "id": "3114c194-4c07-43f0-823e-e8e3f6969b07",
   "metadata": {},
   "outputs": [],
   "source": [
    "# LOD\n",
    "clf = caret_multinomlog_result(gc_hplc_icp_lod.drop(columns=['technique']),\n",
    "                   type = 'Subcategory')"
   ]
  },
  {
   "cell_type": "markdown",
   "id": "09e8373a-7956-4d06-86d8-24e72beaa979",
   "metadata": {},
   "source": [
    "### Deep Neural Network <a class=\"anchor\" id=\"dnn\"></a>"
   ]
  },
  {
   "cell_type": "markdown",
   "id": "4eb65374-33fb-48ee-9969-18df6d8e0833",
   "metadata": {},
   "source": [
    "The deep neural network (DNN) ensemble used for this work was an ensemble of 10 fully-connected feedforward multilayer perceptron deep neural networks, each with three hidden layers, one input layer, and one output layer."
   ]
  },
  {
   "cell_type": "code",
   "execution_count": null,
   "id": "7445e029-2c31-4e44-bdd3-b2bc39e95b4f",
   "metadata": {},
   "outputs": [],
   "source": [
    "import tensorflow as tf\n",
    "from tensorflow.keras.models import Sequential\n",
    "from tensorflow.keras.layers import Dense"
   ]
  },
  {
   "cell_type": "code",
   "execution_count": null,
   "id": "1e43e0d2-0add-4aaf-b268-4ac0c28908a3",
   "metadata": {},
   "outputs": [],
   "source": [
    "def create_model(X_train):\n",
    "    model = Sequential([\n",
    "        Dense(10, input_shape=(X_train.shape[1],), activation='relu'),\n",
    "        Dense(64, activation='relu'),\n",
    "        Dense(64, activation='relu'),\n",
    "        Dense(64, activation='relu'),\n",
    "        Dense(1, activation='sigmoid')\n",
    "    ])\n",
    "    return model\n",
    "\n",
    "def compile_model(model):\n",
    "    model.compile(optimizer='adam', loss='binary_crossentropy', metrics=['accuracy'])\n",
    "    return model\n",
    "\n",
    "def ensemble_predict(models, X_test, y_test):\n",
    "    predictions = [model.predict(X_test) for model in models]\n",
    "    avg_prediction = tf.reduce_mean(predictions, axis=0)\n",
    "    class_prediction = np.argmax(avg_prediction, axis=1)\n",
    "    # Balanced accuracy score\n",
    "    print(\"Balanced Accuracy (testing) :\" + str(balanced_accuracy_score(y_test, class_prediction)))\n",
    "    return avg_prediction"
   ]
  },
  {
   "cell_type": "code",
   "execution_count": null,
   "id": "9eda98fa-4ae1-4a8c-b450-a9c1a0b75564",
   "metadata": {},
   "outputs": [],
   "source": [
    "dat = hplc_list[0]\n",
    "# Select relevant columns\n",
    "dat = dat[['File', 'Category', 'Feature', 'Values']]\n",
    "   \n",
    "# Group by and take the mean of 'Values'\n",
    "dat = dat.groupby(['File', 'Category', 'Feature']).agg({'Values': 'mean'}).reset_index()\n",
    "\n",
    "# Pivot the table\n",
    "dat = dat.pivot_table(index=['File', 'Category'], columns='Feature', values='Values', aggfunc = np.mean).reset_index()\n",
    "\n",
    "# Set 'File' as index (equivalent to rownames in R)\n",
    "dat.set_index('File', inplace=True)\n",
    "\n",
    "# Keep only significant comp from Wilcoxon test\n",
    "# sig_comp = sig_comp_list[list_ele]['comp'].unique()\n",
    "# df = gc_hplc[np.append(sig_comp, 'Category')]\n",
    "\n",
    "# Iterate through each row and replace NaNs\n",
    "for idx, row in dat.iterrows():\n",
    "    na_indices = row.isna()\n",
    "    na_count = na_indices.sum()\n",
    "    \n",
    "    if na_count > 0:\n",
    "        dat.loc[idx, na_indices.index[na_indices]] = 0\n",
    "        \n",
    "# If a class only have 1 member then exclude that class from the ML\n",
    "# Count the frequency of each class\n",
    "class_counts = dat['Category'].astype(str).value_counts()\n",
    "# Filter out classes with only one member\n",
    "dat = dat[dat['Category'].astype(str).map(class_counts) > 1]\n",
    "\n",
    "# Converts each unique category into a numerical value\n",
    "from sklearn.preprocessing import LabelEncoder\n",
    "dat['Category'] = LabelEncoder().fit_transform(dat['Category'])\n",
    "\n",
    "# Extract the features and labels\n",
    "X = dat.drop(columns=['Category'])\n",
    "y = dat['Category']\n",
    "\n",
    "X_train, X_test, y_train, y_test = train_test_split(X, y, test_size= 0.5, stratify = y, \n",
    "                                                    random_state= 123\n",
    "                                                   )"
   ]
  },
  {
   "cell_type": "code",
   "execution_count": null,
   "id": "6050fddb-a2b9-4ae7-84f6-e138a88286e4",
   "metadata": {
    "jp-MarkdownHeadingCollapsed": true,
    "scrolled": true
   },
   "outputs": [],
   "source": [
    "ensemble_models = [compile_model(create_model(X_train = X_train)) for _ in range(10)]\n",
    "for model in ensemble_models:\n",
    "    model.fit(X_train, y_train, epochs=10, \n",
    "              batch_size=32\n",
    "             )\n",
    "\n",
    "ensemble_accuracy = ensemble_predict(ensemble_models, X_test, y_test)"
   ]
  }
 ],
 "metadata": {
  "kernelspec": {
   "display_name": "Python 3 (ipykernel)",
   "language": "python",
   "name": "python3"
  },
  "language_info": {
   "codemirror_mode": {
    "name": "ipython",
    "version": 3
   },
   "file_extension": ".py",
   "mimetype": "text/x-python",
   "name": "python",
   "nbconvert_exporter": "python",
   "pygments_lexer": "ipython3",
   "version": "3.11.4"
  }
 },
 "nbformat": 4,
 "nbformat_minor": 5
}
