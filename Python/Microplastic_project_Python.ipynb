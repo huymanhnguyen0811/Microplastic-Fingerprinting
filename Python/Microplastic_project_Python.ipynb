{
 "cells": [
  {
   "cell_type": "markdown",
   "id": "70cb12fa",
   "metadata": {},
   "source": [
    "## Table of contents\n",
    "\n",
    "* [Loading packages](#loading_packages)\n",
    "    * [Section 1.1: Excel file name explanation](#excelexplain)\n",
    "    * [Section 1.2: Useful Functions](#functions)\n",
    "        * [Section 1.2.1](#section_1_2_1)\n",
    "        * [Section 1.2.2](#section_1_2_2)\n",
    "        * [Section 1.2.3](#section_1_2_3)\n",
    "* [Data import](#dataimport)\n",
    "    * [Section 2.1](#section_2_1)\n",
    "    * [Section 2.2](#section_2_2)"
   ]
  },
  {
   "cell_type": "markdown",
   "id": "7601f083",
   "metadata": {},
   "source": [
    "##### Section 1.2.1 <a class=\"anchor\" id=\"section_1_2_1\"></a>\n",
    "\n",
    "##### Section 1.2.2 <a class=\"anchor\" id=\"section_1_2_2\"></a>\n",
    "\n",
    "##### Section 1.2.3 <a class=\"anchor\" id=\"section_1_2_3\"></a>\n",
    "\n",
    "#### Section 2.1 <a class=\"anchor\" id=\"section_2_1\"></a>\n",
    "\n",
    "#### Section 2.2 <a class=\"anchor\" id=\"section_2_2\"></a>"
   ]
  },
  {
   "cell_type": "markdown",
   "id": "9a517201",
   "metadata": {},
   "source": [
    "### Loading packages <a class=\"anchor\" id=\"loading_packages\"></a>"
   ]
  },
  {
   "cell_type": "code",
   "execution_count": 1,
   "id": "38a89ced",
   "metadata": {},
   "outputs": [],
   "source": [
    "import numpy as np\n",
    "import pandas as pd\n",
    "pd.set_option('display.max_rows', None)\n",
    "import timeit\n",
    "import re\n",
    "import os\n",
    "import glob\n",
    "from V4_2_Fingerprinting_Workflow_SVC_beta_version_python import fingerprintingWorkflow\n",
    "from sklearn.cluster import KMeans\n",
    "import matplotlib.pyplot as plt"
   ]
  },
  {
   "cell_type": "markdown",
   "id": "b6bd8718",
   "metadata": {},
   "source": [
    "#### Excel file name explanation <a class=\"anchor\" id=\"excelexplain\"></a>"
   ]
  },
  {
   "cell_type": "markdown",
   "id": "9a27a54b",
   "metadata": {},
   "source": [
    "The attached files are direct injection IL and the following explains the file naming:\n",
    "- 0220F00991\n",
    "- month (02) year (20) station (009) octane (91)\n",
    "Anything with a D at end is diesel and the composites are obviously a mixture of a fuel. "
   ]
  },
  {
   "cell_type": "markdown",
   "id": "8ba93a97",
   "metadata": {},
   "source": [
    "#### Useful Functions <a class=\"anchor\" id=\"functions\"></a>"
   ]
  },
  {
   "cell_type": "markdown",
   "id": "fd3e00fc",
   "metadata": {},
   "source": [
    "### Data import <a class=\"anchor\" id=\"dataimport\"></a>"
   ]
  },
  {
   "cell_type": "markdown",
   "id": "db7c77df",
   "metadata": {
    "scrolled": true
   },
   "source": [
    "https://www.mit.edu/~amidi/teaching/data-science-tools/conversion-guide/r-python-data-manipulation/"
   ]
  },
  {
   "cell_type": "code",
   "execution_count": 2,
   "id": "e91bdbd2",
   "metadata": {},
   "outputs": [],
   "source": [
    "file_list = glob.glob(os.getcwd() + '\\\\CSV_Export_2023-05-23_Cleaned\\\\*.csv', recursive = True)"
   ]
  },
  {
   "cell_type": "code",
   "execution_count": 4,
   "id": "3e6a3018",
   "metadata": {
    "scrolled": true
   },
   "outputs": [],
   "source": [
    "# isolating IL types\n",
    "indi_file_list = []\n",
    "for file in file_list:\n",
    "    if \"Blank\" in file or \"SampleInfo\" in file:\n",
    "        next\n",
    "    else:\n",
    "        indi_file_list.append(file)"
   ]
  },
  {
   "cell_type": "code",
   "execution_count": 5,
   "id": "69b5808a",
   "metadata": {},
   "outputs": [],
   "source": [
    "# Import IL samples to list\n",
    "df_list = list(map(lambda file: pd.read_csv(file, skiprows = 2), indi_file_list))"
   ]
  },
  {
   "cell_type": "markdown",
   "id": "9f890eb8",
   "metadata": {},
   "source": [
    "### Data distribution Pre-normalization"
   ]
  },
  {
   "cell_type": "code",
   "execution_count": 6,
   "id": "b0ecc953",
   "metadata": {},
   "outputs": [],
   "source": [
    "for i in range(0, len(df_list)):\n",
    "#     df_list_clean[i]['Percent_Area'] = df_list_clean[i]['Area']/sum(np.array(df_list_clean[i]['Area']))\n",
    "#     df_list_clean[i]['Percent_Height'] = df_list_clean[i]['Height']/sum(np.array(df_list_clean[i]['Height']))\n",
    "    # Percentage-based normalization aka. Total Sum normalization\n",
    "    df_list[i]['sample_name'] = indi_file_list[i].split(\"\\\\\")[-1].split(\".\")[0] # truncate the name of the sample file name"
   ]
  },
  {
   "cell_type": "markdown",
   "id": "1c1acaba",
   "metadata": {},
   "source": [
    "### Grouping compounds based on Retention time"
   ]
  },
  {
   "cell_type": "code",
   "execution_count": 7,
   "id": "b0e61b9b",
   "metadata": {},
   "outputs": [],
   "source": [
    "# Combine all subset_df together\n",
    "combined_dfs1 = pd.concat(df_list, ignore_index=True)"
   ]
  },
  {
   "cell_type": "code",
   "execution_count": 8,
   "id": "755c9b73",
   "metadata": {},
   "outputs": [],
   "source": [
    "# apply limit of detection (min. Area = 100000)\n",
    "new_combined_dfs1 = combined_dfs1[combined_dfs1.Area > 100000]"
   ]
  },
  {
   "cell_type": "code",
   "execution_count": 9,
   "id": "5df80ae8",
   "metadata": {},
   "outputs": [],
   "source": [
    "center_X = np.array(new_combined_dfs1.iloc[:, 1])\n",
    "new_center_X = center_X.reshape(-1, 1)"
   ]
  },
  {
   "cell_type": "code",
   "execution_count": 10,
   "id": "92ed1421",
   "metadata": {},
   "outputs": [],
   "source": [
    "kmeans = KMeans(n_clusters=25, random_state=123)"
   ]
  },
  {
   "cell_type": "code",
   "execution_count": 11,
   "id": "c80dca6e",
   "metadata": {
    "scrolled": true
   },
   "outputs": [
    {
     "name": "stderr",
     "output_type": "stream",
     "text": [
      "C:\\Users\\huyng\\anaconda3\\envs\\arson\\lib\\site-packages\\sklearn\\cluster\\_kmeans.py:870: FutureWarning: The default value of `n_init` will change from 10 to 'auto' in 1.4. Set the value of `n_init` explicitly to suppress the warning\n",
      "  warnings.warn(\n"
     ]
    },
    {
     "data": {
      "text/html": [
       "<style>#sk-container-id-1 {color: black;background-color: white;}#sk-container-id-1 pre{padding: 0;}#sk-container-id-1 div.sk-toggleable {background-color: white;}#sk-container-id-1 label.sk-toggleable__label {cursor: pointer;display: block;width: 100%;margin-bottom: 0;padding: 0.3em;box-sizing: border-box;text-align: center;}#sk-container-id-1 label.sk-toggleable__label-arrow:before {content: \"▸\";float: left;margin-right: 0.25em;color: #696969;}#sk-container-id-1 label.sk-toggleable__label-arrow:hover:before {color: black;}#sk-container-id-1 div.sk-estimator:hover label.sk-toggleable__label-arrow:before {color: black;}#sk-container-id-1 div.sk-toggleable__content {max-height: 0;max-width: 0;overflow: hidden;text-align: left;background-color: #f0f8ff;}#sk-container-id-1 div.sk-toggleable__content pre {margin: 0.2em;color: black;border-radius: 0.25em;background-color: #f0f8ff;}#sk-container-id-1 input.sk-toggleable__control:checked~div.sk-toggleable__content {max-height: 200px;max-width: 100%;overflow: auto;}#sk-container-id-1 input.sk-toggleable__control:checked~label.sk-toggleable__label-arrow:before {content: \"▾\";}#sk-container-id-1 div.sk-estimator input.sk-toggleable__control:checked~label.sk-toggleable__label {background-color: #d4ebff;}#sk-container-id-1 div.sk-label input.sk-toggleable__control:checked~label.sk-toggleable__label {background-color: #d4ebff;}#sk-container-id-1 input.sk-hidden--visually {border: 0;clip: rect(1px 1px 1px 1px);clip: rect(1px, 1px, 1px, 1px);height: 1px;margin: -1px;overflow: hidden;padding: 0;position: absolute;width: 1px;}#sk-container-id-1 div.sk-estimator {font-family: monospace;background-color: #f0f8ff;border: 1px dotted black;border-radius: 0.25em;box-sizing: border-box;margin-bottom: 0.5em;}#sk-container-id-1 div.sk-estimator:hover {background-color: #d4ebff;}#sk-container-id-1 div.sk-parallel-item::after {content: \"\";width: 100%;border-bottom: 1px solid gray;flex-grow: 1;}#sk-container-id-1 div.sk-label:hover label.sk-toggleable__label {background-color: #d4ebff;}#sk-container-id-1 div.sk-serial::before {content: \"\";position: absolute;border-left: 1px solid gray;box-sizing: border-box;top: 0;bottom: 0;left: 50%;z-index: 0;}#sk-container-id-1 div.sk-serial {display: flex;flex-direction: column;align-items: center;background-color: white;padding-right: 0.2em;padding-left: 0.2em;position: relative;}#sk-container-id-1 div.sk-item {position: relative;z-index: 1;}#sk-container-id-1 div.sk-parallel {display: flex;align-items: stretch;justify-content: center;background-color: white;position: relative;}#sk-container-id-1 div.sk-item::before, #sk-container-id-1 div.sk-parallel-item::before {content: \"\";position: absolute;border-left: 1px solid gray;box-sizing: border-box;top: 0;bottom: 0;left: 50%;z-index: -1;}#sk-container-id-1 div.sk-parallel-item {display: flex;flex-direction: column;z-index: 1;position: relative;background-color: white;}#sk-container-id-1 div.sk-parallel-item:first-child::after {align-self: flex-end;width: 50%;}#sk-container-id-1 div.sk-parallel-item:last-child::after {align-self: flex-start;width: 50%;}#sk-container-id-1 div.sk-parallel-item:only-child::after {width: 0;}#sk-container-id-1 div.sk-dashed-wrapped {border: 1px dashed gray;margin: 0 0.4em 0.5em 0.4em;box-sizing: border-box;padding-bottom: 0.4em;background-color: white;}#sk-container-id-1 div.sk-label label {font-family: monospace;font-weight: bold;display: inline-block;line-height: 1.2em;}#sk-container-id-1 div.sk-label-container {text-align: center;}#sk-container-id-1 div.sk-container {/* jupyter's `normalize.less` sets `[hidden] { display: none; }` but bootstrap.min.css set `[hidden] { display: none !important; }` so we also need the `!important` here to be able to override the default hidden behavior on the sphinx rendered scikit-learn.org. See: https://github.com/scikit-learn/scikit-learn/issues/21755 */display: inline-block !important;position: relative;}#sk-container-id-1 div.sk-text-repr-fallback {display: none;}</style><div id=\"sk-container-id-1\" class=\"sk-top-container\"><div class=\"sk-text-repr-fallback\"><pre>KMeans(n_clusters=25, random_state=123)</pre><b>In a Jupyter environment, please rerun this cell to show the HTML representation or trust the notebook. <br />On GitHub, the HTML representation is unable to render, please try loading this page with nbviewer.org.</b></div><div class=\"sk-container\" hidden><div class=\"sk-item\"><div class=\"sk-estimator sk-toggleable\"><input class=\"sk-toggleable__control sk-hidden--visually\" id=\"sk-estimator-id-1\" type=\"checkbox\" checked><label for=\"sk-estimator-id-1\" class=\"sk-toggleable__label sk-toggleable__label-arrow\">KMeans</label><div class=\"sk-toggleable__content\"><pre>KMeans(n_clusters=25, random_state=123)</pre></div></div></div></div></div>"
      ],
      "text/plain": [
       "KMeans(n_clusters=25, random_state=123)"
      ]
     },
     "execution_count": 11,
     "metadata": {},
     "output_type": "execute_result"
    }
   ],
   "source": [
    "kmeans.fit(new_center_X)"
   ]
  },
  {
   "cell_type": "code",
   "execution_count": 12,
   "id": "b4e59e2e",
   "metadata": {
    "scrolled": true
   },
   "outputs": [],
   "source": [
    "clusters = kmeans.predict(new_center_X)"
   ]
  },
  {
   "cell_type": "code",
   "execution_count": 13,
   "id": "75634282",
   "metadata": {
    "scrolled": true
   },
   "outputs": [],
   "source": [
    "labels = kmeans.labels_\n",
    "centroids = kmeans.cluster_centers_"
   ]
  },
  {
   "cell_type": "code",
   "execution_count": 24,
   "id": "798c404d",
   "metadata": {},
   "outputs": [
    {
     "name": "stdout",
     "output_type": "stream",
     "text": [
      "[ 0  0  0 ...  3  3 15]\n"
     ]
    }
   ],
   "source": [
    "print(labels)"
   ]
  },
  {
   "cell_type": "code",
   "execution_count": 22,
   "id": "55c3de78",
   "metadata": {},
   "outputs": [
    {
     "data": {
      "image/png": "[encoded data removed]",
      "text/plain": [
       "<Figure size 2160x720 with 1 Axes>"
      ]
     },
     "metadata": {
      "needs_background": "light"
     },
     "output_type": "display_data"
    }
   ],
   "source": [
    "fig, ax = plt.subplots()\n",
    "# Plot the data points and centroids\n",
    "ax.scatter(new_center_X, np.zeros_like(new_center_X), c=labels)\n",
    "# plt.scatter(centroids, np.zeros_like(centroids), c='red', marker='x', s=100)\n",
    "# Set the x and y axis labels\n",
    "\n",
    "# Set the tick label font size\n",
    "ax.tick_params(axis='both', labelsize=25)\n",
    "fig.set_size_inches(30, 10)\n",
    "fig.tight_layout()\n",
    "plt.show()"
   ]
  },
  {
   "cell_type": "code",
   "execution_count": 584,
   "id": "3fea5065",
   "metadata": {},
   "outputs": [],
   "source": [
    "# Initialize the compound_group column filled with NA values\n",
    "combined_dfs1['compound_group'] = float('nan')\n",
    "i = 1\n",
    "\n",
    "# Grouping compounds based on RT1, RT2, and Ion 1\n",
    "for row in range(0, combined_dfs1.shape[0]):\n",
    "    # filter data by index\n",
    "    rt1 = combined_dfs1.loc[row,'RT1']\n",
    "    rt2 = combined_dfs1.loc[row,'RT2']\n",
    "    ion1 = combined_dfs1.loc[row,'Ion1']\n",
    "    idx = combined_dfs1[(combined_dfs1.RT1 < (rt1 + 0.4)) & \n",
    "         (combined_dfs1.RT1 > (rt1 - 0.4)) &\n",
    "         (combined_dfs1.RT2 < (rt2 + 0.125)) & \n",
    "         (combined_dfs1.RT2 > (rt2 - 0.125)) &\n",
    "         (combined_dfs1.Ion1 < (ion1 + 0.1)) & \n",
    "         (combined_dfs1.Ion1 > (ion1 - 0.1)) &  \n",
    "         (combined_dfs1.compound_group.isna())].index.values\n",
    "    if np.any(idx):\n",
    "        combined_dfs1.loc[idx, 'compound_group'] = \"Compound_\" + str(i) + \".\"\n",
    "        i = i + 1 \n",
    "    else:\n",
    "        continue"
   ]
  },
  {
   "cell_type": "markdown",
   "id": "e10eb3f7",
   "metadata": {},
   "source": [
    "### Data Normalization"
   ]
  },
  {
   "cell_type": "markdown",
   "id": "eeddc7d7",
   "metadata": {},
   "source": [
    "### Similar Compounds found across samples"
   ]
  },
  {
   "cell_type": "code",
   "execution_count": 587,
   "id": "80c2d2ad",
   "metadata": {
    "scrolled": true
   },
   "outputs": [],
   "source": [
    "all_similar_compounds_idx = np.array([])\n",
    "all_other_compounds_idx = np.array([])\n",
    "all_unique_compounds_idx = np.array([])\n",
    "\n",
    "for comp_grp in set(combined_dfs1['compound_group']):\n",
    "    # filter data by index, ALWAYS DO THIS INSTEAD OF CREATE SUBSET DATAFRAME\n",
    "    idx = combined_dfs1[combined_dfs1['compound_group'].str.contains(comp_grp, \n",
    "                                                                   flags = re.IGNORECASE, \n",
    "                                                                   regex =  False)].index.values\n",
    "    \n",
    "    if len(set(combined_dfs1.loc[idx, 'sample_name'])) > (len(indi_IL_file_list) - 1):\n",
    "        all_similar_compounds_idx = np.append(all_similar_compounds_idx, idx)\n",
    "        \n",
    "    elif len(set(combined_dfs1.loc[idx, 'sample_name'])) < 2:\n",
    "        all_unique_compounds_idx = np.append(all_unique_compounds_idx, idx)\n",
    "        \n",
    "    else:\n",
    "        all_other_compounds_idx = np.append(all_other_compounds_idx, idx)"
   ]
  },
  {
   "cell_type": "code",
   "execution_count": 590,
   "id": "ea730cb4",
   "metadata": {},
   "outputs": [],
   "source": [
    "similar_compounds = combined_dfs1.iloc[all_similar_compounds_idx]\n",
    "other_compounds = combined_dfs1.iloc[all_other_compounds_idx]\n",
    "unique_compounds = combined_dfs1.iloc[all_unique_compounds_idx]"
   ]
  }
 ],
 "metadata": {
  "kernelspec": {
   "display_name": "Python 3 (ipykernel)",
   "language": "python",
   "name": "python3"
  },
  "language_info": {
   "codemirror_mode": {
    "name": "ipython",
    "version": 3
   },
   "file_extension": ".py",
   "mimetype": "text/x-python",
   "name": "python",
   "nbconvert_exporter": "python",
   "pygments_lexer": "ipython3",
   "version": "3.10.11"
  }
 },
 "nbformat": 4,
 "nbformat_minor": 5
}
